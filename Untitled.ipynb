{
 "cells": [
  {
   "cell_type": "markdown",
   "metadata": {},
   "source": [
    "![Customer Segmentation](IMG/Title.png)"
   ]
  },
  {
   "cell_type": "markdown",
   "metadata": {},
   "source": [
    "<p style=\"font-size:30px;text-align:center;color:rgba(66,178,163,255)\">Customer Segmentation In Real World</p>\n",
    "<p style=\"font-size:20px;text-align:center;color:rgba(66,178,163,255)\">By Kaveh Kavianpour</p>\n",
    "<p style=\"font-size:10px;text-align:center;color:rgba(66,178,163,255)\">Summer 2022</p>"
   ]
  },
  {
   "cell_type": "markdown",
   "metadata": {},
   "source": [
    "<h1>0-Introduction and Initialization</h1>"
   ]
  },
  {
   "cell_type": "markdown",
   "metadata": {},
   "source": [
    "In this project a dataset is given and based on the dataset we should do a best customer segmentation."
   ]
  },
  {
   "cell_type": "markdown",
   "metadata": {},
   "source": [
    "⬇ Import Libraries "
   ]
  },
  {
   "cell_type": "code",
   "execution_count": 1,
   "metadata": {},
   "outputs": [],
   "source": [
    "import matplotlib.pyplot as plt\n",
    "import pandas as pd\n",
    "import re\n",
    "from nltk.tokenize import regexp_tokenize,word_tokenize\n",
    "from nltk import bigrams,trigrams\n",
    "import os.path\n",
    "import pickle\n",
    "import time\n",
    "import seaborn as sns\n",
    "import warnings\n",
    "import numpy as np"
   ]
  },
  {
   "cell_type": "markdown",
   "metadata": {},
   "source": [
    "✔✔✔ Because the dataset location is Iran, Having Iranian provinces will be useful. So,\n",
    "Reading all Iranian provinces from Wikipedia and save in all_provinces List and save them in a pickle file.👌"
   ]
  },
  {
   "cell_type": "code",
   "execution_count": 2,
   "metadata": {},
   "outputs": [],
   "source": [
    "import requests\n",
    "\n",
    "if not os.path.exists('data\\\\all_provinces.pkl') :\n",
    "    url='https://fa.wikipedia.org/wiki/%D9%81%D9%87%D8%B1%D8%B3%D8%AA_%D8%A7%D8%B3%D8%AA%D8%A7%D9%86%E2%80%8C%D9%87%D8%A7%DB%8C_%D8%A7%DB%8C%D8%B1%D8%A7%D9%86'\n",
    "    r=requests.get(url)\n",
    "    text=r.text\n",
    "    pattern=r'استان [\\u0621-\\u0628\\u062A-\\u063A\\u0641-\\u0642\\u0644-\\u0648\\u064E-\\u0651\\u0655\\u067E\\u0686\\u0698\\u06A9\\u06AF\\u06BE\\u06CC\\u0020\\u2000-\\u200F\\u2028-\\u202F]*[\"]'\n",
    "    token=re.findall(pattern,text)\n",
    "    all_provinces=set(str.replace('استان','') for str in token)\n",
    "    all_provinces=set(str.replace('\"','') for str in all_provinces)\n",
    "    all_provinces=set(str.strip() for str in all_provinces)\n",
    "    #some corretion in characters\n",
    "    all_provinces=set(character_arabic_correction(str) for str in all_provinces)\n",
    "    with open('data\\\\all_provinces.pkl', 'wb') as f:\n",
    "        pickle.dump(all_provinces, f)\n",
    "else:\n",
    "    with open('data\\\\all_provinces.pkl', 'rb') as f:\n",
    "        all_provinces = pickle.load(f)\n"
   ]
  },
  {
   "cell_type": "markdown",
   "metadata": {},
   "source": [
    "👨‍🔬Related Functions"
   ]
  },
  {
   "cell_type": "code",
   "execution_count": 3,
   "metadata": {},
   "outputs": [
    {
     "name": "stdout",
     "output_type": "stream",
     "text": [
      "\u001b[1m\u001b[90mNotebook Color Scheme:\u001b[0m\n"
     ]
    },
    {
     "data": {
      "image/png": "[encoded data removed]",
      "text/plain": [
       "<Figure size 288x72 with 1 Axes>"
      ]
     },
     "metadata": {
      "needs_background": "light"
     },
     "output_type": "display_data"
    }
   ],
   "source": [
    "def code_extractor(Raw_String):\n",
    "    ''' We Use This function for extracting numeric value inside each field\n",
    "    Args:\n",
    "        Raw_String(str):a String with numeric value inside\n",
    "    Returns:\n",
    "        Code(int):numeric value inside the string\n",
    "    Note:\n",
    "        REGEX has been used for this reason'''\n",
    "    pattern=r\"[^\\d]\"\n",
    "    Refined_Code=int(re.sub(pattern,'',Raw_String) )\n",
    "    return Refined_Code\n",
    "#------------------------------------------------\n",
    "\n",
    "def province_extractor(Raw_string):\n",
    "    ''' We Use This function for extracting province name inside each field\n",
    "    Args:\n",
    "        Raw_String(str):a String with province name inside\n",
    "    Returns:\n",
    "        Province_name(String):province name inside the string\n",
    "    Note:\n",
    "        REGEX has been used for this reason'''\n",
    "    Raw_string=character_arabic_correction(Raw_string)    \n",
    "    pattern=r\"(\\w+)\"\n",
    "    token_list=regexp_tokenize(Raw_string,pattern)\n",
    "    return (token_list[0],token_list[1])\n",
    "# ----------------------------------------------------\n",
    "def province_locator(Field1):\n",
    "    '''we use this function to observe a field of DataFrame and\n",
    "    compare all value inside to define one province for each row\n",
    "        Args:\n",
    "            Field1:fields that may be have province name inside\n",
    "    Returns:\n",
    "        Province_name(String):province name inside the 3 fields\n",
    "    Note:\n",
    "        we used the data that we scrapted from wikipedia'''\n",
    "    \n",
    "    #some corretion in characters and diffrent spelling to compare with wikipedia list\n",
    "    Field1=character_arabic_correction(Field1)\n",
    "    Field1=Field1.replace(character_arabic_correction('كهكلويه و بوير احمد'),character_arabic_correction('كهگيلويه و بويراحمد'))\n",
    "                          \n",
    "    \n",
    "    Field1=Field1.replace('-',' ')\n",
    "    tokenized_field=word_tokenize(Field1)\n",
    "    output=[token for token in tokenized_field if token in all_provinces]\n",
    "    #Second try with bigram\n",
    "    if len(output)==0:\n",
    "        bigram_token=list(bigrams(tokenized_field))\n",
    "        output=[' '.join(token) for token in bigram_token if ' '.join(token) in all_provinces]\n",
    "    #third try with trigram\n",
    "    if len(output)==0:\n",
    "        trigram_token=list(trigrams(tokenized_field))\n",
    "        output=[' '.join(token) for token in trigram_token if ' '.join(token) in all_provinces]\n",
    "    if len(output)!=0:\n",
    "        return output[0]\n",
    "    else:\n",
    "        return \" \"\n",
    "#-----------------------------------------------------------\n",
    "def city_locator_inside_province(city):\n",
    "    '''we use this function to find province for city in address\n",
    "    field\n",
    "        Args:\n",
    "            city:a string that may be a city name\n",
    "    Returns:\n",
    "        Province_name(String):province name \n",
    "    Note:\n",
    "        we used the data that we scrapted from wikipedia'''\n",
    "    city=character_arabic_correction(city)\n",
    "    if not os.path.exists('data\\\\city_province.pkl') :\n",
    "        city_province={}\n",
    "    else:\n",
    "        with open('data\\\\city_province.pkl', 'rb') as f:\n",
    "            city_province = pickle.load(f)\n",
    "    if city in city_province.keys():\n",
    "        return city_province[city]\n",
    "    else:\n",
    "        text=\" \"\n",
    "        if not os.path.exists('data\\\\all_city.txt') :\n",
    "            url='https://fa.wikipedia.org/wiki/%D9%81%D9%87%D8%B1%D8%B3%D8%AA_%D8%B4%D9%87%D8%B1%D9%87%D8%A7%DB%8C_%D8%A7%DB%8C%D8%B1%D8%A7%D9%86'\n",
    "            r=requests.get(url)\n",
    "            text=r.text\n",
    "            text=character_arabic_correction(text)\n",
    "            file=open('data\\\\all_city.txt',mode='w',encoding='utf-8')\n",
    "            file.write(text)\n",
    "            file.close()\n",
    "        else:\n",
    "            file=open('data\\\\all_city.txt',mode='r',encoding='utf-8')\n",
    "            text=file.read()\n",
    "            file.close()\n",
    "\n",
    "        pattern=r'<a href=[\"].*[\" ]title=[\"].*[\"]'+'>'+city\n",
    "        token=re.findall(pattern,text)\n",
    "        if len(token) !=0:  \n",
    "            pattern=r'[\"]/wiki/[^\"]*[\"]'\n",
    "            url=re.findall(pattern,token[0])\n",
    "            url_city='https://fa.wikipedia.org'+url[0].replace('\"','')\n",
    "            r=requests.get(url_city)\n",
    "            text=r.text\n",
    "            pattern=r'استان [\\u0621-\\u0628\\u062A-\\u063A\\u0641-\\u0642\\u0644-\\u0648\\u064E-\\u0651\\u0655\\u067E\\u0686\\u0698\\u06A9\\u06AF\\u06BE\\u06CC\\u0020\\u2000-\\u200F\\u2028-\\u202F]*'\n",
    "            token_list=re.search(pattern,text)\n",
    "            if token_list != None:\n",
    "                token=token_list.group()\n",
    "                province=token.replace('استان','')\n",
    "                city_province[city]=province\n",
    "                with open('data\\\\city_province.pkl', 'wb') as f:\n",
    "                    pickle.dump(city_province, f)\n",
    "                return province\n",
    "        \n",
    "        return \" \"\n",
    "#----------------------------------------------------------\n",
    "def address_to_province(address):\n",
    "    \n",
    "    address=character_arabic_correction(address)\n",
    "    address=puncatation_remover(address)                     \n",
    "    address_tokenized=word_tokenize(address)\n",
    "    province=city_locator_inside_province(address_tokenized[0])\n",
    "    if province==\" \":\n",
    "        city_locator_inside_province(' '.join(address_tokenized[:2]))\n",
    "    if province==\" \":\n",
    "        city_locator_inside_province(' '.join(address_tokenized[:3]))\n",
    "    return province\n",
    "# ----------------------------------------------------------\n",
    "def province_locator_apply_for_series(Series1, Series2,Series3):\n",
    "    '''we use this function for apply province locator on \n",
    "    3 series\n",
    "    Args:\n",
    "        Series1, Series2,Series3:series that may be have province name inside\n",
    "    Returns:\n",
    "        Province_name(String):province name inside the 3 series\n",
    "    Note:\n",
    "        we used the data that we scrapted from wikipedia'''\n",
    "    list_final=[]\n",
    "    for index in range(1,len(Series1)+1):\n",
    "        province=province_locator(Series1[index])\n",
    "        if province==' ':\n",
    "             province=province_locator(Series2[index])\n",
    "        if province==' ':\n",
    "             province=province_locator(Series3[index])\n",
    "        if province==' ':\n",
    "                province=address_to_province(Series3[index])\n",
    "        list_final.append(province)\n",
    "#     Series_final=Series1.apply(province_locator)+Series2.apply(province_locator)+Series3.apply(province_locator)\n",
    "    return list_final\n",
    "# ------------------------------------------------------------\n",
    "def character_arabic_correction(string):\n",
    "    #correction for ی\n",
    "    string=string.replace('\\u0626','\\u06cc')\n",
    "    string=string.replace('\\u064a','\\u06cc')\n",
    "    string=string.replace('\\u0649','\\u06cc')\n",
    "    #correction for ک\n",
    "    string=string.replace('\\u06d5','\\u06be')\n",
    "    #correction for ه\n",
    "    string=string.replace('\\u0643','\\u06a9')\n",
    "    return string\n",
    "#-------------------------------------------------------------\n",
    "def puncatation_remover(string):\n",
    "    string=string.replace('-',' ')\n",
    "    string=string.replace('شهرستان',' ')\n",
    "    string=string.replace('\"',' ')\n",
    "    string=string.replace('،',' ')\n",
    "    string=string.replace('.',' ')\n",
    "    return string\n",
    "#-------------------------------------------------------------\n",
    "def province_validator(string):\n",
    "    if string in all_provinces:\n",
    "        return string\n",
    "    else:\n",
    "        return 'نامشخص'\n",
    "#-------------------------------------------------------------\n",
    "def date_reformatter(String):\n",
    "    String=str(String).replace(\"/\",\"-\")\n",
    "    pattern=r'\\d+-\\d+-\\d+'\n",
    "    return re.search(pattern,String).group()\n",
    "#--------------------------------------------------------------\n",
    "# Custom colors\n",
    "class clr:\n",
    "    S = '\\033[1m' + '\\033[90m'\n",
    "    E = '\\033[0m'\n",
    "my_colors = [\"#fccc44\", \"#42b2a3\", \"#312553\", \"#605093\"]\n",
    "sns.palplot(sns.color_palette(my_colors))\n",
    "print(clr.S+\"Notebook Color Scheme:\"+clr.E)\n",
    "plt.show()  \n",
    "\n",
    "# Environment check\n",
    "warnings.filterwarnings('ignore')"
   ]
  },
  {
   "cell_type": "markdown",
   "metadata": {},
   "source": [
    "<h1>1-The Data & EDA</h1>"
   ]
  },
  {
   "cell_type": "markdown",
   "metadata": {},
   "source": [
    "![EDA](IMG/eda.jpg)"
   ]
  },
  {
   "cell_type": "code",
   "execution_count": 4,
   "metadata": {},
   "outputs": [],
   "source": [
    "data=pd.ExcelFile('Data.xls')\n",
    "df=data.parse(0)"
   ]
  },
  {
   "cell_type": "markdown",
   "metadata": {},
   "source": [
    "📌Brief peak on Data"
   ]
  },
  {
   "cell_type": "code",
   "execution_count": 5,
   "metadata": {},
   "outputs": [
    {
     "data": {
      "text/html": [
       "<div>\n",
       "<style scoped>\n",
       "    .dataframe tbody tr th:only-of-type {\n",
       "        vertical-align: middle;\n",
       "    }\n",
       "\n",
       "    .dataframe tbody tr th {\n",
       "        vertical-align: top;\n",
       "    }\n",
       "\n",
       "    .dataframe thead th {\n",
       "        text-align: right;\n",
       "    }\n",
       "</style>\n",
       "<table border=\"1\" class=\"dataframe\">\n",
       "  <thead>\n",
       "    <tr style=\"text-align: right;\">\n",
       "      <th></th>\n",
       "      <th>Unnamed: 0</th>\n",
       "      <th>ردیف</th>\n",
       "      <th>بيمه گذار</th>\n",
       "      <th>فعاليت شغلي اصلي</th>\n",
       "      <th>صدور بيمه نامه به صورت با نام</th>\n",
       "      <th>معرف</th>\n",
       "      <th>واحد صدور</th>\n",
       "      <th>تاريخ پيشنهاد</th>\n",
       "      <th>تاریخ شروع</th>\n",
       "      <th>تاریخ پایان</th>\n",
       "      <th>...</th>\n",
       "      <th>شماره بیمه نامه سال قبل</th>\n",
       "      <th>سابقه خسارت</th>\n",
       "      <th>تخفيف مديريتي</th>\n",
       "      <th>محاسبه کارشناسي؟</th>\n",
       "      <th>حق بيمه</th>\n",
       "      <th>ماليات بر ارزش  افزوده</th>\n",
       "      <th>عوارض شهرداري</th>\n",
       "      <th>حق بيمه کل(با ماليات)</th>\n",
       "      <th>واحد پیشنهاد دهنده</th>\n",
       "      <th>درصد تشديد خطر</th>\n",
       "    </tr>\n",
       "  </thead>\n",
       "  <tbody>\n",
       "    <tr>\n",
       "      <th>0</th>\n",
       "      <td>NaN</td>\n",
       "      <td>1</td>\n",
       "      <td>عبدالله خدامي قادهاري كد 241</td>\n",
       "      <td>حفر چاه با دستگاه  ( مکانيزه )</td>\n",
       "      <td>خير</td>\n",
       "      <td>مهراب عزت آبادي پور كد 1754</td>\n",
       "      <td>هرمزگان-بندرعباس كد 10087</td>\n",
       "      <td>2014-09-03 00:00:00</td>\n",
       "      <td>2014-09-04 00:00:00</td>\n",
       "      <td>2015-09-04 00:00:00</td>\n",
       "      <td>...</td>\n",
       "      <td>NaN</td>\n",
       "      <td>0</td>\n",
       "      <td>0</td>\n",
       "      <td>خير</td>\n",
       "      <td>2205100</td>\n",
       "      <td>79384</td>\n",
       "      <td>52922</td>\n",
       "      <td>2337406</td>\n",
       "      <td>هرمزگان-بندرعباس كد 10087</td>\n",
       "      <td>0.0</td>\n",
       "    </tr>\n",
       "    <tr>\n",
       "      <th>1</th>\n",
       "      <td>NaN</td>\n",
       "      <td>2</td>\n",
       "      <td>جاسم کرمي كد 158</td>\n",
       "      <td>فروشنده بستني</td>\n",
       "      <td>خير</td>\n",
       "      <td>هرمزگان-بندرعباس كد 10087</td>\n",
       "      <td>هرمزگان-بندرعباس كد 10087</td>\n",
       "      <td>NaN</td>\n",
       "      <td>2014-09-12 00:00:00</td>\n",
       "      <td>2015-09-12 00:00:00</td>\n",
       "      <td>...</td>\n",
       "      <td>9101731</td>\n",
       "      <td>0</td>\n",
       "      <td>0</td>\n",
       "      <td>خير</td>\n",
       "      <td>1630200</td>\n",
       "      <td>58687</td>\n",
       "      <td>39125</td>\n",
       "      <td>1728012</td>\n",
       "      <td>هرمزگان-بندرعباس كد 10087</td>\n",
       "      <td>0.0</td>\n",
       "    </tr>\n",
       "    <tr>\n",
       "      <th>2</th>\n",
       "      <td>NaN</td>\n",
       "      <td>3</td>\n",
       "      <td>حيدر اکحوان كد 208</td>\n",
       "      <td>نصب ترانس و تير برق</td>\n",
       "      <td>خير</td>\n",
       "      <td>طاهره رضايي نيا كد 1865</td>\n",
       "      <td>ايلام-ايلام كد 10076</td>\n",
       "      <td>NaN</td>\n",
       "      <td>2014-09-04 00:00:00</td>\n",
       "      <td>2014-11-04 00:00:00</td>\n",
       "      <td>...</td>\n",
       "      <td>NaN</td>\n",
       "      <td>0</td>\n",
       "      <td>0</td>\n",
       "      <td>خير</td>\n",
       "      <td>1087000</td>\n",
       "      <td>39132</td>\n",
       "      <td>26088</td>\n",
       "      <td>1152220</td>\n",
       "      <td>ايلام-ايلام كد 10076</td>\n",
       "      <td>0.0</td>\n",
       "    </tr>\n",
       "    <tr>\n",
       "      <th>3</th>\n",
       "      <td>NaN</td>\n",
       "      <td>4</td>\n",
       "      <td>محمدرضا راعي فرد كد 227</td>\n",
       "      <td>کارکنان اداري و دفتري</td>\n",
       "      <td>خير</td>\n",
       "      <td>ساره خاتون براهويي كد 1113</td>\n",
       "      <td>بيرجند خراسان جنوبي كد 10028</td>\n",
       "      <td>2014-09-03 00:00:00</td>\n",
       "      <td>2014-09-05 00:00:00</td>\n",
       "      <td>2015-09-05 00:00:00</td>\n",
       "      <td>...</td>\n",
       "      <td>4-2-9101747</td>\n",
       "      <td>0</td>\n",
       "      <td>0</td>\n",
       "      <td>خير</td>\n",
       "      <td>2198600</td>\n",
       "      <td>79150</td>\n",
       "      <td>52766</td>\n",
       "      <td>2330516</td>\n",
       "      <td>بيرجند خراسان جنوبي كد 10028</td>\n",
       "      <td>0.0</td>\n",
       "    </tr>\n",
       "    <tr>\n",
       "      <th>4</th>\n",
       "      <td>NaN</td>\n",
       "      <td>5</td>\n",
       "      <td>جواد رمضانيان صادق كد 234</td>\n",
       "      <td>آبکاري فلزات</td>\n",
       "      <td>بله</td>\n",
       "      <td>ريحانه ترکمن كد 1420</td>\n",
       "      <td>مشهد خراسان رضوي كد 10021</td>\n",
       "      <td>2014-09-04 00:00:00</td>\n",
       "      <td>2014-09-06 00:00:00</td>\n",
       "      <td>2015-09-06 00:00:00</td>\n",
       "      <td>...</td>\n",
       "      <td>NaN</td>\n",
       "      <td>0</td>\n",
       "      <td>0</td>\n",
       "      <td>خير</td>\n",
       "      <td>6593100</td>\n",
       "      <td>237352</td>\n",
       "      <td>158234</td>\n",
       "      <td>6988686</td>\n",
       "      <td>مشهد خراسان رضوي كد 10021</td>\n",
       "      <td>20.0</td>\n",
       "    </tr>\n",
       "  </tbody>\n",
       "</table>\n",
       "<p>5 rows × 32 columns</p>\n",
       "</div>"
      ],
      "text/plain": [
       "   Unnamed: 0  ردیف                     بيمه گذار  \\\n",
       "0         NaN     1  عبدالله خدامي قادهاري كد 241   \n",
       "1         NaN     2              جاسم کرمي كد 158   \n",
       "2         NaN     3            حيدر اکحوان كد 208   \n",
       "3         NaN     4       محمدرضا راعي فرد كد 227   \n",
       "4         NaN     5     جواد رمضانيان صادق كد 234   \n",
       "\n",
       "                فعاليت شغلي اصلي  صدور بيمه نامه به صورت با نام  \\\n",
       "0  حفر چاه با دستگاه  ( مکانيزه )                           خير   \n",
       "1                   فروشنده بستني                           خير   \n",
       "2             نصب ترانس و تير برق                           خير   \n",
       "3           کارکنان اداري و دفتري                           خير   \n",
       "4                    آبکاري فلزات                           بله   \n",
       "\n",
       "                          معرف                     واحد صدور  \\\n",
       "0  مهراب عزت آبادي پور كد 1754     هرمزگان-بندرعباس كد 10087   \n",
       "1    هرمزگان-بندرعباس كد 10087     هرمزگان-بندرعباس كد 10087   \n",
       "2      طاهره رضايي نيا كد 1865          ايلام-ايلام كد 10076   \n",
       "3   ساره خاتون براهويي كد 1113  بيرجند خراسان جنوبي كد 10028   \n",
       "4         ريحانه ترکمن كد 1420     مشهد خراسان رضوي كد 10021   \n",
       "\n",
       "         تاريخ پيشنهاد           تاریخ شروع          تاریخ پایان  ...  \\\n",
       "0  2014-09-03 00:00:00  2014-09-04 00:00:00  2015-09-04 00:00:00  ...   \n",
       "1                  NaN  2014-09-12 00:00:00  2015-09-12 00:00:00  ...   \n",
       "2                  NaN  2014-09-04 00:00:00  2014-11-04 00:00:00  ...   \n",
       "3  2014-09-03 00:00:00  2014-09-05 00:00:00  2015-09-05 00:00:00  ...   \n",
       "4  2014-09-04 00:00:00  2014-09-06 00:00:00  2015-09-06 00:00:00  ...   \n",
       "\n",
       "  شماره بیمه نامه سال قبل  سابقه خسارت تخفيف مديريتي محاسبه کارشناسي؟  \\\n",
       "0                     NaN            0             0              خير   \n",
       "1                 9101731            0             0              خير   \n",
       "2                     NaN            0             0              خير   \n",
       "3             4-2-9101747            0             0              خير   \n",
       "4                     NaN            0             0              خير   \n",
       "\n",
       "   حق بيمه  ماليات بر ارزش  افزوده  عوارض شهرداري  حق بيمه کل(با ماليات)  \\\n",
       "0  2205100                   79384          52922                2337406   \n",
       "1  1630200                   58687          39125                1728012   \n",
       "2  1087000                   39132          26088                1152220   \n",
       "3  2198600                   79150          52766                2330516   \n",
       "4  6593100                  237352         158234                6988686   \n",
       "\n",
       "             واحد پیشنهاد دهنده  درصد تشديد خطر  \n",
       "0     هرمزگان-بندرعباس كد 10087             0.0  \n",
       "1     هرمزگان-بندرعباس كد 10087             0.0  \n",
       "2          ايلام-ايلام كد 10076             0.0  \n",
       "3  بيرجند خراسان جنوبي كد 10028             0.0  \n",
       "4     مشهد خراسان رضوي كد 10021            20.0  \n",
       "\n",
       "[5 rows x 32 columns]"
      ]
     },
     "execution_count": 5,
     "metadata": {},
     "output_type": "execute_result"
    }
   ],
   "source": [
    "df.head()"
   ]
  },
  {
   "cell_type": "code",
   "execution_count": 6,
   "metadata": {},
   "outputs": [
    {
     "name": "stdout",
     "output_type": "stream",
     "text": [
      "\u001b[1m\u001b[90mThe dataset has a size of:\u001b[0m (1054, 32) \n",
      "\n",
      "\u001b[1m\u001b[90mMissing values:\u001b[0m\n"
     ]
    },
    {
     "data": {
      "text/plain": [
       "Unnamed: 0                                     1054\n",
       "ردیف                                              0\n",
       "بيمه گذار                                         0\n",
       "فعاليت شغلي اصلي                                  0\n",
       "صدور بيمه نامه به صورت با نام                     0\n",
       "معرف                                              0\n",
       "واحد صدور                                         0\n",
       "تاريخ پيشنهاد                                   861\n",
       "تاریخ شروع                                        0\n",
       "تاریخ پایان                                       0\n",
       "نحوه محاسبه                                       0\n",
       "مدت                                               0\n",
       "تاريخ صدور                                        0\n",
       "آدرس محل فعاليت                                   0\n",
       "غرامت فوت و نقص عضو ماه عادي هرنفردرهرحادثه       0\n",
       "غرامت فوت ماه حرام هرنفردرهرحادثه                 0\n",
       "غرامت فوت و نقص عضو درطول مدت بيمه                0\n",
       "هزينه پزشكي فرد درهرحادثه                         0\n",
       "هزينه پزشكي درطول مدت بيمه                        0\n",
       "درصد فرانشيز                                      0\n",
       "حداقل مبلغ فرانشيز                                0\n",
       "شرکت بیمه سال قبل                                 0\n",
       "شماره بیمه نامه سال قبل                         640\n",
       "سابقه خسارت                                       0\n",
       "تخفيف مديريتي                                     0\n",
       "محاسبه کارشناسي؟                                  0\n",
       "حق بيمه                                           0\n",
       "ماليات بر ارزش  افزوده                            0\n",
       "عوارض شهرداري                                     0\n",
       "حق بيمه کل(با ماليات)                             0\n",
       "واحد پیشنهاد دهنده                                0\n",
       "درصد تشديد خطر                                    0\n",
       "dtype: int64"
      ]
     },
     "execution_count": 6,
     "metadata": {},
     "output_type": "execute_result"
    }
   ],
   "source": [
    "print(clr.S+\"The dataset has a size of:\"+clr.E, df.shape, \"\\n\")\n",
    "\n",
    "print(clr.S+\"Missing values:\"+clr.E)\n",
    "df.isna().sum()"
   ]
  },
  {
   "cell_type": "markdown",
   "metadata": {},
   "source": [
    "<div class=\"alert simple-alert\">\n",
    "  <p>💡<b>Note</b>: Great News!!! It seems that don't have lots of missing values 🎉</p\n",
    "</div>"
   ]
  },
  {
   "cell_type": "markdown",
   "metadata": {},
   "source": [
    "<h2>1-1 Index</h2>"
   ]
  },
  {
   "cell_type": "markdown",
   "metadata": {},
   "source": [
    "📌First we can choose best option for index:\n",
    "check ردیف"
   ]
  },
  {
   "cell_type": "code",
   "execution_count": 7,
   "metadata": {},
   "outputs": [
    {
     "data": {
      "text/plain": [
       "1054    1\n",
       "362     1\n",
       "360     1\n",
       "359     1\n",
       "358     1\n",
       "       ..\n",
       "698     1\n",
       "697     1\n",
       "696     1\n",
       "695     1\n",
       "1       1\n",
       "Name: ردیف, Length: 1054, dtype: int64"
      ]
     },
     "execution_count": 7,
     "metadata": {},
     "output_type": "execute_result"
    }
   ],
   "source": [
    "df[\"ردیف\"].value_counts()"
   ]
  },
  {
   "cell_type": "markdown",
   "metadata": {},
   "source": [
    "📌It's seem to be ok. Let assign ردیف As index"
   ]
  },
  {
   "cell_type": "code",
   "execution_count": 8,
   "metadata": {},
   "outputs": [],
   "source": [
    "df.set_index('ردیف',drop=True,inplace=True)"
   ]
  },
  {
   "cell_type": "markdown",
   "metadata": {},
   "source": [
    "📌Let's get rid of \"Unnamed: 0\""
   ]
  },
  {
   "cell_type": "code",
   "execution_count": 9,
   "metadata": {},
   "outputs": [],
   "source": [
    "df.drop(\"Unnamed: 0\",axis=1,inplace=True)"
   ]
  },
  {
   "cell_type": "markdown",
   "metadata": {},
   "source": [
    "<h2>1-1 بيمه گذار</h2>"
   ]
  },
  {
   "cell_type": "code",
   "execution_count": 10,
   "metadata": {},
   "outputs": [
    {
     "data": {
      "text/plain": [
       "سازمان تاکسيراني قزوين كد 1764                       8\n",
       "کوروش سليماني مهر كد 1647                            7\n",
       "اداره اوقاف و امور خيريه شهرستان گچساران كد 62015    7\n",
       "عباس محمودنژاد كد 126054                             7\n",
       "نادر فتاحي كد 654                                    6\n",
       "                                                    ..\n",
       "شرکت فناوران لالي كد 594                             1\n",
       "سيد محمد مومني كد 140803                             1\n",
       "حسين اصغري كد 123335                                 1\n",
       "محمدرضا راعي فرد كد 227                              1\n",
       "قدير زالي كد 126890                                  1\n",
       "Name: بيمه گذار, Length: 930, dtype: int64"
      ]
     },
     "execution_count": 10,
     "metadata": {},
     "output_type": "execute_result"
    }
   ],
   "source": [
    "df[\"بيمه گذار\"].value_counts()"
   ]
  },
  {
   "cell_type": "code",
   "execution_count": 11,
   "metadata": {},
   "outputs": [
    {
     "name": "stdout",
     "output_type": "stream",
     "text": [
      "\u001b[1m\u001b[90mThe field has \u001b[0m 930 \u001b[1m\u001b[90m unique values \u001b[0m\n",
      "\n"
     ]
    }
   ],
   "source": [
    "print(clr.S+\"The field has \"+clr.E, len(df[\"بيمه گذار\"].unique()), clr.S+\" unique values \"+clr.E+ \"\\n\")"
   ]
  },
  {
   "cell_type": "markdown",
   "metadata": {},
   "source": [
    "📌 It seem to be useful and because every customer has code and working with code it's much easier extract code will be handy."
   ]
  },
  {
   "cell_type": "markdown",
   "metadata": {},
   "source": [
    "<h2>1-2 فعاليت شغلي اصلي</h2>"
   ]
  },
  {
   "cell_type": "code",
   "execution_count": 12,
   "metadata": {},
   "outputs": [
    {
     "data": {
      "text/plain": [
       "کارکنان شناورهاي باري و صيادي                        41\n",
       "کوره هاي آجر پزي                                     37\n",
       "تعمير و بازسازي ساختمانهاي مسکوني ، تجاري و اداري    27\n",
       "نصب داربست                                           24\n",
       "مرغداري                                              23\n",
       "                                                     ..\n",
       "کارکنان قطع و برش درختان(با نام)                      1\n",
       "ساخت و نصب کانکس                                      1\n",
       "مهندسين ناظر (سيار)                                   1\n",
       "کشت و صنعت                                            1\n",
       "توليد کارتن                                           1\n",
       "Name: فعاليت شغلي اصلي , Length: 290, dtype: int64"
      ]
     },
     "execution_count": 12,
     "metadata": {},
     "output_type": "execute_result"
    }
   ],
   "source": [
    "df.iloc[:,1].value_counts()"
   ]
  },
  {
   "cell_type": "code",
   "execution_count": 13,
   "metadata": {},
   "outputs": [
    {
     "name": "stdout",
     "output_type": "stream",
     "text": [
      "\u001b[1m\u001b[90mThe field has \u001b[0m 290 \u001b[1m\u001b[90m unique values \u001b[0m\n",
      "\n"
     ]
    }
   ],
   "source": [
    "print(clr.S+\"The field has \"+clr.E, len(df.iloc[:,1].unique()), clr.S+\" unique values \"+clr.E+ \"\\n\")"
   ]
  },
  {
   "cell_type": "markdown",
   "metadata": {},
   "source": [
    "📌It seem to be useful. let's convert it to category type and then encode it."
   ]
  },
  {
   "cell_type": "code",
   "execution_count": 14,
   "metadata": {},
   "outputs": [
    {
     "data": {
      "text/plain": [
       "290"
      ]
     },
     "execution_count": 14,
     "metadata": {},
     "output_type": "execute_result"
    }
   ],
   "source": [
    "df.iloc[:,1]=df.iloc[:,1].astype('category')\n",
    "df[\"Job Title ID\"]=df.iloc[:,1].cat.codes\n",
    "job_title_map=dict( zip( df.iloc[:,1].cat.codes, df.iloc[:,1] ) )\n",
    "len(job_title_map)"
   ]
  },
  {
   "cell_type": "markdown",
   "metadata": {},
   "source": [
    "<h2>1-3 صدور بيمه نامه به صورت با نام </h2>"
   ]
  },
  {
   "cell_type": "code",
   "execution_count": 15,
   "metadata": {},
   "outputs": [
    {
     "data": {
      "text/plain": [
       "خير    917\n",
       "بله    137\n",
       "Name: صدور بيمه نامه به صورت با نام, dtype: int64"
      ]
     },
     "execution_count": 15,
     "metadata": {},
     "output_type": "execute_result"
    }
   ],
   "source": [
    "df.iloc[:,2].value_counts()"
   ]
  },
  {
   "cell_type": "code",
   "execution_count": 16,
   "metadata": {},
   "outputs": [
    {
     "name": "stdout",
     "output_type": "stream",
     "text": [
      "\u001b[1m\u001b[90mThe field has \u001b[0m 2 \u001b[1m\u001b[90m unique values \u001b[0m\n",
      "\n"
     ]
    }
   ],
   "source": [
    "print(clr.S+\"The field has \"+clr.E, len(df.iloc[:,2].unique()), clr.S+\" unique values \"+clr.E+ \"\\n\")"
   ]
  },
  {
   "cell_type": "code",
   "execution_count": 17,
   "metadata": {},
   "outputs": [
    {
     "data": {
      "text/html": [
       "<div>\n",
       "<style scoped>\n",
       "    .dataframe tbody tr th:only-of-type {\n",
       "        vertical-align: middle;\n",
       "    }\n",
       "\n",
       "    .dataframe tbody tr th {\n",
       "        vertical-align: top;\n",
       "    }\n",
       "\n",
       "    .dataframe thead th {\n",
       "        text-align: right;\n",
       "    }\n",
       "</style>\n",
       "<table border=\"1\" class=\"dataframe\">\n",
       "  <thead>\n",
       "    <tr style=\"text-align: right;\">\n",
       "      <th></th>\n",
       "      <th>بيمه گذار</th>\n",
       "      <th>فعاليت شغلي اصلي</th>\n",
       "      <th>صدور بيمه نامه به صورت با نام</th>\n",
       "      <th>معرف</th>\n",
       "      <th>واحد صدور</th>\n",
       "      <th>تاريخ پيشنهاد</th>\n",
       "      <th>تاریخ شروع</th>\n",
       "      <th>تاریخ پایان</th>\n",
       "      <th>نحوه محاسبه</th>\n",
       "      <th>مدت</th>\n",
       "      <th>...</th>\n",
       "      <th>سابقه خسارت</th>\n",
       "      <th>تخفيف مديريتي</th>\n",
       "      <th>محاسبه کارشناسي؟</th>\n",
       "      <th>حق بيمه</th>\n",
       "      <th>ماليات بر ارزش  افزوده</th>\n",
       "      <th>عوارض شهرداري</th>\n",
       "      <th>حق بيمه کل(با ماليات)</th>\n",
       "      <th>واحد پیشنهاد دهنده</th>\n",
       "      <th>درصد تشديد خطر</th>\n",
       "      <th>Job Title ID</th>\n",
       "    </tr>\n",
       "    <tr>\n",
       "      <th>ردیف</th>\n",
       "      <th></th>\n",
       "      <th></th>\n",
       "      <th></th>\n",
       "      <th></th>\n",
       "      <th></th>\n",
       "      <th></th>\n",
       "      <th></th>\n",
       "      <th></th>\n",
       "      <th></th>\n",
       "      <th></th>\n",
       "      <th></th>\n",
       "      <th></th>\n",
       "      <th></th>\n",
       "      <th></th>\n",
       "      <th></th>\n",
       "      <th></th>\n",
       "      <th></th>\n",
       "      <th></th>\n",
       "      <th></th>\n",
       "      <th></th>\n",
       "      <th></th>\n",
       "    </tr>\n",
       "  </thead>\n",
       "  <tbody>\n",
       "    <tr>\n",
       "      <th>1</th>\n",
       "      <td>عبدالله خدامي قادهاري كد 241</td>\n",
       "      <td>حفر چاه با دستگاه  ( مکانيزه )</td>\n",
       "      <td>خير</td>\n",
       "      <td>مهراب عزت آبادي پور كد 1754</td>\n",
       "      <td>هرمزگان-بندرعباس كد 10087</td>\n",
       "      <td>2014-09-03 00:00:00</td>\n",
       "      <td>2014-09-04 00:00:00</td>\n",
       "      <td>2015-09-04 00:00:00</td>\n",
       "      <td>يکساله</td>\n",
       "      <td>365</td>\n",
       "      <td>...</td>\n",
       "      <td>0</td>\n",
       "      <td>0</td>\n",
       "      <td>خير</td>\n",
       "      <td>2205100</td>\n",
       "      <td>79384</td>\n",
       "      <td>52922</td>\n",
       "      <td>2337406</td>\n",
       "      <td>هرمزگان-بندرعباس كد 10087</td>\n",
       "      <td>0.0</td>\n",
       "      <td>87</td>\n",
       "    </tr>\n",
       "    <tr>\n",
       "      <th>2</th>\n",
       "      <td>جاسم کرمي كد 158</td>\n",
       "      <td>فروشنده بستني</td>\n",
       "      <td>خير</td>\n",
       "      <td>هرمزگان-بندرعباس كد 10087</td>\n",
       "      <td>هرمزگان-بندرعباس كد 10087</td>\n",
       "      <td>NaN</td>\n",
       "      <td>2014-09-12 00:00:00</td>\n",
       "      <td>2015-09-12 00:00:00</td>\n",
       "      <td>يکساله</td>\n",
       "      <td>365</td>\n",
       "      <td>...</td>\n",
       "      <td>0</td>\n",
       "      <td>0</td>\n",
       "      <td>خير</td>\n",
       "      <td>1630200</td>\n",
       "      <td>58687</td>\n",
       "      <td>39125</td>\n",
       "      <td>1728012</td>\n",
       "      <td>هرمزگان-بندرعباس كد 10087</td>\n",
       "      <td>0.0</td>\n",
       "      <td>148</td>\n",
       "    </tr>\n",
       "    <tr>\n",
       "      <th>3</th>\n",
       "      <td>حيدر اکحوان كد 208</td>\n",
       "      <td>نصب ترانس و تير برق</td>\n",
       "      <td>خير</td>\n",
       "      <td>طاهره رضايي نيا كد 1865</td>\n",
       "      <td>ايلام-ايلام كد 10076</td>\n",
       "      <td>NaN</td>\n",
       "      <td>2014-09-04 00:00:00</td>\n",
       "      <td>2014-11-04 00:00:00</td>\n",
       "      <td>روزشمار</td>\n",
       "      <td>60</td>\n",
       "      <td>...</td>\n",
       "      <td>0</td>\n",
       "      <td>0</td>\n",
       "      <td>خير</td>\n",
       "      <td>1087000</td>\n",
       "      <td>39132</td>\n",
       "      <td>26088</td>\n",
       "      <td>1152220</td>\n",
       "      <td>ايلام-ايلام كد 10076</td>\n",
       "      <td>0.0</td>\n",
       "      <td>176</td>\n",
       "    </tr>\n",
       "    <tr>\n",
       "      <th>4</th>\n",
       "      <td>محمدرضا راعي فرد كد 227</td>\n",
       "      <td>کارکنان اداري و دفتري</td>\n",
       "      <td>خير</td>\n",
       "      <td>ساره خاتون براهويي كد 1113</td>\n",
       "      <td>بيرجند خراسان جنوبي كد 10028</td>\n",
       "      <td>2014-09-03 00:00:00</td>\n",
       "      <td>2014-09-05 00:00:00</td>\n",
       "      <td>2015-09-05 00:00:00</td>\n",
       "      <td>يکساله</td>\n",
       "      <td>365</td>\n",
       "      <td>...</td>\n",
       "      <td>0</td>\n",
       "      <td>0</td>\n",
       "      <td>خير</td>\n",
       "      <td>2198600</td>\n",
       "      <td>79150</td>\n",
       "      <td>52766</td>\n",
       "      <td>2330516</td>\n",
       "      <td>بيرجند خراسان جنوبي كد 10028</td>\n",
       "      <td>0.0</td>\n",
       "      <td>236</td>\n",
       "    </tr>\n",
       "    <tr>\n",
       "      <th>7</th>\n",
       "      <td>مسعود حسن پور ملا كد 246</td>\n",
       "      <td>تالارهاي پذيرائي</td>\n",
       "      <td>خير</td>\n",
       "      <td>محترم طيبي كد 517</td>\n",
       "      <td>مازندران-بابل كد 10061</td>\n",
       "      <td>NaN</td>\n",
       "      <td>2014-09-16 00:00:00</td>\n",
       "      <td>2015-09-16 00:00:00</td>\n",
       "      <td>يکساله</td>\n",
       "      <td>365</td>\n",
       "      <td>...</td>\n",
       "      <td>0</td>\n",
       "      <td>0</td>\n",
       "      <td>خير</td>\n",
       "      <td>3929200</td>\n",
       "      <td>141451</td>\n",
       "      <td>94301</td>\n",
       "      <td>4164952</td>\n",
       "      <td>مازندران-بابل كد 10061</td>\n",
       "      <td>0.0</td>\n",
       "      <td>29</td>\n",
       "    </tr>\n",
       "  </tbody>\n",
       "</table>\n",
       "<p>5 rows × 31 columns</p>\n",
       "</div>"
      ],
      "text/plain": [
       "                         بيمه گذار               فعاليت شغلي اصلي   \\\n",
       "ردیف                                                                 \n",
       "1     عبدالله خدامي قادهاري كد 241  حفر چاه با دستگاه  ( مکانيزه )   \n",
       "2                 جاسم کرمي كد 158                   فروشنده بستني   \n",
       "3               حيدر اکحوان كد 208             نصب ترانس و تير برق   \n",
       "4          محمدرضا راعي فرد كد 227           کارکنان اداري و دفتري   \n",
       "7         مسعود حسن پور ملا كد 246                تالارهاي پذيرائي   \n",
       "\n",
       "     صدور بيمه نامه به صورت با نام                         معرف  \\\n",
       "ردیف                                                              \n",
       "1                              خير  مهراب عزت آبادي پور كد 1754   \n",
       "2                              خير    هرمزگان-بندرعباس كد 10087   \n",
       "3                              خير      طاهره رضايي نيا كد 1865   \n",
       "4                              خير   ساره خاتون براهويي كد 1113   \n",
       "7                              خير            محترم طيبي كد 517   \n",
       "\n",
       "                         واحد صدور        تاريخ پيشنهاد           تاریخ شروع  \\\n",
       "ردیف                                                                           \n",
       "1        هرمزگان-بندرعباس كد 10087  2014-09-03 00:00:00  2014-09-04 00:00:00   \n",
       "2        هرمزگان-بندرعباس كد 10087                  NaN  2014-09-12 00:00:00   \n",
       "3             ايلام-ايلام كد 10076                  NaN  2014-09-04 00:00:00   \n",
       "4     بيرجند خراسان جنوبي كد 10028  2014-09-03 00:00:00  2014-09-05 00:00:00   \n",
       "7           مازندران-بابل كد 10061                  NaN  2014-09-16 00:00:00   \n",
       "\n",
       "              تاریخ پایان نحوه محاسبه  مدت  ... سابقه خسارت تخفيف مديريتي  \\\n",
       "ردیف                                        ...                             \n",
       "1     2015-09-04 00:00:00      يکساله  365  ...           0             0   \n",
       "2     2015-09-12 00:00:00      يکساله  365  ...           0             0   \n",
       "3     2014-11-04 00:00:00     روزشمار   60  ...           0             0   \n",
       "4     2015-09-05 00:00:00      يکساله  365  ...           0             0   \n",
       "7     2015-09-16 00:00:00      يکساله  365  ...           0             0   \n",
       "\n",
       "      محاسبه کارشناسي؟  حق بيمه  ماليات بر ارزش  افزوده  عوارض شهرداري  \\\n",
       "ردیف                                                                     \n",
       "1                  خير  2205100                   79384          52922   \n",
       "2                  خير  1630200                   58687          39125   \n",
       "3                  خير  1087000                   39132          26088   \n",
       "4                  خير  2198600                   79150          52766   \n",
       "7                  خير  3929200                  141451          94301   \n",
       "\n",
       "      حق بيمه کل(با ماليات)            واحد پیشنهاد دهنده  درصد تشديد خطر  \\\n",
       "ردیف                                                                        \n",
       "1                   2337406     هرمزگان-بندرعباس كد 10087             0.0   \n",
       "2                   1728012     هرمزگان-بندرعباس كد 10087             0.0   \n",
       "3                   1152220          ايلام-ايلام كد 10076             0.0   \n",
       "4                   2330516  بيرجند خراسان جنوبي كد 10028             0.0   \n",
       "7                   4164952        مازندران-بابل كد 10061             0.0   \n",
       "\n",
       "      Job Title ID  \n",
       "ردیف                \n",
       "1               87  \n",
       "2              148  \n",
       "3              176  \n",
       "4              236  \n",
       "7               29  \n",
       "\n",
       "[5 rows x 31 columns]"
      ]
     },
     "execution_count": 17,
     "metadata": {},
     "output_type": "execute_result"
    }
   ],
   "source": [
    "df[df.iloc[:,2]=='خير'].head()"
   ]
  },
  {
   "cell_type": "code",
   "execution_count": 18,
   "metadata": {},
   "outputs": [
    {
     "data": {
      "text/html": [
       "<div>\n",
       "<style scoped>\n",
       "    .dataframe tbody tr th:only-of-type {\n",
       "        vertical-align: middle;\n",
       "    }\n",
       "\n",
       "    .dataframe tbody tr th {\n",
       "        vertical-align: top;\n",
       "    }\n",
       "\n",
       "    .dataframe thead th {\n",
       "        text-align: right;\n",
       "    }\n",
       "</style>\n",
       "<table border=\"1\" class=\"dataframe\">\n",
       "  <thead>\n",
       "    <tr style=\"text-align: right;\">\n",
       "      <th></th>\n",
       "      <th>بيمه گذار</th>\n",
       "      <th>فعاليت شغلي اصلي</th>\n",
       "      <th>صدور بيمه نامه به صورت با نام</th>\n",
       "      <th>معرف</th>\n",
       "      <th>واحد صدور</th>\n",
       "      <th>تاريخ پيشنهاد</th>\n",
       "      <th>تاریخ شروع</th>\n",
       "      <th>تاریخ پایان</th>\n",
       "      <th>نحوه محاسبه</th>\n",
       "      <th>مدت</th>\n",
       "      <th>...</th>\n",
       "      <th>سابقه خسارت</th>\n",
       "      <th>تخفيف مديريتي</th>\n",
       "      <th>محاسبه کارشناسي؟</th>\n",
       "      <th>حق بيمه</th>\n",
       "      <th>ماليات بر ارزش  افزوده</th>\n",
       "      <th>عوارض شهرداري</th>\n",
       "      <th>حق بيمه کل(با ماليات)</th>\n",
       "      <th>واحد پیشنهاد دهنده</th>\n",
       "      <th>درصد تشديد خطر</th>\n",
       "      <th>Job Title ID</th>\n",
       "    </tr>\n",
       "    <tr>\n",
       "      <th>ردیف</th>\n",
       "      <th></th>\n",
       "      <th></th>\n",
       "      <th></th>\n",
       "      <th></th>\n",
       "      <th></th>\n",
       "      <th></th>\n",
       "      <th></th>\n",
       "      <th></th>\n",
       "      <th></th>\n",
       "      <th></th>\n",
       "      <th></th>\n",
       "      <th></th>\n",
       "      <th></th>\n",
       "      <th></th>\n",
       "      <th></th>\n",
       "      <th></th>\n",
       "      <th></th>\n",
       "      <th></th>\n",
       "      <th></th>\n",
       "      <th></th>\n",
       "      <th></th>\n",
       "    </tr>\n",
       "  </thead>\n",
       "  <tbody>\n",
       "    <tr>\n",
       "      <th>5</th>\n",
       "      <td>جواد رمضانيان صادق كد 234</td>\n",
       "      <td>آبکاري فلزات</td>\n",
       "      <td>بله</td>\n",
       "      <td>ريحانه ترکمن كد 1420</td>\n",
       "      <td>مشهد خراسان رضوي كد 10021</td>\n",
       "      <td>2014-09-04 00:00:00</td>\n",
       "      <td>2014-09-06 00:00:00</td>\n",
       "      <td>2015-09-06 00:00:00</td>\n",
       "      <td>يکساله</td>\n",
       "      <td>365</td>\n",
       "      <td>...</td>\n",
       "      <td>0</td>\n",
       "      <td>0</td>\n",
       "      <td>خير</td>\n",
       "      <td>6593100</td>\n",
       "      <td>237352</td>\n",
       "      <td>158234</td>\n",
       "      <td>6988686</td>\n",
       "      <td>مشهد خراسان رضوي كد 10021</td>\n",
       "      <td>20.0</td>\n",
       "      <td>0</td>\n",
       "    </tr>\n",
       "    <tr>\n",
       "      <th>6</th>\n",
       "      <td>علي اله خدابندلو كد 2304</td>\n",
       "      <td>توليد تجهيزات سردخانه اي</td>\n",
       "      <td>بله</td>\n",
       "      <td>فاطمه خدابنده لو كد 1343</td>\n",
       "      <td>زنجان-زنجان كد 10079</td>\n",
       "      <td>NaN</td>\n",
       "      <td>2014-09-20 00:00:00</td>\n",
       "      <td>2014-11-20 00:00:00</td>\n",
       "      <td>کوتاه مدت</td>\n",
       "      <td>60</td>\n",
       "      <td>...</td>\n",
       "      <td>0</td>\n",
       "      <td>0</td>\n",
       "      <td>خير</td>\n",
       "      <td>1624300</td>\n",
       "      <td>58475</td>\n",
       "      <td>38983</td>\n",
       "      <td>1721758</td>\n",
       "      <td>زنجان-زنجان كد 10079</td>\n",
       "      <td>0.0</td>\n",
       "      <td>52</td>\n",
       "    </tr>\n",
       "    <tr>\n",
       "      <th>19</th>\n",
       "      <td>عليرضا مساح بواني كد 568</td>\n",
       "      <td>تکنسين امور فني و خدماتي</td>\n",
       "      <td>بله</td>\n",
       "      <td>مريم اسماعيلي كد 69</td>\n",
       "      <td>اصفهان كد 10031</td>\n",
       "      <td>NaN</td>\n",
       "      <td>2014-09-07 00:00:00</td>\n",
       "      <td>2015-09-06 00:00:00</td>\n",
       "      <td>کوتاه مدت</td>\n",
       "      <td>364</td>\n",
       "      <td>...</td>\n",
       "      <td>0</td>\n",
       "      <td>0</td>\n",
       "      <td>خير</td>\n",
       "      <td>12763500</td>\n",
       "      <td>459486</td>\n",
       "      <td>306324</td>\n",
       "      <td>13529310</td>\n",
       "      <td>اصفهان كد 10031</td>\n",
       "      <td>0.0</td>\n",
       "      <td>85</td>\n",
       "    </tr>\n",
       "    <tr>\n",
       "      <th>39</th>\n",
       "      <td>شرکت جهد آزما مشهد كد 690</td>\n",
       "      <td>عمليات و مطالعات ژئوتکنيک</td>\n",
       "      <td>بله</td>\n",
       "      <td>بهاره فدائي كد 47</td>\n",
       "      <td>مشهد خراسان رضوي كد 10021</td>\n",
       "      <td>NaN</td>\n",
       "      <td>2014-09-10 00:00:00</td>\n",
       "      <td>2015-09-10 00:00:00</td>\n",
       "      <td>يکساله</td>\n",
       "      <td>365</td>\n",
       "      <td>...</td>\n",
       "      <td>0</td>\n",
       "      <td>0</td>\n",
       "      <td>خير</td>\n",
       "      <td>64954600</td>\n",
       "      <td>2338366</td>\n",
       "      <td>1558910</td>\n",
       "      <td>68851876</td>\n",
       "      <td>مشهد خراسان رضوي كد 10021</td>\n",
       "      <td>12.0</td>\n",
       "      <td>143</td>\n",
       "    </tr>\n",
       "    <tr>\n",
       "      <th>56</th>\n",
       "      <td>مهدي کرب0ن كد 1078</td>\n",
       "      <td>نصب داربست</td>\n",
       "      <td>بله</td>\n",
       "      <td>شيما چمني كد 1069</td>\n",
       "      <td>اصفهان كد 10031</td>\n",
       "      <td>NaN</td>\n",
       "      <td>2014-09-12 00:00:00</td>\n",
       "      <td>2015-09-12 00:00:00</td>\n",
       "      <td>يکساله</td>\n",
       "      <td>365</td>\n",
       "      <td>...</td>\n",
       "      <td>0</td>\n",
       "      <td>0</td>\n",
       "      <td>خير</td>\n",
       "      <td>4083200</td>\n",
       "      <td>146995</td>\n",
       "      <td>97997</td>\n",
       "      <td>4328192</td>\n",
       "      <td>اصفهان كد 10031</td>\n",
       "      <td>0.0</td>\n",
       "      <td>177</td>\n",
       "    </tr>\n",
       "  </tbody>\n",
       "</table>\n",
       "<p>5 rows × 31 columns</p>\n",
       "</div>"
      ],
      "text/plain": [
       "                      بيمه گذار          فعاليت شغلي اصلي   \\\n",
       "ردیف                                                         \n",
       "5     جواد رمضانيان صادق كد 234               آبکاري فلزات   \n",
       "6      علي اله خدابندلو كد 2304   توليد تجهيزات سردخانه اي   \n",
       "19     عليرضا مساح بواني كد 568   تکنسين امور فني و خدماتي   \n",
       "39    شرکت جهد آزما مشهد كد 690  عمليات و مطالعات ژئوتکنيک   \n",
       "56           مهدي کرب0ن كد 1078                 نصب داربست   \n",
       "\n",
       "     صدور بيمه نامه به صورت با نام                      معرف  \\\n",
       "ردیف                                                           \n",
       "5                              بله      ريحانه ترکمن كد 1420   \n",
       "6                              بله  فاطمه خدابنده لو كد 1343   \n",
       "19                             بله       مريم اسماعيلي كد 69   \n",
       "39                             بله         بهاره فدائي كد 47   \n",
       "56                             بله         شيما چمني كد 1069   \n",
       "\n",
       "                      واحد صدور        تاريخ پيشنهاد           تاریخ شروع  \\\n",
       "ردیف                                                                        \n",
       "5     مشهد خراسان رضوي كد 10021  2014-09-04 00:00:00  2014-09-06 00:00:00   \n",
       "6          زنجان-زنجان كد 10079                  NaN  2014-09-20 00:00:00   \n",
       "19              اصفهان كد 10031                  NaN  2014-09-07 00:00:00   \n",
       "39    مشهد خراسان رضوي كد 10021                  NaN  2014-09-10 00:00:00   \n",
       "56              اصفهان كد 10031                  NaN  2014-09-12 00:00:00   \n",
       "\n",
       "              تاریخ پایان نحوه محاسبه  مدت  ... سابقه خسارت تخفيف مديريتي  \\\n",
       "ردیف                                        ...                             \n",
       "5     2015-09-06 00:00:00      يکساله  365  ...           0             0   \n",
       "6     2014-11-20 00:00:00   کوتاه مدت   60  ...           0             0   \n",
       "19    2015-09-06 00:00:00   کوتاه مدت  364  ...           0             0   \n",
       "39    2015-09-10 00:00:00      يکساله  365  ...           0             0   \n",
       "56    2015-09-12 00:00:00      يکساله  365  ...           0             0   \n",
       "\n",
       "      محاسبه کارشناسي؟   حق بيمه  ماليات بر ارزش  افزوده  عوارض شهرداري  \\\n",
       "ردیف                                                                      \n",
       "5                  خير   6593100                  237352         158234   \n",
       "6                  خير   1624300                   58475          38983   \n",
       "19                 خير  12763500                  459486         306324   \n",
       "39                 خير  64954600                 2338366        1558910   \n",
       "56                 خير   4083200                  146995          97997   \n",
       "\n",
       "      حق بيمه کل(با ماليات)         واحد پیشنهاد دهنده  درصد تشديد خطر  \\\n",
       "ردیف                                                                     \n",
       "5                   6988686  مشهد خراسان رضوي كد 10021            20.0   \n",
       "6                   1721758       زنجان-زنجان كد 10079             0.0   \n",
       "19                 13529310            اصفهان كد 10031             0.0   \n",
       "39                 68851876  مشهد خراسان رضوي كد 10021            12.0   \n",
       "56                  4328192            اصفهان كد 10031             0.0   \n",
       "\n",
       "      Job Title ID  \n",
       "ردیف                \n",
       "5                0  \n",
       "6               52  \n",
       "19              85  \n",
       "39             143  \n",
       "56             177  \n",
       "\n",
       "[5 rows x 31 columns]"
      ]
     },
     "execution_count": 18,
     "metadata": {},
     "output_type": "execute_result"
    }
   ],
   "source": [
    "df[df.iloc[:,2]=='بله'].head()"
   ]
  },
  {
   "cell_type": "markdown",
   "metadata": {},
   "source": [
    "👎 because we don't have additional information here, This field can't be useful. we will drop it in final step."
   ]
  },
  {
   "cell_type": "markdown",
   "metadata": {},
   "source": [
    "<h2>1-4 معرف </h2>"
   ]
  },
  {
   "cell_type": "code",
   "execution_count": 19,
   "metadata": {},
   "outputs": [
    {
     "data": {
      "text/plain": [
       "محمدرضا عنبرزاده كد 22       35\n",
       "علي رحماني كد 1442           30\n",
       "بوشهر كد 10089               22\n",
       "عبيد محب كد 1758             18\n",
       "حسن رمضاني كد 2113           15\n",
       "                             ..\n",
       "عبدالعلي هاشم پور كد 1162     1\n",
       "زينب اصغري كد 1245            1\n",
       "فرخ گل ايتيوندي كد 586        1\n",
       "مركزي - اراك كد 10057         1\n",
       "عليرضا خسروي كد 1366          1\n",
       "Name: معرف, Length: 412, dtype: int64"
      ]
     },
     "execution_count": 19,
     "metadata": {},
     "output_type": "execute_result"
    }
   ],
   "source": [
    "df.iloc[:,3].value_counts()"
   ]
  },
  {
   "cell_type": "code",
   "execution_count": 20,
   "metadata": {},
   "outputs": [
    {
     "name": "stdout",
     "output_type": "stream",
     "text": [
      "\u001b[1m\u001b[90mThe field has \u001b[0m 412 \u001b[1m\u001b[90m unique values \u001b[0m\n",
      "\n"
     ]
    }
   ],
   "source": [
    "print(clr.S+\"The field has \"+clr.E, len(df.iloc[:,3].unique()), clr.S+\" unique values \"+clr.E+ \"\\n\")"
   ]
  },
  {
   "cell_type": "markdown",
   "metadata": {},
   "source": [
    "📌 It seem to be useful and because every reagent has code and working with code it's much easier extract code will be handy."
   ]
  },
  {
   "cell_type": "markdown",
   "metadata": {},
   "source": [
    "<h2>1-5 واحد صدور </h2>"
   ]
  },
  {
   "cell_type": "code",
   "execution_count": 21,
   "metadata": {},
   "outputs": [
    {
     "data": {
      "text/plain": [
       "اصفهان كد 10031              91\n",
       "سمنان-سمنان كد 10018         65\n",
       "قم-قم كد 10059               62\n",
       "خوزستان-اهواز كد 10095       59\n",
       "مشهد خراسان رضوي كد 10021    57\n",
       "                             ..\n",
       "حجت کريمي گوغري كد 1303       1\n",
       "الهام نامني كد 2106           1\n",
       "شهرام بدري كد 1631            1\n",
       "موسي جعفري نياري كد 714       1\n",
       "حميد شيراني راد كد 211        1\n",
       "Name: واحد صدور, Length: 163, dtype: int64"
      ]
     },
     "execution_count": 21,
     "metadata": {},
     "output_type": "execute_result"
    }
   ],
   "source": [
    "df.iloc[:,4].value_counts()"
   ]
  },
  {
   "cell_type": "code",
   "execution_count": 22,
   "metadata": {},
   "outputs": [
    {
     "name": "stdout",
     "output_type": "stream",
     "text": [
      "\u001b[1m\u001b[90mThe field has \u001b[0m 163 \u001b[1m\u001b[90m unique values \u001b[0m\n",
      "\n"
     ]
    }
   ],
   "source": [
    "print(clr.S+\"The field has \"+clr.E, len(df.iloc[:,4].unique()), clr.S+\" unique values \"+clr.E+ \"\\n\")"
   ]
  },
  {
   "cell_type": "markdown",
   "metadata": {},
   "source": [
    "📌It seem to be useful and because every agent has code and working with code it's much easier extract code will be handy."
   ]
  },
  {
   "cell_type": "markdown",
   "metadata": {},
   "source": [
    "<h2>1-6 تاريخ پيشنهاد </h2>"
   ]
  },
  {
   "cell_type": "code",
   "execution_count": 23,
   "metadata": {},
   "outputs": [
    {
     "data": {
      "text/plain": [
       "2014-12-26 00:00:00    10\n",
       "2015-02-13 00:00:00     4\n",
       "2014-09-27 00:00:00     4\n",
       "2014-09-02 00:00:00     4\n",
       "2014-11-06 00:00:00     4\n",
       "                       ..\n",
       "2014-10-01 00:00:00     1\n",
       "1391/11/07              1\n",
       "2015-03-25 00:00:00     1\n",
       "2015-05-28 00:00:00     1\n",
       "2014-10-24 00:00:00     1\n",
       "Name: تاريخ پيشنهاد, Length: 108, dtype: int64"
      ]
     },
     "execution_count": 23,
     "metadata": {},
     "output_type": "execute_result"
    }
   ],
   "source": [
    "df.iloc[:,5].value_counts()"
   ]
  },
  {
   "cell_type": "code",
   "execution_count": 24,
   "metadata": {},
   "outputs": [
    {
     "name": "stdout",
     "output_type": "stream",
     "text": [
      "\u001b[1m\u001b[90mThe field has \u001b[0m 861 \u001b[1m\u001b[90m missing values \u001b[0m\n",
      "\n"
     ]
    }
   ],
   "source": [
    "print(clr.S+\"The field has \"+clr.E, df.iloc[:,5].isna().sum(), clr.S+\" missing values \"+clr.E+ \"\\n\")"
   ]
  },
  {
   "cell_type": "markdown",
   "metadata": {},
   "source": [
    "👎 because we have lots of missing value here, This field can't be useful. we will drop it in final step."
   ]
  },
  {
   "cell_type": "markdown",
   "metadata": {},
   "source": [
    "<h2>1-7 تاریخ شروع </h2>"
   ]
  },
  {
   "cell_type": "code",
   "execution_count": 25,
   "metadata": {},
   "outputs": [
    {
     "data": {
      "text/plain": [
       "2014-10-07    15\n",
       "2014-09-18    14\n",
       "2014-09-24    13\n",
       "2014-12-05    13\n",
       "2014-11-07    13\n",
       "              ..\n",
       "2015-07-11     1\n",
       "2014-12-23     1\n",
       "2015-06-04     1\n",
       "2015-01-09     1\n",
       "2015-06-10     1\n",
       "Name: تاریخ شروع, Length: 253, dtype: int64"
      ]
     },
     "execution_count": 25,
     "metadata": {},
     "output_type": "execute_result"
    }
   ],
   "source": [
    "df.iloc[:,6].value_counts()"
   ]
  },
  {
   "cell_type": "markdown",
   "metadata": {},
   "source": [
    "📌 It will be useful for using ,need some convert to date and time format."
   ]
  },
  {
   "cell_type": "markdown",
   "metadata": {},
   "source": [
    "<h2>1-8 تاریخ پایان </h2>"
   ]
  },
  {
   "cell_type": "code",
   "execution_count": 26,
   "metadata": {},
   "outputs": [
    {
     "data": {
      "text/plain": [
       "2015-10-07 00:00:00    15\n",
       "2015-09-24 00:00:00    13\n",
       "2015-11-07 00:00:00    13\n",
       "2015-10-09 00:00:00    12\n",
       "2015-12-05 00:00:00    11\n",
       "                       ..\n",
       "2014-12-05 00:00:00     1\n",
       "2015-04-13 00:00:00     1\n",
       "2015-08-21 00:00:00     1\n",
       "1394/06/04              1\n",
       "2015-08-08 00:00:00     1\n",
       "Name: تاریخ پایان, Length: 383, dtype: int64"
      ]
     },
     "execution_count": 26,
     "metadata": {},
     "output_type": "execute_result"
    }
   ],
   "source": [
    "df.iloc[:,7].value_counts()"
   ]
  },
  {
   "cell_type": "markdown",
   "metadata": {},
   "source": [
    "📌 It will be useful for using ,need some convert to date and time format."
   ]
  },
  {
   "cell_type": "markdown",
   "metadata": {},
   "source": [
    "<h2>1-9 نحوه محاسبه </h2>"
   ]
  },
  {
   "cell_type": "code",
   "execution_count": 27,
   "metadata": {},
   "outputs": [
    {
     "data": {
      "text/plain": [
       "يکساله       809\n",
       "روزشمار      139\n",
       "کوتاه مدت    104\n",
       "چند ساله       2\n",
       "Name: نحوه محاسبه, dtype: int64"
      ]
     },
     "execution_count": 27,
     "metadata": {},
     "output_type": "execute_result"
    }
   ],
   "source": [
    "df.iloc[:,8].value_counts()"
   ]
  },
  {
   "cell_type": "markdown",
   "metadata": {},
   "source": [
    "📌It seem to be useful. let's convert it to category type and then encode it."
   ]
  },
  {
   "cell_type": "code",
   "execution_count": 28,
   "metadata": {},
   "outputs": [
    {
     "data": {
      "text/plain": [
       "4"
      ]
     },
     "execution_count": 28,
     "metadata": {},
     "output_type": "execute_result"
    }
   ],
   "source": [
    "df.iloc[:,8]=df.iloc[:,8].astype('category')\n",
    "df[\"Duration\"]=df.iloc[:,8].cat.codes\n",
    "duration_map=dict( zip( df.iloc[:,8].cat.codes, df.iloc[:,8] ) )\n",
    "len(duration_map)"
   ]
  },
  {
   "cell_type": "markdown",
   "metadata": {},
   "source": [
    "🤷‍♀️ we can check that is duration correct based on starting and ending time.May be later🤦‍♀️"
   ]
  },
  {
   "cell_type": "markdown",
   "metadata": {},
   "source": [
    "<h2>1-10 مدت </h2>"
   ]
  },
  {
   "cell_type": "code",
   "execution_count": 29,
   "metadata": {},
   "outputs": [
    {
     "data": {
      "text/plain": [
       "365    809\n",
       "30      40\n",
       "31      27\n",
       "90      20\n",
       "93      14\n",
       "364     12\n",
       "29      10\n",
       "62       9\n",
       "182      9\n",
       "60       7\n",
       "59       7\n",
       "183      6\n",
       "89       6\n",
       "61       6\n",
       "184      6\n",
       "181      4\n",
       "186      4\n",
       "120      4\n",
       "124      3\n",
       "92       3\n",
       "119      3\n",
       "185      3\n",
       "151      2\n",
       "91       2\n",
       "212      2\n",
       "108      2\n",
       "39       1\n",
       "28       1\n",
       "10       1\n",
       "13       1\n",
       "15       1\n",
       "32       1\n",
       "40       1\n",
       "63       1\n",
       "34       1\n",
       "56       1\n",
       "51       1\n",
       "48       1\n",
       "43       1\n",
       "396      1\n",
       "66       1\n",
       "109      1\n",
       "363      1\n",
       "362      1\n",
       "361      1\n",
       "359      1\n",
       "357      1\n",
       "326      1\n",
       "321      1\n",
       "319      1\n",
       "310      1\n",
       "305      1\n",
       "295      1\n",
       "257      1\n",
       "155      1\n",
       "127      1\n",
       "126      1\n",
       "121      1\n",
       "366      1\n",
       "2        1\n",
       "Name: مدت, dtype: int64"
      ]
     },
     "execution_count": 29,
     "metadata": {},
     "output_type": "execute_result"
    }
   ],
   "source": [
    "df.iloc[:,9].value_counts()"
   ]
  },
  {
   "cell_type": "markdown",
   "metadata": {},
   "source": [
    "👎 This field has redundant information, we can drop it in final step."
   ]
  },
  {
   "cell_type": "markdown",
   "metadata": {},
   "source": [
    "<h2>1-11 تاريخ صدور </h2>"
   ]
  },
  {
   "cell_type": "code",
   "execution_count": 30,
   "metadata": {},
   "outputs": [
    {
     "data": {
      "text/plain": [
       "2014-10-07    15\n",
       "2014-12-28    14\n",
       "2014-09-18    14\n",
       "2014-09-27    13\n",
       "2014-10-01    13\n",
       "              ..\n",
       "2014-10-05     1\n",
       "2015-05-27     1\n",
       "2015-08-11     1\n",
       "2015-04-19     1\n",
       "2015-06-24     1\n",
       "Name: تاريخ صدور, Length: 242, dtype: int64"
      ]
     },
     "execution_count": 30,
     "metadata": {},
     "output_type": "execute_result"
    }
   ],
   "source": [
    "df.iloc[:,10].value_counts()"
   ]
  },
  {
   "cell_type": "markdown",
   "metadata": {},
   "source": [
    "📌 It will be useful for using ,need some convert to date and time format."
   ]
  },
  {
   "cell_type": "markdown",
   "metadata": {},
   "source": [
    "<h2>1-12 آدرس محل فعاليت </h2>"
   ]
  },
  {
   "cell_type": "code",
   "execution_count": 31,
   "metadata": {},
   "outputs": [
    {
     "data": {
      "text/plain": [
       "اصفهان                                                                                    4\n",
       "در سطح استان مازندران                                                                     4\n",
       "سيار                                                                                      4\n",
       "سراسر کشور 0                                                                              4\n",
       "کرمانشاه بعد از پل ولايت سالن و پارکينگ هتل پارسيان                                       3\n",
       "                                                                                         ..\n",
       "آستانه کمربندي جنب مصالح فروشي آجرلو کارگاه دارابي                                        1\n",
       "محدوده استان هرمزگان                                                                      1\n",
       "خوزستان - شادگان - خيابان باهنر - جنب کميته امداد- خيابان البوخنفر پلاک 14 منزل شيرازي    1\n",
       "مشهد -صدمتري مقابل مهر آباد- بابا نظر 77 بعد از مجتمع سامان تخليه بار پيشتاز بندر         1\n",
       "رسالت شمالي 13 هكتاري بستني نعمت                                                          1\n",
       "Name: آدرس محل فعاليت, Length: 1019, dtype: int64"
      ]
     },
     "execution_count": 31,
     "metadata": {},
     "output_type": "execute_result"
    }
   ],
   "source": [
    "df.iloc[:,11].value_counts()"
   ]
  },
  {
   "cell_type": "markdown",
   "metadata": {},
   "source": [
    "📌 It field has a lot of geographical information.Need some process , but it's like a gold mine 🥇."
   ]
  },
  {
   "cell_type": "markdown",
   "metadata": {},
   "source": [
    " <h2>1-13 غرامت فوت و نقص عضو ماه عادي هرنفردرهرحادثه </h2>"
   ]
  },
  {
   "cell_type": "code",
   "execution_count": 32,
   "metadata": {},
   "outputs": [
    {
     "data": {
      "text/plain": [
       "1140000000    690\n",
       "1500000000    364\n",
       "Name: غرامت فوت و نقص عضو ماه عادي هرنفردرهرحادثه, dtype: int64"
      ]
     },
     "execution_count": 32,
     "metadata": {},
     "output_type": "execute_result"
    }
   ],
   "source": [
    "df.iloc[:,12].value_counts()"
   ]
  },
  {
   "cell_type": "markdown",
   "metadata": {},
   "source": [
    "👎 Based on my knowledge, this field has constant value that will change every year. and we have complete date field. So, we will drop it in final step."
   ]
  },
  {
   "cell_type": "markdown",
   "metadata": {},
   "source": [
    " <h2>1-14 غرامت فوت ماه حرام هرنفردرهرحادثه </h2>"
   ]
  },
  {
   "cell_type": "code",
   "execution_count": 33,
   "metadata": {},
   "outputs": [
    {
     "data": {
      "text/plain": [
       "1520000000    690\n",
       "2000000000    364\n",
       "Name: غرامت فوت ماه حرام هرنفردرهرحادثه, dtype: int64"
      ]
     },
     "execution_count": 33,
     "metadata": {},
     "output_type": "execute_result"
    }
   ],
   "source": [
    "df.iloc[:,13].value_counts()"
   ]
  },
  {
   "cell_type": "markdown",
   "metadata": {},
   "source": [
    "👎 Based on my knowledge, this field has constant value that will change every year. and we have complete date field. So, we will drop it in final step."
   ]
  },
  {
   "cell_type": "markdown",
   "metadata": {},
   "source": [
    "<h2>1-15 غرامت فوت و نقص عضو درطول مدت بيمه </h2>"
   ]
  },
  {
   "cell_type": "code",
   "execution_count": 34,
   "metadata": {},
   "outputs": [
    {
     "data": {
      "text/plain": [
       "3040000000     275\n",
       "1520000000     196\n",
       "4000000000     150\n",
       "4560000000     139\n",
       "2000000000      83\n",
       "6000000000      70\n",
       "7600000000      41\n",
       "10000000000     24\n",
       "6080000000      23\n",
       "14000000000     12\n",
       "8000000000       9\n",
       "16000000000      6\n",
       "15200000000      5\n",
       "12000000000      4\n",
       "12160000000      4\n",
       "10640000000      4\n",
       "20000000000      3\n",
       "9120000000       2\n",
       "30000000000      1\n",
       "18000000000      1\n",
       "7500000000       1\n",
       "21280000000      1\n",
       "Name: غرامت فوت و نقص عضو درطول مدت بيمه, dtype: int64"
      ]
     },
     "execution_count": 34,
     "metadata": {},
     "output_type": "execute_result"
    }
   ],
   "source": [
    "df.iloc[:,14].value_counts()"
   ]
  },
  {
   "cell_type": "code",
   "execution_count": 35,
   "metadata": {},
   "outputs": [
    {
     "data": {
      "text/plain": [
       "<matplotlib.axes._subplots.AxesSubplot at 0x21b5a75e080>"
      ]
     },
     "execution_count": 35,
     "metadata": {},
     "output_type": "execute_result"
    },
    {
     "data": {
      "image/png": "[encoded data removed]",
      "text/plain": [
       "<Figure size 864x288 with 1 Axes>"
      ]
     },
     "metadata": {},
     "output_type": "display_data"
    }
   ],
   "source": [
    "sns.set_style('whitegrid')\n",
    "plt.figure(figsize = (12,4))\n",
    "data=df.iloc[:,14]\n",
    "data.name=\"Data\"\n",
    "data=data/10000000 # scale for better view\n",
    "sns.distplot (data, bins = 30, norm_hist=False, kde=True, color =my_colors[1])"
   ]
  },
  {
   "cell_type": "markdown",
   "metadata": {},
   "source": [
    "🤷‍♀️ There are some  big outliers in data, may be sign of fraud. should investigate more."
   ]
  },
  {
   "cell_type": "markdown",
   "metadata": {},
   "source": [
    "👎 Based on my knowledge, this field and some others are base of calculation of revenue and we have this separately. So, we will drop it in final step."
   ]
  },
  {
   "cell_type": "markdown",
   "metadata": {},
   "source": [
    "<h2>1-16 هزينه پزشكي فرد درهرحادثه  </h2>"
   ]
  },
  {
   "cell_type": "code",
   "execution_count": 36,
   "metadata": {},
   "outputs": [
    {
     "data": {
      "text/plain": [
       "20000000     305\n",
       "10000000     216\n",
       "30000000     182\n",
       "50000000     179\n",
       "40000000      56\n",
       "5000000       42\n",
       "100000000     26\n",
       "0             17\n",
       "15000000      10\n",
       "25000000       8\n",
       "70000000       3\n",
       "60000000       2\n",
       "2000000        2\n",
       "80000000       1\n",
       "65000000       1\n",
       "114000000      1\n",
       "22000000       1\n",
       "94500000       1\n",
       "150000000      1\n",
       "Name: هزينه پزشكي فرد درهرحادثه, dtype: int64"
      ]
     },
     "execution_count": 36,
     "metadata": {},
     "output_type": "execute_result"
    }
   ],
   "source": [
    "df.iloc[:,15].value_counts()"
   ]
  },
  {
   "cell_type": "code",
   "execution_count": 37,
   "metadata": {},
   "outputs": [
    {
     "data": {
      "text/plain": [
       "<matplotlib.axes._subplots.AxesSubplot at 0x21b66af1860>"
      ]
     },
     "execution_count": 37,
     "metadata": {},
     "output_type": "execute_result"
    },
    {
     "data": {
      "image/png": "[encoded data removed]",
      "text/plain": [
       "<Figure size 864x288 with 1 Axes>"
      ]
     },
     "metadata": {},
     "output_type": "display_data"
    }
   ],
   "source": [
    "sns.set_style('whitegrid')\n",
    "plt.figure(figsize = (12,4))\n",
    "data=df.iloc[:,15]\n",
    "data.name=\"Data\"\n",
    "data=data/10000000 # scale for better view\n",
    "sns.distplot (data, bins = 30, norm_hist=False, kde=True, color =my_colors[1])"
   ]
  },
  {
   "cell_type": "markdown",
   "metadata": {},
   "source": [
    "🤷‍♀️ There are some  big outliers in data, may be sign of fraud. should investigate more."
   ]
  },
  {
   "cell_type": "markdown",
   "metadata": {},
   "source": [
    "👎 Based on my knowledge, this field and some others are base of calculation of revenue and we have this separately. So, we will drop it in final step."
   ]
  },
  {
   "cell_type": "markdown",
   "metadata": {},
   "source": [
    "<h2>1-17 هزينه پزشكي درطول مدت بيمه  </h2>"
   ]
  },
  {
   "cell_type": "code",
   "execution_count": 38,
   "metadata": {},
   "outputs": [
    {
     "data": {
      "text/plain": [
       "20000000      169\n",
       "60000000      152\n",
       "40000000      137\n",
       "30000000      101\n",
       "100000000      98\n",
       "10000000       61\n",
       "150000000      60\n",
       "50000000       55\n",
       "80000000       41\n",
       "90000000       27\n",
       "200000000      26\n",
       "0              17\n",
       "250000000      14\n",
       "15000000       14\n",
       "120000000      12\n",
       "140000000       9\n",
       "5000000         9\n",
       "300000000       8\n",
       "70000000        6\n",
       "500000000       6\n",
       "160000000       6\n",
       "75000000        4\n",
       "180000000       4\n",
       "400000000       4\n",
       "2000000         2\n",
       "210000000       1\n",
       "456000000       1\n",
       "320000000       1\n",
       "220000000       1\n",
       "560000000       1\n",
       "945000000       1\n",
       "195000000       1\n",
       "600000000       1\n",
       "450000000       1\n",
       "25000000        1\n",
       "420000000       1\n",
       "1000000000      1\n",
       "Name: هزينه پزشكي درطول مدت بيمه, dtype: int64"
      ]
     },
     "execution_count": 38,
     "metadata": {},
     "output_type": "execute_result"
    }
   ],
   "source": [
    "df.iloc[:,16].value_counts()"
   ]
  },
  {
   "cell_type": "code",
   "execution_count": 39,
   "metadata": {},
   "outputs": [
    {
     "data": {
      "text/plain": [
       "<matplotlib.axes._subplots.AxesSubplot at 0x21b66ba59e8>"
      ]
     },
     "execution_count": 39,
     "metadata": {},
     "output_type": "execute_result"
    },
    {
     "data": {
      "image/png": "[encoded data removed]",
      "text/plain": [
       "<Figure size 864x288 with 1 Axes>"
      ]
     },
     "metadata": {},
     "output_type": "display_data"
    }
   ],
   "source": [
    "sns.set_style('whitegrid')\n",
    "plt.figure(figsize = (12,4))\n",
    "data=df.iloc[:,16]\n",
    "data.name=\"Data\"\n",
    "data=data/10000000 # scale for better view\n",
    "sns.distplot (data, bins = 30, norm_hist=False, kde=True, color =my_colors[1])"
   ]
  },
  {
   "cell_type": "markdown",
   "metadata": {},
   "source": [
    "🤷‍♀️ There are some  big outliers in data, may be sign of fraud. should investigate more."
   ]
  },
  {
   "cell_type": "markdown",
   "metadata": {},
   "source": [
    "👎 Based on my knowledge, this field and some others are base of calculation of revenue and we have this separately. So, we will drop it in final step."
   ]
  },
  {
   "cell_type": "markdown",
   "metadata": {},
   "source": [
    "<h2>1-18 درصد فرانشيز  </h2>"
   ]
  },
  {
   "cell_type": "code",
   "execution_count": 40,
   "metadata": {},
   "outputs": [
    {
     "data": {
      "text/plain": [
       "5        866\n",
       "0        103\n",
       "10        80\n",
       "20         2\n",
       "25000      1\n",
       "50         1\n",
       "25         1\n",
       "Name: درصد فرانشيز, dtype: int64"
      ]
     },
     "execution_count": 40,
     "metadata": {},
     "output_type": "execute_result"
    }
   ],
   "source": [
    "df.iloc[:,17].value_counts()"
   ]
  },
  {
   "cell_type": "code",
   "execution_count": 41,
   "metadata": {},
   "outputs": [
    {
     "data": {
      "text/plain": [
       "<matplotlib.axes._subplots.AxesSubplot at 0x21b6517afd0>"
      ]
     },
     "execution_count": 41,
     "metadata": {},
     "output_type": "execute_result"
    },
    {
     "data": {
      "image/png": "[encoded data removed]",
      "text/plain": [
       "<Figure size 864x288 with 1 Axes>"
      ]
     },
     "metadata": {},
     "output_type": "display_data"
    }
   ],
   "source": [
    "sns.set_style('whitegrid')\n",
    "plt.figure(figsize = (12,4))\n",
    "data=df.iloc[:,17].value_counts()\n",
    "sns.set_palette(sns.color_palette(my_colors))\n",
    "sns.barplot (x=data.index,y=data.values)"
   ]
  },
  {
   "cell_type": "markdown",
   "metadata": {},
   "source": [
    "🤷‍♀️ There are a  big outliers in data, may be sign of fraud or simple mistake. should investigate more."
   ]
  },
  {
   "cell_type": "markdown",
   "metadata": {},
   "source": [
    "👎 Based on my knowledge, this field and some others are base of calculation of revenue and we have this separately. So, we will drop it in final step."
   ]
  },
  {
   "cell_type": "markdown",
   "metadata": {},
   "source": [
    "<h2>1-19 حداقل مبلغ فرانشيز  </h2>"
   ]
  },
  {
   "cell_type": "code",
   "execution_count": 42,
   "metadata": {},
   "outputs": [
    {
     "data": {
      "text/plain": [
       "250000      848\n",
       "0           101\n",
       "500000       75\n",
       "25            6\n",
       "1000000       5\n",
       "300000        5\n",
       "100000        3\n",
       "10            1\n",
       "25000         1\n",
       "150000        1\n",
       "600000        1\n",
       "3000000       1\n",
       "50000         1\n",
       "1500000       1\n",
       "2000000       1\n",
       "200000        1\n",
       "10000000      1\n",
       "400000        1\n",
       "Name: حداقل مبلغ فرانشيز, dtype: int64"
      ]
     },
     "execution_count": 42,
     "metadata": {},
     "output_type": "execute_result"
    }
   ],
   "source": [
    "df.iloc[:,18].value_counts()"
   ]
  },
  {
   "cell_type": "code",
   "execution_count": 43,
   "metadata": {},
   "outputs": [
    {
     "data": {
      "text/plain": [
       "<matplotlib.axes._subplots.AxesSubplot at 0x21b66bac748>"
      ]
     },
     "execution_count": 43,
     "metadata": {},
     "output_type": "execute_result"
    },
    {
     "data": {
      "image/png": "[encoded data removed]",
      "text/plain": [
       "<Figure size 864x288 with 1 Axes>"
      ]
     },
     "metadata": {},
     "output_type": "display_data"
    }
   ],
   "source": [
    "sns.set_style('whitegrid')\n",
    "plt.figure(figsize = (12,4))\n",
    "data=df.iloc[:,18]\n",
    "data.name=\"Data\"\n",
    "data=data/100000 # scale for better view\n",
    "sns.distplot (data, bins = 30, norm_hist=False, kde=True, color =my_colors[1])"
   ]
  },
  {
   "cell_type": "markdown",
   "metadata": {},
   "source": [
    "🤷‍♀️ There are some  big outliers in data, may be sign of fraud or simple mistake. should investigate more."
   ]
  },
  {
   "cell_type": "markdown",
   "metadata": {},
   "source": [
    "👎 Based on my knowledge, this field and some others are base of calculation of revenue and we have this separately. So, we will drop it in final step."
   ]
  },
  {
   "cell_type": "markdown",
   "metadata": {},
   "source": [
    "<h2>1-20 شرکت بیمه سال قبل  </h2>"
   ]
  },
  {
   "cell_type": "code",
   "execution_count": 44,
   "metadata": {},
   "outputs": [
    {
     "data": {
      "text/plain": [
       "0    698\n",
       "1    356\n",
       "Name: شرکت بیمه سال قبل, dtype: int64"
      ]
     },
     "execution_count": 44,
     "metadata": {},
     "output_type": "execute_result"
    }
   ],
   "source": [
    "df.iloc[:,19].value_counts()"
   ]
  },
  {
   "cell_type": "code",
   "execution_count": 45,
   "metadata": {},
   "outputs": [
    {
     "data": {
      "text/plain": [
       "<matplotlib.axes._subplots.AxesSubplot at 0x21b66c524a8>"
      ]
     },
     "execution_count": 45,
     "metadata": {},
     "output_type": "execute_result"
    },
    {
     "data": {
      "image/png": "[encoded data removed]",
      "text/plain": [
       "<Figure size 864x288 with 1 Axes>"
      ]
     },
     "metadata": {},
     "output_type": "display_data"
    }
   ],
   "source": [
    "sns.set_style('whitegrid')\n",
    "plt.figure(figsize = (12,4))\n",
    "data=df.iloc[:,19].value_counts()\n",
    "sns.set_palette(sns.color_palette(my_colors))\n",
    "sns.barplot (x=data.index,y=data.values)"
   ]
  },
  {
   "cell_type": "markdown",
   "metadata": {},
   "source": [
    "🤷‍♀️ This field may be contain information about returning customer, but we can't say it with 100 percent sure. should investigate more."
   ]
  },
  {
   "cell_type": "markdown",
   "metadata": {},
   "source": [
    "👎 because we don't have additional information here, This field can't be useful. we will drop it in final step."
   ]
  },
  {
   "cell_type": "markdown",
   "metadata": {},
   "source": [
    "<h2>1-21 شماره بیمه نامه سال قبل  </h2>"
   ]
  },
  {
   "cell_type": "code",
   "execution_count": 46,
   "metadata": {
    "scrolled": true
   },
   "outputs": [
    {
     "data": {
      "text/plain": [
       "9102356                 2\n",
       "910                     2\n",
       "123                     2\n",
       "3                       2\n",
       "5                       2\n",
       "                       ..\n",
       "4-2-910409              1\n",
       "91/301/2484/000013      1\n",
       "9102382                 1\n",
       "55/0/1852/92/1852/14    1\n",
       "920525                  1\n",
       "Name: شماره بیمه نامه سال قبل, Length: 408, dtype: int64"
      ]
     },
     "execution_count": 46,
     "metadata": {},
     "output_type": "execute_result"
    }
   ],
   "source": [
    "df.iloc[:,20].value_counts()"
   ]
  },
  {
   "cell_type": "code",
   "execution_count": 47,
   "metadata": {},
   "outputs": [
    {
     "name": "stdout",
     "output_type": "stream",
     "text": [
      "\u001b[1m\u001b[90mThe field has \u001b[0m 640 \u001b[1m\u001b[90m missing values \u001b[0m\n",
      "\n"
     ]
    }
   ],
   "source": [
    "print(clr.S+\"The field has \"+clr.E, df.iloc[:,20].isna().sum(), clr.S+\" missing values \"+clr.E+ \"\\n\")"
   ]
  },
  {
   "cell_type": "markdown",
   "metadata": {},
   "source": [
    "👎 because we have lots of missing value here, This field can't be useful. we will drop it in final step."
   ]
  },
  {
   "cell_type": "markdown",
   "metadata": {},
   "source": [
    "<h2>1-22 سابقه خسارت   </h2>"
   ]
  },
  {
   "cell_type": "code",
   "execution_count": 48,
   "metadata": {
    "scrolled": true
   },
   "outputs": [
    {
     "data": {
      "text/plain": [
       "0       1043\n",
       "دارد      11\n",
       "Name: سابقه خسارت, dtype: int64"
      ]
     },
     "execution_count": 48,
     "metadata": {},
     "output_type": "execute_result"
    }
   ],
   "source": [
    "df.iloc[:,21].value_counts()"
   ]
  },
  {
   "cell_type": "code",
   "execution_count": 49,
   "metadata": {},
   "outputs": [
    {
     "data": {
      "text/plain": [
       "ردیف\n",
       "1    0\n",
       "2    0\n",
       "3    0\n",
       "4    0\n",
       "5    0\n",
       "Name: سابقه خسارت, dtype: object"
      ]
     },
     "execution_count": 49,
     "metadata": {},
     "output_type": "execute_result"
    }
   ],
   "source": [
    "df.iloc[:,21].head()"
   ]
  },
  {
   "cell_type": "markdown",
   "metadata": {},
   "source": [
    "🤷‍♀️ If we consider 0 value as without accident records, this field can be very useful.But we should investigate more."
   ]
  },
  {
   "cell_type": "markdown",
   "metadata": {},
   "source": [
    "👎 This Field hasn't NAN Value but it has too much zero value that could be sign of missing value,because we have lots of missing value here, This field can't be useful. we will drop it in final step."
   ]
  },
  {
   "cell_type": "markdown",
   "metadata": {},
   "source": [
    " <h2>1-23 تخفيف مديريتي   </h2>"
   ]
  },
  {
   "cell_type": "code",
   "execution_count": 50,
   "metadata": {
    "scrolled": true
   },
   "outputs": [
    {
     "data": {
      "text/plain": [
       "0          1050\n",
       "1304270       1\n",
       "6878550       1\n",
       "6943030       1\n",
       "2560250       1\n",
       "Name: تخفيف مديريتي, dtype: int64"
      ]
     },
     "execution_count": 50,
     "metadata": {},
     "output_type": "execute_result"
    }
   ],
   "source": [
    "df.iloc[:,22].value_counts()"
   ]
  },
  {
   "cell_type": "markdown",
   "metadata": {},
   "source": [
    "👎 Almost all rows has same value and because of it, This field can't be useful. we will drop it in final step."
   ]
  },
  {
   "cell_type": "markdown",
   "metadata": {},
   "source": [
    " <h2>1-24 محاسبه کارشناسي؟  </h2>"
   ]
  },
  {
   "cell_type": "code",
   "execution_count": 51,
   "metadata": {
    "scrolled": true
   },
   "outputs": [
    {
     "data": {
      "text/plain": [
       "خير    990\n",
       "بله     64\n",
       "Name: محاسبه کارشناسي؟, dtype: int64"
      ]
     },
     "execution_count": 51,
     "metadata": {},
     "output_type": "execute_result"
    }
   ],
   "source": [
    "df.iloc[:,23].value_counts()"
   ]
  },
  {
   "cell_type": "code",
   "execution_count": 52,
   "metadata": {},
   "outputs": [
    {
     "data": {
      "text/plain": [
       "<matplotlib.axes._subplots.AxesSubplot at 0x21b66c9fdd8>"
      ]
     },
     "execution_count": 52,
     "metadata": {},
     "output_type": "execute_result"
    },
    {
     "data": {
      "image/png": "[encoded data removed]",
      "text/plain": [
       "<Figure size 864x288 with 1 Axes>"
      ]
     },
     "metadata": {},
     "output_type": "display_data"
    }
   ],
   "source": [
    "sns.set_style('whitegrid')\n",
    "plt.figure(figsize = (12,4))\n",
    "data=df.iloc[:,23].value_counts()\n",
    "sns.set_palette(sns.color_palette(my_colors))\n",
    "sns.barplot (x=data.index,y=data.values)"
   ]
  },
  {
   "cell_type": "markdown",
   "metadata": {},
   "source": [
    "🤷‍♀️ Maybe this field shows the calculation are based on expert opinion or estimation. we should ask.   "
   ]
  },
  {
   "cell_type": "markdown",
   "metadata": {},
   "source": [
    "👎 To the best of my knowledge, this field and some others are base of calculation of revenue and we have this separately. So, we will drop it in final step."
   ]
  },
  {
   "cell_type": "markdown",
   "metadata": {},
   "source": [
    " <h2>1-25 حق بيمه  </h2>"
   ]
  },
  {
   "cell_type": "code",
   "execution_count": 53,
   "metadata": {
    "scrolled": true
   },
   "outputs": [
    {
     "data": {
      "text/plain": [
       "1000000     84\n",
       "5647500     10\n",
       "5854800      8\n",
       "3510000      8\n",
       "4179900      7\n",
       "            ..\n",
       "13390600     1\n",
       "1609000      1\n",
       "4401500      1\n",
       "5972000      1\n",
       "2049000      1\n",
       "Name: حق بيمه, Length: 907, dtype: int64"
      ]
     },
     "execution_count": 53,
     "metadata": {},
     "output_type": "execute_result"
    }
   ],
   "source": [
    "df.iloc[:,24].value_counts()"
   ]
  },
  {
   "cell_type": "code",
   "execution_count": 54,
   "metadata": {},
   "outputs": [
    {
     "data": {
      "text/plain": [
       "<matplotlib.axes._subplots.AxesSubplot at 0x21b611ab358>"
      ]
     },
     "execution_count": 54,
     "metadata": {},
     "output_type": "execute_result"
    },
    {
     "data": {
      "image/png": "[encoded data removed]",
      "text/plain": [
       "<Figure size 864x288 with 1 Axes>"
      ]
     },
     "metadata": {},
     "output_type": "display_data"
    }
   ],
   "source": [
    "sns.set_style('whitegrid')\n",
    "plt.figure(figsize = (12,4))\n",
    "data=df.iloc[:,24]\n",
    "data.name=\"Data\"\n",
    "data=data/100000 # scale for better view\n",
    "sns.distplot (data, bins = 30, norm_hist=False, kde=True, color =my_colors[1])"
   ]
  },
  {
   "cell_type": "markdown",
   "metadata": {},
   "source": [
    "📌 This field can be consider as revenue field. Very useful and informative."
   ]
  },
  {
   "cell_type": "markdown",
   "metadata": {},
   "source": [
    " <h2>1-26 ماليات بر ارزش  افزوده  </h2>"
   ]
  },
  {
   "cell_type": "code",
   "execution_count": 55,
   "metadata": {
    "scrolled": true
   },
   "outputs": [
    {
     "data": {
      "text/plain": [
       "36000     52\n",
       "53000     32\n",
       "203310    10\n",
       "210773     8\n",
       "186030     8\n",
       "          ..\n",
       "105783     1\n",
       "231379     1\n",
       "45407      1\n",
       "79150      1\n",
       "57344      1\n",
       "Name: ماليات بر ارزش  افزوده, Length: 911, dtype: int64"
      ]
     },
     "execution_count": 55,
     "metadata": {},
     "output_type": "execute_result"
    }
   ],
   "source": [
    "df.iloc[:,25].value_counts()"
   ]
  },
  {
   "cell_type": "code",
   "execution_count": 56,
   "metadata": {},
   "outputs": [
    {
     "data": {
      "text/plain": [
       "<matplotlib.axes._subplots.AxesSubplot at 0x21b66d9bf60>"
      ]
     },
     "execution_count": 56,
     "metadata": {},
     "output_type": "execute_result"
    },
    {
     "data": {
      "image/png": "[encoded data removed]",
      "text/plain": [
       "<Figure size 864x288 with 1 Axes>"
      ]
     },
     "metadata": {},
     "output_type": "display_data"
    }
   ],
   "source": [
    "sns.set_style('whitegrid')\n",
    "plt.figure(figsize = (12,4))\n",
    "data=df.iloc[:,25]\n",
    "data.name=\"Data\"\n",
    "data=data/100000 # scale for better view\n",
    "sns.distplot (data, bins = 30, norm_hist=False, kde=True, color =my_colors[1])"
   ]
  },
  {
   "cell_type": "markdown",
   "metadata": {},
   "source": [
    "👎 This field has same pattern with previous one, except some that cause of VAT rate change during years.  "
   ]
  },
  {
   "cell_type": "markdown",
   "metadata": {},
   "source": [
    " <h2>1-27 عوارض شهرداري   </h2>"
   ]
  },
  {
   "cell_type": "code",
   "execution_count": 57,
   "metadata": {
    "scrolled": true
   },
   "outputs": [
    {
     "data": {
      "text/plain": [
       "24000      52\n",
       "27000      32\n",
       "135540     10\n",
       "94770       8\n",
       "140515      8\n",
       "           ..\n",
       "71026       1\n",
       "64881       1\n",
       "30062       1\n",
       "2131308     1\n",
       "56352       1\n",
       "Name: عوارض شهرداري, Length: 910, dtype: int64"
      ]
     },
     "execution_count": 57,
     "metadata": {},
     "output_type": "execute_result"
    }
   ],
   "source": [
    "df.iloc[:,26].value_counts()"
   ]
  },
  {
   "cell_type": "code",
   "execution_count": 58,
   "metadata": {},
   "outputs": [
    {
     "data": {
      "text/plain": [
       "<matplotlib.axes._subplots.AxesSubplot at 0x21b66e5a2e8>"
      ]
     },
     "execution_count": 58,
     "metadata": {},
     "output_type": "execute_result"
    },
    {
     "data": {
      "image/png": "[encoded data removed]",
      "text/plain": [
       "<Figure size 864x288 with 1 Axes>"
      ]
     },
     "metadata": {},
     "output_type": "display_data"
    }
   ],
   "source": [
    "sns.set_style('whitegrid')\n",
    "plt.figure(figsize = (12,4))\n",
    "data=df.iloc[:,26]\n",
    "data.name=\"Data\"\n",
    "data=data/100000 # scale for better view\n",
    "sns.distplot (data, bins = 30, norm_hist=False, kde=True, color =my_colors[1])"
   ]
  },
  {
   "cell_type": "markdown",
   "metadata": {},
   "source": [
    "👎 This field has same pattern with previous one, we can drop it.  "
   ]
  },
  {
   "cell_type": "markdown",
   "metadata": {},
   "source": [
    " <h2>1-28 حق بيمه کل(با ماليات)   </h2>"
   ]
  },
  {
   "cell_type": "code",
   "execution_count": 59,
   "metadata": {
    "scrolled": true
   },
   "outputs": [
    {
     "data": {
      "text/plain": [
       "1060000     52\n",
       "1080000     32\n",
       "5986350     10\n",
       "6206088      8\n",
       "3790800      8\n",
       "            ..\n",
       "1502550      1\n",
       "3179952      1\n",
       "16258386     1\n",
       "2524496      1\n",
       "22505472     1\n",
       "Name: حق بيمه کل(با ماليات), Length: 911, dtype: int64"
      ]
     },
     "execution_count": 59,
     "metadata": {},
     "output_type": "execute_result"
    }
   ],
   "source": [
    "df.iloc[:,27].value_counts()"
   ]
  },
  {
   "cell_type": "code",
   "execution_count": 60,
   "metadata": {},
   "outputs": [
    {
     "data": {
      "text/plain": [
       "<matplotlib.axes._subplots.AxesSubplot at 0x21b66ec90f0>"
      ]
     },
     "execution_count": 60,
     "metadata": {},
     "output_type": "execute_result"
    },
    {
     "data": {
      "image/png": "[encoded data removed]",
      "text/plain": [
       "<Figure size 864x288 with 1 Axes>"
      ]
     },
     "metadata": {},
     "output_type": "display_data"
    }
   ],
   "source": [
    "sns.set_style('whitegrid')\n",
    "plt.figure(figsize = (12,4))\n",
    "data=df.iloc[:,27]\n",
    "data.name=\"Data\"\n",
    "data=data/100000 # scale for better view\n",
    "sns.distplot (data, bins = 30, norm_hist=False, kde=True, color =my_colors[1])"
   ]
  },
  {
   "cell_type": "markdown",
   "metadata": {},
   "source": [
    "👎 This field has same pattern with previous one, we can drop it.  "
   ]
  },
  {
   "cell_type": "markdown",
   "metadata": {},
   "source": [
    " <h2>1-29 واحد پیشنهاد دهنده  </h2>"
   ]
  },
  {
   "cell_type": "code",
   "execution_count": 61,
   "metadata": {
    "scrolled": true
   },
   "outputs": [
    {
     "data": {
      "text/plain": [
       "اصفهان كد 10031                     68\n",
       "سمنان-سمنان كد 10018                65\n",
       "قم-قم كد 10059                      62\n",
       "مشهد خراسان رضوي كد 10021           53\n",
       "خوزستان-اهواز كد 10095              39\n",
       "                                    ..\n",
       "سميه حاجي غلام علي ماهاني كد 545     1\n",
       "عزيزاله ميرزايي كد 1721              1\n",
       "مهدي نادري تهراني كد 1282            1\n",
       "عذرا دهقان نژاد كد 2133              1\n",
       "سميه رضايي رشنودي كد 2132            1\n",
       "Name: واحد پیشنهاد دهنده, Length: 188, dtype: int64"
      ]
     },
     "execution_count": 61,
     "metadata": {},
     "output_type": "execute_result"
    }
   ],
   "source": [
    "df.iloc[:,28].value_counts()"
   ]
  },
  {
   "cell_type": "code",
   "execution_count": 62,
   "metadata": {},
   "outputs": [
    {
     "name": "stdout",
     "output_type": "stream",
     "text": [
      "\u001b[1m\u001b[90mMore than \u001b[0m 93 \u001b[1m\u001b[90mPercent two fields have a same value \u001b[0m\n",
      "\n"
     ]
    }
   ],
   "source": [
    "print(clr.S+\"More than \"+clr.E, round(sum(df.iloc[:,4]==df.iloc[:,28])/len(df.iloc[:,4])*100), clr.S+\"Percent two fields have a same value \"+clr.E+ \"\\n\")"
   ]
  },
  {
   "cell_type": "markdown",
   "metadata": {},
   "source": [
    "👎 This field has redundant information, we can drop it in final step.But will useful for geographical information."
   ]
  },
  {
   "cell_type": "markdown",
   "metadata": {},
   "source": [
    " <h2>1-30 درصد تشديد خطر  </h2>"
   ]
  },
  {
   "cell_type": "code",
   "execution_count": 63,
   "metadata": {
    "scrolled": true
   },
   "outputs": [
    {
     "data": {
      "text/plain": [
       "0.0      1016\n",
       "30.0        5\n",
       "15.0        5\n",
       "10.0        5\n",
       "20.0        4\n",
       "5.0         2\n",
       "22.0        1\n",
       "12.0        1\n",
       "47.0        1\n",
       "60.0        1\n",
       "33.0        1\n",
       "115.0       1\n",
       "67.0        1\n",
       "44.0        1\n",
       "25.0        1\n",
       "2.0         1\n",
       "8.0         1\n",
       "42.0        1\n",
       "7.0         1\n",
       "110.0       1\n",
       "22.7        1\n",
       "71.0        1\n",
       "4.0         1\n",
       "Name: درصد تشديد خطر, dtype: int64"
      ]
     },
     "execution_count": 63,
     "metadata": {},
     "output_type": "execute_result"
    }
   ],
   "source": [
    "df.iloc[:,29].value_counts()"
   ]
  },
  {
   "cell_type": "code",
   "execution_count": 64,
   "metadata": {},
   "outputs": [
    {
     "data": {
      "text/plain": [
       "<matplotlib.axes._subplots.AxesSubplot at 0x21b66f952e8>"
      ]
     },
     "execution_count": 64,
     "metadata": {},
     "output_type": "execute_result"
    },
    {
     "data": {
      "image/png": "[encoded data removed]",
      "text/plain": [
       "<Figure size 864x288 with 1 Axes>"
      ]
     },
     "metadata": {},
     "output_type": "display_data"
    }
   ],
   "source": [
    "sns.set_style('whitegrid')\n",
    "plt.figure(figsize = (12,4))\n",
    "data=df.iloc[:,29].value_counts()\n",
    "sns.set_palette(sns.color_palette(my_colors))\n",
    "sns.barplot (x=data.index,y=data.values)"
   ]
  },
  {
   "cell_type": "markdown",
   "metadata": {},
   "source": [
    "👎 Almost every row has same value, and our final approach is RFM. So,this field could be useful but not in this area."
   ]
  },
  {
   "cell_type": "markdown",
   "metadata": {},
   "source": [
    "<h1>2-Data Cleaning<h1>"
   ]
  },
  {
   "cell_type": "markdown",
   "metadata": {},
   "source": [
    "![Data Cleaning](IMG/DataCleaning.png)"
   ]
  },
  {
   "cell_type": "markdown",
   "metadata": {},
   "source": [
    "👨‍🔬apply some function to extract province for each row."
   ]
  },
  {
   "cell_type": "code",
   "execution_count": 65,
   "metadata": {},
   "outputs": [],
   "source": [
    "df[\"Province\"]=province_locator_apply_for_series(df[\"واحد صدور\"],df[\"واحد پیشنهاد دهنده\"],df[\"آدرس محل فعاليت\"])\n",
    "df['Province']=df[\"Province\"].str.strip()\n",
    "df['Province']=df['Province'].apply(province_validator)"
   ]
  },
  {
   "cell_type": "code",
   "execution_count": 66,
   "metadata": {},
   "outputs": [],
   "source": [
    "df['Insurer ID']=df['بيمه گذار'].apply(code_extractor)\n",
    "df['Reagent ID']=df['معرف'].apply(code_extractor)\n",
    "df['Agent ID']=df['واحد صدور'].apply(code_extractor)\n",
    "df['Revenue']=df['حق بيمه']"
   ]
  },
  {
   "cell_type": "code",
   "execution_count": 67,
   "metadata": {},
   "outputs": [],
   "source": [
    "df['Temp']=df['تاريخ صدور']\n",
    "df['Temp']=df['Temp'].apply(date_reformatter)\n",
    "df['Purchase Date']=pd.to_datetime(df['Temp'],format=\"%Y-%M-%d\")\n",
    "df.drop(['Temp'],axis=1,inplace=True)"
   ]
  },
  {
   "cell_type": "code",
   "execution_count": 68,
   "metadata": {},
   "outputs": [],
   "source": [
    "analyze_df=df[['Insurer ID','Reagent ID','Agent ID','Province','Purchase Date','Revenue','Job Title ID','Duration']].copy()"
   ]
  },
  {
   "cell_type": "code",
   "execution_count": 69,
   "metadata": {},
   "outputs": [
    {
     "data": {
      "text/html": [
       "<div>\n",
       "<style scoped>\n",
       "    .dataframe tbody tr th:only-of-type {\n",
       "        vertical-align: middle;\n",
       "    }\n",
       "\n",
       "    .dataframe tbody tr th {\n",
       "        vertical-align: top;\n",
       "    }\n",
       "\n",
       "    .dataframe thead th {\n",
       "        text-align: right;\n",
       "    }\n",
       "</style>\n",
       "<table border=\"1\" class=\"dataframe\">\n",
       "  <thead>\n",
       "    <tr style=\"text-align: right;\">\n",
       "      <th></th>\n",
       "      <th>Insurer ID</th>\n",
       "      <th>Reagent ID</th>\n",
       "      <th>Agent ID</th>\n",
       "      <th>Province</th>\n",
       "      <th>Purchase Date</th>\n",
       "      <th>Revenue</th>\n",
       "      <th>Job Title ID</th>\n",
       "      <th>Duration</th>\n",
       "    </tr>\n",
       "    <tr>\n",
       "      <th>ردیف</th>\n",
       "      <th></th>\n",
       "      <th></th>\n",
       "      <th></th>\n",
       "      <th></th>\n",
       "      <th></th>\n",
       "      <th></th>\n",
       "      <th></th>\n",
       "      <th></th>\n",
       "    </tr>\n",
       "  </thead>\n",
       "  <tbody>\n",
       "    <tr>\n",
       "      <th>1</th>\n",
       "      <td>241</td>\n",
       "      <td>1754</td>\n",
       "      <td>10087</td>\n",
       "      <td>هرمزگان</td>\n",
       "      <td>2014-01-04 00:09:00</td>\n",
       "      <td>2205100</td>\n",
       "      <td>87</td>\n",
       "      <td>1</td>\n",
       "    </tr>\n",
       "    <tr>\n",
       "      <th>2</th>\n",
       "      <td>158</td>\n",
       "      <td>10087</td>\n",
       "      <td>10087</td>\n",
       "      <td>هرمزگان</td>\n",
       "      <td>2014-01-12 00:09:00</td>\n",
       "      <td>1630200</td>\n",
       "      <td>148</td>\n",
       "      <td>1</td>\n",
       "    </tr>\n",
       "    <tr>\n",
       "      <th>3</th>\n",
       "      <td>208</td>\n",
       "      <td>1865</td>\n",
       "      <td>10076</td>\n",
       "      <td>ایلام</td>\n",
       "      <td>2014-01-04 00:09:00</td>\n",
       "      <td>1087000</td>\n",
       "      <td>176</td>\n",
       "      <td>0</td>\n",
       "    </tr>\n",
       "    <tr>\n",
       "      <th>4</th>\n",
       "      <td>227</td>\n",
       "      <td>1113</td>\n",
       "      <td>10028</td>\n",
       "      <td>خراسان جنوبی</td>\n",
       "      <td>2014-01-05 00:09:00</td>\n",
       "      <td>2198600</td>\n",
       "      <td>236</td>\n",
       "      <td>1</td>\n",
       "    </tr>\n",
       "    <tr>\n",
       "      <th>5</th>\n",
       "      <td>234</td>\n",
       "      <td>1420</td>\n",
       "      <td>10021</td>\n",
       "      <td>خراسان رضوی</td>\n",
       "      <td>2014-01-06 00:09:00</td>\n",
       "      <td>6593100</td>\n",
       "      <td>0</td>\n",
       "      <td>1</td>\n",
       "    </tr>\n",
       "  </tbody>\n",
       "</table>\n",
       "</div>"
      ],
      "text/plain": [
       "      Insurer ID  Reagent ID  Agent ID      Province       Purchase Date  \\\n",
       "ردیف                                                                       \n",
       "1            241        1754     10087       هرمزگان 2014-01-04 00:09:00   \n",
       "2            158       10087     10087       هرمزگان 2014-01-12 00:09:00   \n",
       "3            208        1865     10076         ایلام 2014-01-04 00:09:00   \n",
       "4            227        1113     10028  خراسان جنوبی 2014-01-05 00:09:00   \n",
       "5            234        1420     10021   خراسان رضوی 2014-01-06 00:09:00   \n",
       "\n",
       "      Revenue  Job Title ID  Duration  \n",
       "ردیف                                   \n",
       "1     2205100            87         1  \n",
       "2     1630200           148         1  \n",
       "3     1087000           176         0  \n",
       "4     2198600           236         1  \n",
       "5     6593100             0         1  "
      ]
     },
     "execution_count": 69,
     "metadata": {},
     "output_type": "execute_result"
    }
   ],
   "source": [
    "analyze_df.head()"
   ]
  },
  {
   "cell_type": "code",
   "execution_count": 70,
   "metadata": {},
   "outputs": [
    {
     "name": "stdout",
     "output_type": "stream",
     "text": [
      "We have 930 unique Insurer ID\n"
     ]
    }
   ],
   "source": [
    "print('We have ' +str(len(analyze_df['Insurer ID'].unique()))+ ' unique Insurer ID')"
   ]
  },
  {
   "cell_type": "code",
   "execution_count": 71,
   "metadata": {},
   "outputs": [
    {
     "name": "stdout",
     "output_type": "stream",
     "text": [
      "We have 163 unique agent ID\n"
     ]
    }
   ],
   "source": [
    "print('We have ' +str(len(analyze_df['Agent ID'].unique()))+ ' unique agent ID')"
   ]
  },
  {
   "cell_type": "code",
   "execution_count": 72,
   "metadata": {},
   "outputs": [
    {
     "name": "stdout",
     "output_type": "stream",
     "text": [
      "We have 412 unique reagent ID\n"
     ]
    }
   ],
   "source": [
    "print('We have ' +str(len(analyze_df['Reagent ID'].unique()))+ ' unique reagent ID')"
   ]
  },
  {
   "cell_type": "code",
   "execution_count": 73,
   "metadata": {},
   "outputs": [
    {
     "name": "stdout",
     "output_type": "stream",
     "text": [
      "We have 32 unique Province\n"
     ]
    }
   ],
   "source": [
    "print('We have ' +str(len(analyze_df['Province'].unique()))+ ' unique Province')"
   ]
  },
  {
   "cell_type": "code",
   "execution_count": 87,
   "metadata": {},
   "outputs": [
    {
     "name": "stdout",
     "output_type": "stream",
     "text": [
      "We have 290 unique Job Title ID\n"
     ]
    }
   ],
   "source": [
    "print('We have ' +str(len(analyze_df['Job Title ID'].unique()))+ ' unique Job Title ID')"
   ]
  },
  {
   "cell_type": "code",
   "execution_count": 88,
   "metadata": {},
   "outputs": [
    {
     "name": "stdout",
     "output_type": "stream",
     "text": [
      "We have 4 unique Duration\n"
     ]
    }
   ],
   "source": [
    "print('We have ' +str(len(analyze_df['Duration'].unique()))+ ' unique Duration')"
   ]
  },
  {
   "cell_type": "markdown",
   "metadata": {},
   "source": [
    "🧪 We can apply RFM to all these 6 columns , But I prefer to apply this on Agent and Province that makes more sense."
   ]
  },
  {
   "cell_type": "markdown",
   "metadata": {},
   "source": [
    "<h1>3-Customer Segmentation<h1>"
   ]
  },
  {
   "cell_type": "markdown",
   "metadata": {},
   "source": [
    "![Data Cleaning](IMG/CustomerSegmentation.jpg)"
   ]
  },
  {
   "cell_type": "markdown",
   "metadata": {},
   "source": [
    "✔✔✔ So, it's better to apply RFM customer segmentation on Agents first. "
   ]
  },
  {
   "cell_type": "markdown",
   "metadata": {},
   "source": [
    "<h2>3-1 Agent Level</h2>"
   ]
  },
  {
   "cell_type": "markdown",
   "metadata": {},
   "source": [
    "💎First Recency"
   ]
  },
  {
   "cell_type": "code",
   "execution_count": 74,
   "metadata": {},
   "outputs": [
    {
     "data": {
      "text/html": [
       "<div>\n",
       "<style scoped>\n",
       "    .dataframe tbody tr th:only-of-type {\n",
       "        vertical-align: middle;\n",
       "    }\n",
       "\n",
       "    .dataframe tbody tr th {\n",
       "        vertical-align: top;\n",
       "    }\n",
       "\n",
       "    .dataframe thead th {\n",
       "        text-align: right;\n",
       "    }\n",
       "</style>\n",
       "<table border=\"1\" class=\"dataframe\">\n",
       "  <thead>\n",
       "    <tr style=\"text-align: right;\">\n",
       "      <th></th>\n",
       "      <th>Agent ID</th>\n",
       "      <th>Recency</th>\n",
       "    </tr>\n",
       "  </thead>\n",
       "  <tbody>\n",
       "    <tr>\n",
       "      <th>0</th>\n",
       "      <td>10087</td>\n",
       "      <td>365</td>\n",
       "    </tr>\n",
       "    <tr>\n",
       "      <th>1</th>\n",
       "      <td>10076</td>\n",
       "      <td>3</td>\n",
       "    </tr>\n",
       "    <tr>\n",
       "      <th>2</th>\n",
       "      <td>10028</td>\n",
       "      <td>7</td>\n",
       "    </tr>\n",
       "    <tr>\n",
       "      <th>3</th>\n",
       "      <td>10021</td>\n",
       "      <td>1</td>\n",
       "    </tr>\n",
       "    <tr>\n",
       "      <th>4</th>\n",
       "      <td>10079</td>\n",
       "      <td>10</td>\n",
       "    </tr>\n",
       "  </tbody>\n",
       "</table>\n",
       "</div>"
      ],
      "text/plain": [
       "   Agent ID  Recency\n",
       "0     10087      365\n",
       "1     10076        3\n",
       "2     10028        7\n",
       "3     10021        1\n",
       "4     10079       10"
      ]
     },
     "execution_count": 74,
     "metadata": {},
     "output_type": "execute_result"
    }
   ],
   "source": [
    "Agent_df=pd.DataFrame({})\n",
    "Agent_df = pd.DataFrame(analyze_df['Agent ID'].unique())\n",
    "Agent_df.columns = ['Agent ID']\n",
    "\n",
    "Agent_max_purchase = analyze_df.groupby('Agent ID')['Purchase Date'].max().reset_index()\n",
    "Agent_max_purchase.columns = ['Agent ID','MaxPurchaseDate']\n",
    "\n",
    "Agent_max_purchase['Recency'] = (Agent_max_purchase['MaxPurchaseDate'].max() - Agent_max_purchase['MaxPurchaseDate']).dt.days\n",
    "\n",
    "Agent_df = pd.merge(Agent_df, Agent_max_purchase[['Agent ID','Recency']], on='Agent ID')\n",
    "\n",
    "Agent_df.head()"
   ]
  },
  {
   "cell_type": "code",
   "execution_count": 75,
   "metadata": {},
   "outputs": [
    {
     "data": {
      "text/plain": [
       "count    163.000000\n",
       "mean     133.895706\n",
       "std      173.497629\n",
       "min        0.000000\n",
       "25%        6.500000\n",
       "50%       16.000000\n",
       "75%      370.000000\n",
       "max      389.000000\n",
       "Name: Recency, dtype: float64"
      ]
     },
     "execution_count": 75,
     "metadata": {},
     "output_type": "execute_result"
    }
   ],
   "source": [
    "Agent_df.Recency.describe()"
   ]
  },
  {
   "cell_type": "markdown",
   "metadata": {},
   "source": [
    "There is very important thing here. We have 133 as mean and 16 as median. we have large outliers in our data. "
   ]
  },
  {
   "cell_type": "code",
   "execution_count": 76,
   "metadata": {},
   "outputs": [
    {
     "data": {
      "image/png": "[encoded data removed]",
      "text/plain": [
       "<Figure size 432x288 with 1 Axes>"
      ]
     },
     "metadata": {},
     "output_type": "display_data"
    }
   ],
   "source": [
    "Agent_df['Recency'].hist(bins=40)\n",
    "plt.show()"
   ]
  },
  {
   "cell_type": "markdown",
   "metadata": {},
   "source": [
    "Very interesting. There are  few agents that really forgot us. let see how many?"
   ]
  },
  {
   "cell_type": "code",
   "execution_count": 77,
   "metadata": {},
   "outputs": [
    {
     "name": "stdout",
     "output_type": "stream",
     "text": [
      "There are 55 Agents that forgot us for almost a year\n"
     ]
    }
   ],
   "source": [
    "print('There are '+str(Agent_df[Agent_df['Recency']>350].count()[0])+' Agents that forgot us for almost a year')"
   ]
  },
  {
   "cell_type": "code",
   "execution_count": 78,
   "metadata": {},
   "outputs": [
    {
     "data": {
      "image/png": "[encoded data removed]",
      "text/plain": [
       "<Figure size 432x288 with 1 Axes>"
      ]
     },
     "metadata": {},
     "output_type": "display_data"
    }
   ],
   "source": [
    "Agent_df[Agent_df['Recency']<350]['Recency'].hist(bins=10)\n",
    "plt.show()"
   ]
  },
  {
   "cell_type": "markdown",
   "metadata": {},
   "source": [
    "We have a lot of loyal agents. "
   ]
  },
  {
   "cell_type": "markdown",
   "metadata": {},
   "source": [
    "I want to apply kmeans to find best number of clusters on Recency "
   ]
  },
  {
   "cell_type": "code",
   "execution_count": 79,
   "metadata": {},
   "outputs": [
    {
     "data": {
      "image/png": "[encoded data removed]",
      "text/plain": [
       "<Figure size 432x288 with 1 Axes>"
      ]
     },
     "metadata": {},
     "output_type": "display_data"
    }
   ],
   "source": [
    "from sklearn.cluster import KMeans\n",
    "\n",
    "sse={}\n",
    "tx_recency = Agent_df[['Recency']]\n",
    "for k in range(1, 10):\n",
    "    kmeans = KMeans(n_clusters=k, max_iter=1000).fit(tx_recency)\n",
    "    tx_recency[\"clusters\"] = kmeans.labels_\n",
    "    sse[k] = kmeans.inertia_ \n",
    "plt.figure()\n",
    "plt.plot(list(sse.keys()), list(sse.values()))\n",
    "plt.xlabel(\"Number of cluster\")\n",
    "plt.show()"
   ]
  },
  {
   "cell_type": "markdown",
   "metadata": {},
   "source": [
    "As we could guess earlier best clusters number is 2. But we have large outliers. so first we should create a cluster with more than 350 Days and then apply kmeans again on rest of data."
   ]
  },
  {
   "cell_type": "code",
   "execution_count": 80,
   "metadata": {},
   "outputs": [
    {
     "data": {
      "image/png": "[encoded data removed]",
      "text/plain": [
       "<Figure size 432x288 with 1 Axes>"
      ]
     },
     "metadata": {},
     "output_type": "display_data"
    }
   ],
   "source": [
    "tx_recency = Agent_df.loc[Agent_df[\"Recency\"]<360].copy()\n",
    "sse={}\n",
    "for k in range(1, 10):\n",
    "    kmeans = KMeans(n_clusters=k, max_iter=1000).fit(tx_recency)\n",
    "    tx_recency[\"clusters\"] = kmeans.labels_\n",
    "    sse[k] = kmeans.inertia_ \n",
    "plt.figure()\n",
    "plt.plot(list(sse.keys()), list(sse.values()))\n",
    "plt.xlabel(\"Number of cluster\")\n",
    "plt.show()"
   ]
  },
  {
   "cell_type": "code",
   "execution_count": 132,
   "metadata": {},
   "outputs": [],
   "source": [
    "tx_recency = Agent_df.loc[Agent_df[\"Recency\"]<360].copy()\n",
    "kmeans = KMeans(n_clusters=2)\n",
    "kmeans.fit(tx_recency[['Recency']])\n",
    "tx_recency['RecencyCluster'] = kmeans.predict(tx_recency[['Recency']])\n",
    "\n",
    "#function for ordering cluster numbers\n",
    "def order_cluster(cluster_field_name, target_field_name,df,ascending):\n",
    "    new_cluster_field_name = 'new_' + cluster_field_name\n",
    "    df_new = df.groupby(cluster_field_name)[target_field_name].mean().reset_index()\n",
    "    df_new = df_new.sort_values(by=target_field_name,ascending=ascending).reset_index(drop=True)\n",
    "    df_new['index'] = df_new.index\n",
    "    df_final = pd.merge(df,df_new[[cluster_field_name,'index']], on=cluster_field_name)\n",
    "    df_final = df_final.drop([cluster_field_name],axis=1)\n",
    "    df_final = df_final.rename(columns={\"index\":cluster_field_name})\n",
    "    return df_final\n",
    "\n",
    "tx_user = order_cluster('RecencyCluster', 'Recency',tx_recency,False)"
   ]
  },
  {
   "cell_type": "code",
   "execution_count": 133,
   "metadata": {},
   "outputs": [
    {
     "data": {
      "text/plain": [
       "1    61\n",
       "0    47\n",
       "Name: RecencyCluster, dtype: int64"
      ]
     },
     "execution_count": 133,
     "metadata": {},
     "output_type": "execute_result"
    }
   ],
   "source": [
    "tx_user.RecencyCluster.value_counts()"
   ]
  },
  {
   "cell_type": "code",
   "execution_count": 134,
   "metadata": {},
   "outputs": [
    {
     "name": "stdout",
     "output_type": "stream",
     "text": [
      "So, We have 3 Clusters for Recency: less than 11 Between 11 and 30 and more than 350\n"
     ]
    }
   ],
   "source": [
    "print('So, We have 3 Clusters for Recency: less than '+str(tx_user[tx_user[\"RecencyCluster\"]==1][\"Recency\"].max())+' Between '\n",
    "      +str(tx_user[tx_user[\"RecencyCluster\"]==1][\"Recency\"].max())+' and '+str(tx_user[tx_user[\"RecencyCluster\"]==0][\"Recency\"].max())+\n",
    "     ' and more than 350')"
   ]
  },
  {
   "cell_type": "markdown",
   "metadata": {},
   "source": [
    "Let's Build R Column in Agent ID Data Frame."
   ]
  },
  {
   "cell_type": "code",
   "execution_count": 135,
   "metadata": {},
   "outputs": [],
   "source": [
    "def Recenecy_cat(Recenecy):\n",
    "    if Recenecy<=11:\n",
    "        return 1\n",
    "    elif Recenecy<=30:\n",
    "        return 2\n",
    "    return 3"
   ]
  },
  {
   "cell_type": "code",
   "execution_count": 136,
   "metadata": {},
   "outputs": [],
   "source": [
    "Agent_df['R']=Agent_df[\"Recency\"].apply(Recenecy_cat)"
   ]
  },
  {
   "cell_type": "code",
   "execution_count": 137,
   "metadata": {},
   "outputs": [
    {
     "data": {
      "text/html": [
       "<div>\n",
       "<style scoped>\n",
       "    .dataframe tbody tr th:only-of-type {\n",
       "        vertical-align: middle;\n",
       "    }\n",
       "\n",
       "    .dataframe tbody tr th {\n",
       "        vertical-align: top;\n",
       "    }\n",
       "\n",
       "    .dataframe thead th {\n",
       "        text-align: right;\n",
       "    }\n",
       "</style>\n",
       "<table border=\"1\" class=\"dataframe\">\n",
       "  <thead>\n",
       "    <tr style=\"text-align: right;\">\n",
       "      <th></th>\n",
       "      <th>Agent ID</th>\n",
       "      <th>Recency</th>\n",
       "      <th>R</th>\n",
       "      <th>Frequency</th>\n",
       "      <th>F</th>\n",
       "      <th>Monetary</th>\n",
       "      <th>M</th>\n",
       "      <th>F&amp;M</th>\n",
       "      <th>Customer_label</th>\n",
       "    </tr>\n",
       "  </thead>\n",
       "  <tbody>\n",
       "    <tr>\n",
       "      <th>0</th>\n",
       "      <td>10087</td>\n",
       "      <td>365</td>\n",
       "      <td>3</td>\n",
       "      <td>13</td>\n",
       "      <td>2</td>\n",
       "      <td>4308.2062</td>\n",
       "      <td>3</td>\n",
       "      <td>2.5</td>\n",
       "      <td>At risk</td>\n",
       "    </tr>\n",
       "    <tr>\n",
       "      <th>1</th>\n",
       "      <td>10055</td>\n",
       "      <td>2</td>\n",
       "      <td>1</td>\n",
       "      <td>17</td>\n",
       "      <td>2</td>\n",
       "      <td>7008.9125</td>\n",
       "      <td>3</td>\n",
       "      <td>2.5</td>\n",
       "      <td>Potential Loyal</td>\n",
       "    </tr>\n",
       "    <tr>\n",
       "      <th>2</th>\n",
       "      <td>10081</td>\n",
       "      <td>8</td>\n",
       "      <td>1</td>\n",
       "      <td>14</td>\n",
       "      <td>2</td>\n",
       "      <td>4873.2000</td>\n",
       "      <td>3</td>\n",
       "      <td>2.5</td>\n",
       "      <td>Potential Loyal</td>\n",
       "    </tr>\n",
       "    <tr>\n",
       "      <th>3</th>\n",
       "      <td>22</td>\n",
       "      <td>0</td>\n",
       "      <td>1</td>\n",
       "      <td>32</td>\n",
       "      <td>2</td>\n",
       "      <td>8367.7200</td>\n",
       "      <td>3</td>\n",
       "      <td>2.5</td>\n",
       "      <td>Potential Loyal</td>\n",
       "    </tr>\n",
       "    <tr>\n",
       "      <th>4</th>\n",
       "      <td>10076</td>\n",
       "      <td>3</td>\n",
       "      <td>1</td>\n",
       "      <td>8</td>\n",
       "      <td>3</td>\n",
       "      <td>2315.1100</td>\n",
       "      <td>3</td>\n",
       "      <td>3.0</td>\n",
       "      <td>New Customer</td>\n",
       "    </tr>\n",
       "  </tbody>\n",
       "</table>\n",
       "</div>"
      ],
      "text/plain": [
       "   Agent ID  Recency  R  Frequency  F   Monetary  M  F&M   Customer_label\n",
       "0     10087      365  3         13  2  4308.2062  3  2.5          At risk\n",
       "1     10055        2  1         17  2  7008.9125  3  2.5  Potential Loyal\n",
       "2     10081        8  1         14  2  4873.2000  3  2.5  Potential Loyal\n",
       "3        22        0  1         32  2  8367.7200  3  2.5  Potential Loyal\n",
       "4     10076        3  1          8  3  2315.1100  3  3.0     New Customer"
      ]
     },
     "execution_count": 137,
     "metadata": {},
     "output_type": "execute_result"
    }
   ],
   "source": [
    "Agent_df.head()"
   ]
  },
  {
   "cell_type": "markdown",
   "metadata": {},
   "source": [
    "Second Frequency "
   ]
  },
  {
   "cell_type": "code",
   "execution_count": 89,
   "metadata": {},
   "outputs": [
    {
     "data": {
      "text/html": [
       "<div>\n",
       "<style scoped>\n",
       "    .dataframe tbody tr th:only-of-type {\n",
       "        vertical-align: middle;\n",
       "    }\n",
       "\n",
       "    .dataframe tbody tr th {\n",
       "        vertical-align: top;\n",
       "    }\n",
       "\n",
       "    .dataframe thead th {\n",
       "        text-align: right;\n",
       "    }\n",
       "</style>\n",
       "<table border=\"1\" class=\"dataframe\">\n",
       "  <thead>\n",
       "    <tr style=\"text-align: right;\">\n",
       "      <th></th>\n",
       "      <th>Agent ID</th>\n",
       "      <th>Recency</th>\n",
       "      <th>R</th>\n",
       "      <th>Frequency</th>\n",
       "    </tr>\n",
       "  </thead>\n",
       "  <tbody>\n",
       "    <tr>\n",
       "      <th>0</th>\n",
       "      <td>10087</td>\n",
       "      <td>365</td>\n",
       "      <td>3</td>\n",
       "      <td>13</td>\n",
       "    </tr>\n",
       "    <tr>\n",
       "      <th>1</th>\n",
       "      <td>10076</td>\n",
       "      <td>3</td>\n",
       "      <td>1</td>\n",
       "      <td>8</td>\n",
       "    </tr>\n",
       "    <tr>\n",
       "      <th>2</th>\n",
       "      <td>10028</td>\n",
       "      <td>7</td>\n",
       "      <td>1</td>\n",
       "      <td>9</td>\n",
       "    </tr>\n",
       "    <tr>\n",
       "      <th>3</th>\n",
       "      <td>10021</td>\n",
       "      <td>1</td>\n",
       "      <td>1</td>\n",
       "      <td>57</td>\n",
       "    </tr>\n",
       "    <tr>\n",
       "      <th>4</th>\n",
       "      <td>10079</td>\n",
       "      <td>10</td>\n",
       "      <td>1</td>\n",
       "      <td>14</td>\n",
       "    </tr>\n",
       "  </tbody>\n",
       "</table>\n",
       "</div>"
      ],
      "text/plain": [
       "   Agent ID  Recency  R  Frequency\n",
       "0     10087      365  3         13\n",
       "1     10076        3  1          8\n",
       "2     10028        7  1          9\n",
       "3     10021        1  1         57\n",
       "4     10079       10  1         14"
      ]
     },
     "execution_count": 89,
     "metadata": {},
     "output_type": "execute_result"
    }
   ],
   "source": [
    "Agent_Freqency = analyze_df.groupby('Agent ID')['Purchase Date'].count().reset_index()\n",
    "Agent_Freqency.columns = ['Agent ID','Frequency']\n",
    "\n",
    "Agent_df = pd.merge(Agent_df, Agent_Freqency[['Agent ID','Frequency']], on='Agent ID')\n",
    "\n",
    "Agent_df.head()"
   ]
  },
  {
   "cell_type": "code",
   "execution_count": 90,
   "metadata": {},
   "outputs": [
    {
     "data": {
      "text/plain": [
       "count    163.000000\n",
       "mean       6.466258\n",
       "std       12.819874\n",
       "min        1.000000\n",
       "25%        1.000000\n",
       "50%        2.000000\n",
       "75%        5.500000\n",
       "max       91.000000\n",
       "Name: Frequency, dtype: float64"
      ]
     },
     "execution_count": 90,
     "metadata": {},
     "output_type": "execute_result"
    }
   ],
   "source": [
    "Agent_df.Frequency.describe()"
   ]
  },
  {
   "cell_type": "code",
   "execution_count": 91,
   "metadata": {},
   "outputs": [
    {
     "data": {
      "image/png": "[encoded data removed]",
      "text/plain": [
       "<Figure size 432x288 with 1 Axes>"
      ]
     },
     "metadata": {},
     "output_type": "display_data"
    }
   ],
   "source": [
    "Agent_df.Frequency.hist(bins=10)\n",
    "plt.show()"
   ]
  },
  {
   "cell_type": "code",
   "execution_count": 92,
   "metadata": {},
   "outputs": [
    {
     "data": {
      "text/html": [
       "<div>\n",
       "<style scoped>\n",
       "    .dataframe tbody tr th:only-of-type {\n",
       "        vertical-align: middle;\n",
       "    }\n",
       "\n",
       "    .dataframe tbody tr th {\n",
       "        vertical-align: top;\n",
       "    }\n",
       "\n",
       "    .dataframe thead th {\n",
       "        text-align: right;\n",
       "    }\n",
       "</style>\n",
       "<table border=\"1\" class=\"dataframe\">\n",
       "  <thead>\n",
       "    <tr style=\"text-align: right;\">\n",
       "      <th></th>\n",
       "      <th>Agent ID</th>\n",
       "      <th>Recency</th>\n",
       "      <th>R</th>\n",
       "      <th>Frequency</th>\n",
       "      <th>F</th>\n",
       "    </tr>\n",
       "  </thead>\n",
       "  <tbody>\n",
       "    <tr>\n",
       "      <th>0</th>\n",
       "      <td>10087</td>\n",
       "      <td>365</td>\n",
       "      <td>3</td>\n",
       "      <td>13</td>\n",
       "      <td>0</td>\n",
       "    </tr>\n",
       "    <tr>\n",
       "      <th>1</th>\n",
       "      <td>10076</td>\n",
       "      <td>3</td>\n",
       "      <td>1</td>\n",
       "      <td>8</td>\n",
       "      <td>1</td>\n",
       "    </tr>\n",
       "    <tr>\n",
       "      <th>2</th>\n",
       "      <td>10028</td>\n",
       "      <td>7</td>\n",
       "      <td>1</td>\n",
       "      <td>9</td>\n",
       "      <td>1</td>\n",
       "    </tr>\n",
       "    <tr>\n",
       "      <th>3</th>\n",
       "      <td>10021</td>\n",
       "      <td>1</td>\n",
       "      <td>1</td>\n",
       "      <td>57</td>\n",
       "      <td>2</td>\n",
       "    </tr>\n",
       "    <tr>\n",
       "      <th>4</th>\n",
       "      <td>10079</td>\n",
       "      <td>10</td>\n",
       "      <td>1</td>\n",
       "      <td>14</td>\n",
       "      <td>0</td>\n",
       "    </tr>\n",
       "  </tbody>\n",
       "</table>\n",
       "</div>"
      ],
      "text/plain": [
       "   Agent ID  Recency  R  Frequency  F\n",
       "0     10087      365  3         13  0\n",
       "1     10076        3  1          8  1\n",
       "2     10028        7  1          9  1\n",
       "3     10021        1  1         57  2\n",
       "4     10079       10  1         14  0"
      ]
     },
     "execution_count": 92,
     "metadata": {},
     "output_type": "execute_result"
    }
   ],
   "source": [
    "kmeans = KMeans(n_clusters=3)\n",
    "kmeans.fit(Agent_df[['Frequency']])\n",
    "Agent_df['F'] = kmeans.predict(Agent_df[['Frequency']])\n",
    "\n",
    "Agent_df.head()"
   ]
  },
  {
   "cell_type": "code",
   "execution_count": 93,
   "metadata": {},
   "outputs": [
    {
     "data": {
      "text/html": [
       "<div>\n",
       "<style scoped>\n",
       "    .dataframe tbody tr th:only-of-type {\n",
       "        vertical-align: middle;\n",
       "    }\n",
       "\n",
       "    .dataframe tbody tr th {\n",
       "        vertical-align: top;\n",
       "    }\n",
       "\n",
       "    .dataframe thead th {\n",
       "        text-align: right;\n",
       "    }\n",
       "</style>\n",
       "<table border=\"1\" class=\"dataframe\">\n",
       "  <thead>\n",
       "    <tr style=\"text-align: right;\">\n",
       "      <th></th>\n",
       "      <th>count</th>\n",
       "      <th>mean</th>\n",
       "      <th>std</th>\n",
       "      <th>min</th>\n",
       "      <th>25%</th>\n",
       "      <th>50%</th>\n",
       "      <th>75%</th>\n",
       "      <th>max</th>\n",
       "    </tr>\n",
       "    <tr>\n",
       "      <th>F</th>\n",
       "      <th></th>\n",
       "      <th></th>\n",
       "      <th></th>\n",
       "      <th></th>\n",
       "      <th></th>\n",
       "      <th></th>\n",
       "      <th></th>\n",
       "      <th></th>\n",
       "    </tr>\n",
       "  </thead>\n",
       "  <tbody>\n",
       "    <tr>\n",
       "      <th>1</th>\n",
       "      <td>5.0</td>\n",
       "      <td>66.800000</td>\n",
       "      <td>13.863621</td>\n",
       "      <td>57.0</td>\n",
       "      <td>59.0</td>\n",
       "      <td>62.0</td>\n",
       "      <td>65.0</td>\n",
       "      <td>91.0</td>\n",
       "    </tr>\n",
       "    <tr>\n",
       "      <th>2</th>\n",
       "      <td>18.0</td>\n",
       "      <td>21.000000</td>\n",
       "      <td>7.112541</td>\n",
       "      <td>12.0</td>\n",
       "      <td>17.0</td>\n",
       "      <td>19.0</td>\n",
       "      <td>23.5</td>\n",
       "      <td>36.0</td>\n",
       "    </tr>\n",
       "    <tr>\n",
       "      <th>3</th>\n",
       "      <td>140.0</td>\n",
       "      <td>2.442857</td>\n",
       "      <td>2.286247</td>\n",
       "      <td>1.0</td>\n",
       "      <td>1.0</td>\n",
       "      <td>1.0</td>\n",
       "      <td>3.0</td>\n",
       "      <td>11.0</td>\n",
       "    </tr>\n",
       "  </tbody>\n",
       "</table>\n",
       "</div>"
      ],
      "text/plain": [
       "   count       mean        std   min   25%   50%   75%   max\n",
       "F                                                           \n",
       "1    5.0  66.800000  13.863621  57.0  59.0  62.0  65.0  91.0\n",
       "2   18.0  21.000000   7.112541  12.0  17.0  19.0  23.5  36.0\n",
       "3  140.0   2.442857   2.286247   1.0   1.0   1.0   3.0  11.0"
      ]
     },
     "execution_count": 93,
     "metadata": {},
     "output_type": "execute_result"
    }
   ],
   "source": [
    "Agent_df=order_cluster('F','Frequency',Agent_df,False)\n",
    "Agent_df.F=Agent_df.F+1\n",
    "Agent_df.groupby(\"F\")['Frequency'].describe()"
   ]
  },
  {
   "cell_type": "markdown",
   "metadata": {},
   "source": [
    "Last one monetary"
   ]
  },
  {
   "cell_type": "code",
   "execution_count": 94,
   "metadata": {},
   "outputs": [
    {
     "data": {
      "text/html": [
       "<div>\n",
       "<style scoped>\n",
       "    .dataframe tbody tr th:only-of-type {\n",
       "        vertical-align: middle;\n",
       "    }\n",
       "\n",
       "    .dataframe tbody tr th {\n",
       "        vertical-align: top;\n",
       "    }\n",
       "\n",
       "    .dataframe thead th {\n",
       "        text-align: right;\n",
       "    }\n",
       "</style>\n",
       "<table border=\"1\" class=\"dataframe\">\n",
       "  <thead>\n",
       "    <tr style=\"text-align: right;\">\n",
       "      <th></th>\n",
       "      <th>Agent ID</th>\n",
       "      <th>Recency</th>\n",
       "      <th>R</th>\n",
       "      <th>Frequency</th>\n",
       "      <th>F</th>\n",
       "      <th>Monetary</th>\n",
       "    </tr>\n",
       "  </thead>\n",
       "  <tbody>\n",
       "    <tr>\n",
       "      <th>0</th>\n",
       "      <td>10087</td>\n",
       "      <td>365</td>\n",
       "      <td>3</td>\n",
       "      <td>13</td>\n",
       "      <td>2</td>\n",
       "      <td>4308.2062</td>\n",
       "    </tr>\n",
       "    <tr>\n",
       "      <th>1</th>\n",
       "      <td>10079</td>\n",
       "      <td>10</td>\n",
       "      <td>1</td>\n",
       "      <td>14</td>\n",
       "      <td>2</td>\n",
       "      <td>16004.1622</td>\n",
       "    </tr>\n",
       "    <tr>\n",
       "      <th>2</th>\n",
       "      <td>10061</td>\n",
       "      <td>0</td>\n",
       "      <td>1</td>\n",
       "      <td>36</td>\n",
       "      <td>2</td>\n",
       "      <td>10808.8100</td>\n",
       "    </tr>\n",
       "    <tr>\n",
       "      <th>3</th>\n",
       "      <td>10035</td>\n",
       "      <td>2</td>\n",
       "      <td>1</td>\n",
       "      <td>28</td>\n",
       "      <td>2</td>\n",
       "      <td>15552.0300</td>\n",
       "    </tr>\n",
       "    <tr>\n",
       "      <th>4</th>\n",
       "      <td>10001</td>\n",
       "      <td>2</td>\n",
       "      <td>1</td>\n",
       "      <td>17</td>\n",
       "      <td>2</td>\n",
       "      <td>10788.0600</td>\n",
       "    </tr>\n",
       "  </tbody>\n",
       "</table>\n",
       "</div>"
      ],
      "text/plain": [
       "   Agent ID  Recency  R  Frequency  F    Monetary\n",
       "0     10087      365  3         13  2   4308.2062\n",
       "1     10079       10  1         14  2  16004.1622\n",
       "2     10061        0  1         36  2  10808.8100\n",
       "3     10035        2  1         28  2  15552.0300\n",
       "4     10001        2  1         17  2  10788.0600"
      ]
     },
     "execution_count": 94,
     "metadata": {},
     "output_type": "execute_result"
    }
   ],
   "source": [
    "# money scale down\n",
    "\n",
    "\n",
    "Agent_Monetary = analyze_df.groupby('Agent ID')['Revenue'].sum().reset_index()\n",
    "Agent_Monetary.columns = ['Agent ID','Monetary']\n",
    "\n",
    "Agent_df = pd.merge(Agent_df, Agent_Monetary[['Agent ID','Monetary']], on='Agent ID')\n",
    "\n",
    "Agent_df['Monetary']=Agent_df['Monetary']/10000\n",
    "Agent_df.head()"
   ]
  },
  {
   "cell_type": "code",
   "execution_count": 95,
   "metadata": {},
   "outputs": [
    {
     "data": {
      "text/html": [
       "<div>\n",
       "<style scoped>\n",
       "    .dataframe tbody tr th:only-of-type {\n",
       "        vertical-align: middle;\n",
       "    }\n",
       "\n",
       "    .dataframe tbody tr th {\n",
       "        vertical-align: top;\n",
       "    }\n",
       "\n",
       "    .dataframe thead th {\n",
       "        text-align: right;\n",
       "    }\n",
       "</style>\n",
       "<table border=\"1\" class=\"dataframe\">\n",
       "  <thead>\n",
       "    <tr style=\"text-align: right;\">\n",
       "      <th></th>\n",
       "      <th>count</th>\n",
       "      <th>mean</th>\n",
       "      <th>std</th>\n",
       "      <th>min</th>\n",
       "      <th>25%</th>\n",
       "      <th>50%</th>\n",
       "      <th>75%</th>\n",
       "      <th>max</th>\n",
       "    </tr>\n",
       "    <tr>\n",
       "      <th>M</th>\n",
       "      <th></th>\n",
       "      <th></th>\n",
       "      <th></th>\n",
       "      <th></th>\n",
       "      <th></th>\n",
       "      <th></th>\n",
       "      <th></th>\n",
       "      <th></th>\n",
       "    </tr>\n",
       "  </thead>\n",
       "  <tbody>\n",
       "    <tr>\n",
       "      <th>1</th>\n",
       "      <td>3.0</td>\n",
       "      <td>59300.596500</td>\n",
       "      <td>21475.370705</td>\n",
       "      <td>44032.8075</td>\n",
       "      <td>47022.52475</td>\n",
       "      <td>50012.2420</td>\n",
       "      <td>66934.49100</td>\n",
       "      <td>83856.74</td>\n",
       "    </tr>\n",
       "    <tr>\n",
       "      <th>2</th>\n",
       "      <td>20.0</td>\n",
       "      <td>15932.233985</td>\n",
       "      <td>6109.339305</td>\n",
       "      <td>9252.4700</td>\n",
       "      <td>11303.19475</td>\n",
       "      <td>14951.9409</td>\n",
       "      <td>17562.89375</td>\n",
       "      <td>31293.92</td>\n",
       "    </tr>\n",
       "    <tr>\n",
       "      <th>3</th>\n",
       "      <td>140.0</td>\n",
       "      <td>1568.712398</td>\n",
       "      <td>1853.689537</td>\n",
       "      <td>100.0000</td>\n",
       "      <td>363.09500</td>\n",
       "      <td>736.3250</td>\n",
       "      <td>1926.87750</td>\n",
       "      <td>8367.72</td>\n",
       "    </tr>\n",
       "  </tbody>\n",
       "</table>\n",
       "</div>"
      ],
      "text/plain": [
       "   count          mean           std         min          25%         50%  \\\n",
       "M                                                                           \n",
       "1    3.0  59300.596500  21475.370705  44032.8075  47022.52475  50012.2420   \n",
       "2   20.0  15932.233985   6109.339305   9252.4700  11303.19475  14951.9409   \n",
       "3  140.0   1568.712398   1853.689537    100.0000    363.09500    736.3250   \n",
       "\n",
       "           75%       max  \n",
       "M                         \n",
       "1  66934.49100  83856.74  \n",
       "2  17562.89375  31293.92  \n",
       "3   1926.87750   8367.72  "
      ]
     },
     "execution_count": 95,
     "metadata": {},
     "output_type": "execute_result"
    }
   ],
   "source": [
    "kmeans = KMeans(n_clusters=3)\n",
    "kmeans.fit(Agent_df[['Monetary']])\n",
    "Agent_df['M'] = kmeans.predict(Agent_df[['Monetary']])\n",
    "Agent_df=order_cluster('M','Monetary',Agent_df,False)\n",
    "Agent_df.M=Agent_df.M+1\n",
    "Agent_df.groupby(\"M\")['Monetary'].describe()"
   ]
  },
  {
   "cell_type": "code",
   "execution_count": 96,
   "metadata": {},
   "outputs": [],
   "source": [
    "def customer_label(r,f_m):\n",
    "        if r==1:\n",
    "                if f_m<2:\n",
    "                    return \"Champion\"\n",
    "                elif f_m<3:\n",
    "                    return \"Potential Loyal\"\n",
    "                elif f_m ==3:\n",
    "                    return \"New Customer\"\n",
    "        if r==2:\n",
    "                if f_m<1:\n",
    "                    return \"Loyal\"\n",
    "                elif f_m<3:\n",
    "                    return \"Need Attenion\"\n",
    "                elif f_m == 3:\n",
    "                    return \"About to sleep\"\n",
    "        if r==3:\n",
    "                if f_m<2:\n",
    "                    return \"Can't lose\"\n",
    "                elif f_m<3:\n",
    "                    return \"At risk\"\n",
    "                elif f_m ==3:\n",
    "                    return \"Hibernating\""
   ]
  },
  {
   "cell_type": "code",
   "execution_count": 97,
   "metadata": {},
   "outputs": [
    {
     "data": {
      "image/png": "[encoded data removed]",
      "text/plain": [
       "<Figure size 432x288 with 1 Axes>"
      ]
     },
     "metadata": {},
     "output_type": "display_data"
    }
   ],
   "source": [
    "Agent_df[\"F&M\"]=(Agent_df[\"F\"]+Agent_df[\"M\"])/2\n",
    "plt.scatter(Agent_df[\"R\"],Agent_df[\"F&M\"])\n",
    "plt.show()"
   ]
  },
  {
   "cell_type": "code",
   "execution_count": 98,
   "metadata": {},
   "outputs": [],
   "source": [
    "Agent_df[\"Customer_label\"]=Agent_df.apply(lambda x: customer_label(x[\"R\"], x[\"F&M\"]), axis=1)"
   ]
  },
  {
   "cell_type": "code",
   "execution_count": 99,
   "metadata": {},
   "outputs": [
    {
     "data": {
      "text/html": [
       "<div>\n",
       "<style scoped>\n",
       "    .dataframe tbody tr th:only-of-type {\n",
       "        vertical-align: middle;\n",
       "    }\n",
       "\n",
       "    .dataframe tbody tr th {\n",
       "        vertical-align: top;\n",
       "    }\n",
       "\n",
       "    .dataframe thead th {\n",
       "        text-align: right;\n",
       "    }\n",
       "</style>\n",
       "<table border=\"1\" class=\"dataframe\">\n",
       "  <thead>\n",
       "    <tr style=\"text-align: right;\">\n",
       "      <th></th>\n",
       "      <th>Agent ID</th>\n",
       "      <th>Recency</th>\n",
       "      <th>R</th>\n",
       "      <th>Frequency</th>\n",
       "      <th>F</th>\n",
       "      <th>Monetary</th>\n",
       "      <th>M</th>\n",
       "      <th>F&amp;M</th>\n",
       "      <th>Customer_label</th>\n",
       "    </tr>\n",
       "  </thead>\n",
       "  <tbody>\n",
       "    <tr>\n",
       "      <th>0</th>\n",
       "      <td>10087</td>\n",
       "      <td>365</td>\n",
       "      <td>3</td>\n",
       "      <td>13</td>\n",
       "      <td>2</td>\n",
       "      <td>4308.2062</td>\n",
       "      <td>3</td>\n",
       "      <td>2.5</td>\n",
       "      <td>At risk</td>\n",
       "    </tr>\n",
       "    <tr>\n",
       "      <th>1</th>\n",
       "      <td>10055</td>\n",
       "      <td>2</td>\n",
       "      <td>1</td>\n",
       "      <td>17</td>\n",
       "      <td>2</td>\n",
       "      <td>7008.9125</td>\n",
       "      <td>3</td>\n",
       "      <td>2.5</td>\n",
       "      <td>Potential Loyal</td>\n",
       "    </tr>\n",
       "    <tr>\n",
       "      <th>2</th>\n",
       "      <td>10081</td>\n",
       "      <td>8</td>\n",
       "      <td>1</td>\n",
       "      <td>14</td>\n",
       "      <td>2</td>\n",
       "      <td>4873.2000</td>\n",
       "      <td>3</td>\n",
       "      <td>2.5</td>\n",
       "      <td>Potential Loyal</td>\n",
       "    </tr>\n",
       "    <tr>\n",
       "      <th>3</th>\n",
       "      <td>22</td>\n",
       "      <td>0</td>\n",
       "      <td>1</td>\n",
       "      <td>32</td>\n",
       "      <td>2</td>\n",
       "      <td>8367.7200</td>\n",
       "      <td>3</td>\n",
       "      <td>2.5</td>\n",
       "      <td>Potential Loyal</td>\n",
       "    </tr>\n",
       "    <tr>\n",
       "      <th>4</th>\n",
       "      <td>10076</td>\n",
       "      <td>3</td>\n",
       "      <td>1</td>\n",
       "      <td>8</td>\n",
       "      <td>3</td>\n",
       "      <td>2315.1100</td>\n",
       "      <td>3</td>\n",
       "      <td>3.0</td>\n",
       "      <td>New Customer</td>\n",
       "    </tr>\n",
       "  </tbody>\n",
       "</table>\n",
       "</div>"
      ],
      "text/plain": [
       "   Agent ID  Recency  R  Frequency  F   Monetary  M  F&M   Customer_label\n",
       "0     10087      365  3         13  2  4308.2062  3  2.5          At risk\n",
       "1     10055        2  1         17  2  7008.9125  3  2.5  Potential Loyal\n",
       "2     10081        8  1         14  2  4873.2000  3  2.5  Potential Loyal\n",
       "3        22        0  1         32  2  8367.7200  3  2.5  Potential Loyal\n",
       "4     10076        3  1          8  3  2315.1100  3  3.0     New Customer"
      ]
     },
     "execution_count": 99,
     "metadata": {},
     "output_type": "execute_result"
    }
   ],
   "source": [
    "Agent_df.head()"
   ]
  },
  {
   "cell_type": "code",
   "execution_count": 100,
   "metadata": {},
   "outputs": [
    {
     "data": {
      "text/plain": [
       "Hibernating        54\n",
       "About to sleep     45\n",
       "New Customer       37\n",
       "Potential Loyal    19\n",
       "Champion            5\n",
       "Need Attenion       2\n",
       "At risk             1\n",
       "Name: Customer_label, dtype: int64"
      ]
     },
     "execution_count": 100,
     "metadata": {},
     "output_type": "execute_result"
    }
   ],
   "source": [
    "Agent_df[\"Customer_label\"].value_counts()"
   ]
  },
  {
   "cell_type": "code",
   "execution_count": 101,
   "metadata": {},
   "outputs": [
    {
     "name": "stdout",
     "output_type": "stream",
     "text": [
      "The List of Hibernating Customer is/are:\n",
      "اردبيل كد 10072\n",
      "چهارمحال و بختياري - شهركرد كد 10038\n",
      "سميه حاجي غلام علي ماهاني كد 545\n",
      "زهرا اقدامي كد 1091\n",
      "رضا صياد هنرور كد 906\n",
      "هرمزگان-كيش كد 10088\n",
      "حنانه جعفر علي كد 189\n",
      "احد فرخي كد 802\n",
      "رئوف نامدار كد 1644\n",
      "رضوان نيکخواه راوري كد 373\n",
      "اردشير حنيفي كد 187\n",
      "فهيمه فروغي نژاد كد 1204\n",
      "مجيد يزدانيان كد 193\n",
      "محمد رضا شيرازي خانميري كد 1477\n",
      "نسيم عبدالملکي كد 591\n",
      "محسن صنعتي پور كد 934\n",
      "فاطمه زهر ا پيشنهاد كد 1098\n",
      "مريم اسماعيلي گوکه كد 1601\n",
      "حامد اميري تاج كد 1564\n",
      "شراره اصلان آبادي كد 1118\n",
      "رضا رضايي كد 2103\n",
      "خديجه نظري كد 1121\n",
      "داوود زماني فروشاني كد 1061\n",
      "بجنورد خراسان شمالي كد 10025\n",
      "سولماز شناخته كد 1912\n",
      "فرض اله نقي زاده كد 1622\n",
      "مهدي شفيعي كد 851\n",
      "خديجه عب0ن كد 1346\n",
      "مهدي دهتايي كد 1764\n",
      "ميثم حسينمردي كد 1557\n",
      "مرتضي نجاتي كد 1298\n",
      "مريم پازوکي كد 1487\n",
      "شقايق پيشگاه حقي كد 904\n",
      "ناصر خسروي كد 1043\n",
      "جمشيد جعفري اقبلاغ كد 1957\n",
      "مريم اخوان حريري كد 1080\n",
      "مرجان حمزه زاده كد 1475\n",
      "رحمان مائلي كد 377\n",
      "کژال فرهودي كد 1700\n",
      "حسن جعفري كد 1071\n",
      "عسگر سرخاني آبي بگلو كد 836\n",
      "كاشان-استان اصفهان كد 10035\n",
      "عباسعلي جمشيدي كد 610\n",
      "مازندران-بابل كد 10061\n",
      "مهدي ملکي كد 1469\n",
      "عزيزاله ميرزايي كد 1721\n",
      "شهرام بدري كد 1631\n",
      "محبوبه گودرزي كد 197\n",
      "حميد شيراني راد كد 211\n",
      "الهام محسني كد 499\n",
      "سميه بهرامي كد 1751\n",
      "جمشيد آسترکي كد 1861\n",
      "محمد طاهر خاني كد 899\n",
      "حجت کريمي گوغري كد 1303\n",
      "----------------------------------------------\n",
      "The List of About to sleep Customer is/are:\n",
      "مازندران-ساري كد 10068\n",
      "لرستان-خرم آباد كد 10077\n",
      "كرج-البرز كد 10051\n",
      "بهروز ذوالعلي كد 381\n",
      "مريم حشمت قهدريجاني كد 1755\n",
      "مريم اسماعيلي كد 69\n",
      "حسين الهايي كد 1195\n",
      "كهكلويه و بوير احمد-ياسوج كد 10045\n",
      "النازاديب كد 1054\n",
      "حسين باباخاني كد 1304\n",
      "روح اله همداني كد 481\n",
      "افسون روزبهاني كد 728\n",
      "گلستان - گرگان كد 10065\n",
      "مهناز شايسته مقدم كد 282\n",
      "جمشيد آسترکي كد 1861\n",
      "فواد بلال خواه كد 1658\n",
      "فريده لساني كد 1999\n",
      "موسي جعفري نياري كد 714\n",
      "قاسم مزين كد 806\n",
      "هرمزگان-بندرعباس كد 10087\n",
      "سيد منصور حسيني كد 390\n",
      "احمد نوروزي كد 1832\n",
      "محمد کنگراني فراهاني كد 1480\n",
      "ام ليلي سويزي كد 1034\n",
      "سعيد ابراهيم زاده کياسر كد 839\n",
      "عذرا رضايي صف سري كد 280\n",
      "ناهيديکتا پور كد 433\n",
      "سميرا حيدري كد 1718\n",
      "مرکزي تهران كد 10001\n",
      "محمد علي سميع كد 1465\n",
      "ناهيد گنجه اي كد 881\n",
      "پري ناز نبئي كد 1834\n",
      "سکينه حاجي زاده كد 1743\n",
      "مهدي نادري تهراني كد 1282\n",
      "ويدا نبي زاده تبريزي كد 26\n",
      "محمد مظفري كد 1540\n",
      "فرخ گل ايتيوندي كد 586\n",
      "آرش نژادپور كد 2105\n",
      "احسان بوربور كد 1738\n",
      "محمد حيدري كد 1974\n",
      "مهراب عزت آبادي پور كد 1754\n",
      "هانيه مرادي كد 1139\n",
      "ميثم شکراني کوشکي كد 1063\n",
      "هدايت اسديان كد 1775\n",
      "فرشته بيرانوند كد 1547\n",
      "----------------------------------------------\n",
      "The List of New Customer Customer is/are:\n",
      "ايلام-ايلام كد 10076\n",
      "بيرجند خراسان جنوبي كد 10028\n",
      "آذربايجان غربي-اروميه كد 10075\n",
      "سيستان و بلوچستان كد 10029\n",
      "گيلان - رشت كد 10091\n",
      "همدان-همدان كد 10078\n",
      "حسين باباخاني كد 1304\n",
      "گلستان - گرگان كد 10065\n",
      "آمنه شکرگزار كد 947\n",
      "فيض اله قدرتي كد 760\n",
      "جواد حيدر علي ها كد 898\n",
      "مهدي دهتايي كد 1764\n",
      "مهدي خدائي تهراني كد 600\n",
      "نجمه گرکاني نژاد كد 1508\n",
      "سحردائمي كد 1479\n",
      "اکرم محمدي كد 401\n",
      "سيده مريم موسوي كد 623\n",
      "شيما چمني كد 1069\n",
      "منيژه غيبي كد 1760\n",
      "عليرضا خرقاني آزاد كد 1350\n",
      "امير حسين حسنوند كد 1776\n",
      "عذرا دهقان نژاد كد 2133\n",
      "مهدي عزيزي كد 113\n",
      "قاسم ابارقي كد 324\n",
      "نجمه شهيدي زندي كد 533\n",
      "علي محمدي كد 145\n",
      "روح اله ميرزايي كد 1079\n",
      "سيد محمد الموسوي كد 1710\n",
      "سيد محمد معين توکلي كد 1964\n",
      "زهره ناظري كد 1562\n",
      "سميه رضايي رشنودي كد 2132\n",
      "الهام نامني كد 2106\n",
      "ناصر توانا راد كد 1048\n",
      "عسگر سرخاني آبي بگلو كد 836\n",
      "محسن زاجکاني كد 897\n",
      "محمد علي رئوفي كد 1539\n",
      "خديجه گود 0يي كد 224\n",
      "----------------------------------------------\n",
      "The List of Potential Loyal Customer is/are:\n",
      "قزوين-قزوين كد 10055\n",
      "كرمان كد 10081\n",
      "محمدرضا عنبرزاده كد 22\n",
      "زنجان-زنجان كد 10079\n",
      "مازندران-بابل كد 10061\n",
      "كاشان-استان اصفهان كد 10035\n",
      "مرکزي تهران كد 10001\n",
      "مركزي - اراك كد 10057\n",
      "شيراز-فارس كد 10041\n",
      "شرق تهران كد 10017\n",
      "جنوب غرب تهران كد 10012\n",
      "كردستان-سنندج كد 10073\n",
      "آذربايجان شرقي-تبريز كد 10071\n",
      "كرمانشاه-كرمانشاه كد 10093\n",
      "عبيد محب كد 1758\n",
      "بوشهر كد 10089\n",
      "شمال تهران كد 10011\n",
      "يزد-يزد كد 10084\n",
      "هنگامه چريکي كد 1670\n",
      "----------------------------------------------\n",
      "The List of Champion Customer is/are:\n",
      "قم-قم كد 10059\n",
      "خوزستان-اهواز كد 10095\n",
      "مشهد خراسان رضوي كد 10021\n",
      "اصفهان كد 10031\n",
      "سمنان-سمنان كد 10018\n",
      "----------------------------------------------\n",
      "The List of Need Attenion Customer is/are:\n",
      "علي رحماني كد 1442\n",
      "مجتبي فدائي نژاد كد 1090\n",
      "----------------------------------------------\n",
      "The List of At risk Customer is/are:\n",
      "هرمزگان-بندرعباس كد 10087\n",
      "----------------------------------------------\n"
     ]
    }
   ],
   "source": [
    "for Customer_seg in Agent_df[\"Customer_label\"].value_counts().index:\n",
    "    print(\"The List of \"+Customer_seg+\" Customer is/are:\")\n",
    "    final_list=[df[df[\"واحد صدور\"].str.contains(str(code))][\"واحد صدور\"].iloc[0] for code in Agent_df[Agent_df[\"Customer_label\"]==Customer_seg][\"Agent ID\"] ]\n",
    "    for name in final_list:\n",
    "        print(name)\n",
    "    print(\"----------------------------------------------\")\n",
    "    "
   ]
  },
  {
   "cell_type": "markdown",
   "metadata": {},
   "source": [
    "<h2>3-2 Province Level</h2>"
   ]
  },
  {
   "cell_type": "markdown",
   "metadata": {},
   "source": [
    "💎First Recency"
   ]
  },
  {
   "cell_type": "code",
   "execution_count": 102,
   "metadata": {},
   "outputs": [
    {
     "data": {
      "text/html": [
       "<div>\n",
       "<style scoped>\n",
       "    .dataframe tbody tr th:only-of-type {\n",
       "        vertical-align: middle;\n",
       "    }\n",
       "\n",
       "    .dataframe tbody tr th {\n",
       "        vertical-align: top;\n",
       "    }\n",
       "\n",
       "    .dataframe thead th {\n",
       "        text-align: right;\n",
       "    }\n",
       "</style>\n",
       "<table border=\"1\" class=\"dataframe\">\n",
       "  <thead>\n",
       "    <tr style=\"text-align: right;\">\n",
       "      <th></th>\n",
       "      <th>Province</th>\n",
       "      <th>Recency</th>\n",
       "    </tr>\n",
       "  </thead>\n",
       "  <tbody>\n",
       "    <tr>\n",
       "      <th>0</th>\n",
       "      <td>هرمزگان</td>\n",
       "      <td>1</td>\n",
       "    </tr>\n",
       "    <tr>\n",
       "      <th>1</th>\n",
       "      <td>ایلام</td>\n",
       "      <td>3</td>\n",
       "    </tr>\n",
       "    <tr>\n",
       "      <th>2</th>\n",
       "      <td>خراسان جنوبی</td>\n",
       "      <td>7</td>\n",
       "    </tr>\n",
       "    <tr>\n",
       "      <th>3</th>\n",
       "      <td>خراسان رضوی</td>\n",
       "      <td>1</td>\n",
       "    </tr>\n",
       "    <tr>\n",
       "      <th>4</th>\n",
       "      <td>زنجان</td>\n",
       "      <td>10</td>\n",
       "    </tr>\n",
       "  </tbody>\n",
       "</table>\n",
       "</div>"
      ],
      "text/plain": [
       "       Province  Recency\n",
       "0       هرمزگان        1\n",
       "1         ایلام        3\n",
       "2  خراسان جنوبی        7\n",
       "3   خراسان رضوی        1\n",
       "4         زنجان       10"
      ]
     },
     "execution_count": 102,
     "metadata": {},
     "output_type": "execute_result"
    }
   ],
   "source": [
    "Province_df=pd.DataFrame({})\n",
    "Province_df = pd.DataFrame(analyze_df['Province'].unique())\n",
    "Province_df.columns = ['Province']\n",
    "\n",
    "Province_max_purchase = analyze_df.groupby('Province')['Purchase Date'].max().reset_index()\n",
    "Province_max_purchase.columns = ['Province','MaxPurchaseDate']\n",
    "\n",
    "Province_max_purchase['Recency'] = (Province_max_purchase['MaxPurchaseDate'].max() - Province_max_purchase['MaxPurchaseDate']).dt.days\n",
    "\n",
    "Province_df = pd.merge(Province_df, Province_max_purchase[['Province','Recency']], on='Province')\n",
    "\n",
    "Province_df.head()"
   ]
  },
  {
   "cell_type": "code",
   "execution_count": 103,
   "metadata": {},
   "outputs": [
    {
     "data": {
      "text/plain": [
       "count     32.000000\n",
       "mean      14.968750\n",
       "std       64.730949\n",
       "min        0.000000\n",
       "25%        0.750000\n",
       "50%        2.000000\n",
       "75%        6.000000\n",
       "max      369.000000\n",
       "Name: Recency, dtype: float64"
      ]
     },
     "execution_count": 103,
     "metadata": {},
     "output_type": "execute_result"
    }
   ],
   "source": [
    "Province_df.Recency.describe()"
   ]
  },
  {
   "cell_type": "markdown",
   "metadata": {},
   "source": [
    "There is very important thing here. We have 14 as mean and 2 as median. we have large outliers in our data. "
   ]
  },
  {
   "cell_type": "code",
   "execution_count": 104,
   "metadata": {},
   "outputs": [
    {
     "data": {
      "image/png": "[encoded data removed]",
      "text/plain": [
       "<Figure size 432x288 with 1 Axes>"
      ]
     },
     "metadata": {},
     "output_type": "display_data"
    }
   ],
   "source": [
    "Province_df['Recency'].hist(bins=40)\n",
    "plt.show()"
   ]
  },
  {
   "cell_type": "code",
   "execution_count": 107,
   "metadata": {},
   "outputs": [
    {
     "name": "stdout",
     "output_type": "stream",
     "text": [
      "There is/are 1 province/s that forgot us for almost a year\n"
     ]
    }
   ],
   "source": [
    "print('There is/are '+str(Province_df[Province_df['Recency']>350].count()[0])+' province/s that forgot us for almost a year')"
   ]
  },
  {
   "cell_type": "code",
   "execution_count": 109,
   "metadata": {},
   "outputs": [
    {
     "data": {
      "image/png": "[encoded data removed]",
      "text/plain": [
       "<Figure size 432x288 with 1 Axes>"
      ]
     },
     "metadata": {},
     "output_type": "display_data"
    }
   ],
   "source": [
    "Province_df[Agent_df['Recency']<350]['Recency'].hist(bins=10)\n",
    "plt.show()"
   ]
  },
  {
   "cell_type": "markdown",
   "metadata": {},
   "source": [
    "We have a lot of loyal agents. "
   ]
  },
  {
   "cell_type": "markdown",
   "metadata": {},
   "source": [
    "I want to apply kmeans to find best number of clusters on Recency "
   ]
  },
  {
   "cell_type": "code",
   "execution_count": 123,
   "metadata": {},
   "outputs": [
    {
     "data": {
      "image/png": "[encoded data removed]",
      "text/plain": [
       "<Figure size 432x288 with 1 Axes>"
      ]
     },
     "metadata": {},
     "output_type": "display_data"
    }
   ],
   "source": [
    "sse={}\n",
    "tx_recency = Province_df[['Recency']]\n",
    "\n",
    "for k in range(1, 10):\n",
    "    kmeans = KMeans(n_clusters=k, max_iter=1000).fit(tx_recency)\n",
    "    tx_recency[\"clusters\"] = kmeans.labels_\n",
    "    sse[k] = kmeans.inertia_ \n",
    "plt.figure()\n",
    "plt.plot(list(sse.keys()), list(sse.values()))\n",
    "plt.xlabel(\"Number of cluster\")\n",
    "plt.show()"
   ]
  },
  {
   "cell_type": "markdown",
   "metadata": {},
   "source": [
    "As we could guess earlier best clusters number is 2. But we have large outliers. so first we should create a cluster with more than 350 Days and then apply kmeans again on rest of data."
   ]
  },
  {
   "cell_type": "code",
   "execution_count": 122,
   "metadata": {},
   "outputs": [
    {
     "data": {
      "image/png": "[encoded data removed]",
      "text/plain": [
       "<Figure size 432x288 with 1 Axes>"
      ]
     },
     "metadata": {},
     "output_type": "display_data"
    }
   ],
   "source": [
    "tx_recency = Province_df.loc[Province_df[\"Recency\"]<360][[\"Recency\"]].copy()\n",
    "# tx_recency\n",
    "sse={}\n",
    "for k in range(1, 10):\n",
    "    kmeans = KMeans(n_clusters=k, max_iter=1000).fit(tx_recency)\n",
    "    tx_recency[\"clusters\"] = kmeans.labels_\n",
    "    sse[k] = kmeans.inertia_ \n",
    "plt.figure()\n",
    "plt.plot(list(sse.keys()), list(sse.values()))\n",
    "plt.xlabel(\"Number of cluster\")\n",
    "plt.show()"
   ]
  },
  {
   "cell_type": "code",
   "execution_count": 138,
   "metadata": {},
   "outputs": [],
   "source": [
    "tx_recency = Province_df.loc[Province_df[\"Recency\"]<360][[\"Recency\"]].copy()\n",
    "kmeans = KMeans(n_clusters=3)\n",
    "kmeans.fit(tx_recency[['Recency']])\n",
    "tx_recency['RecencyCluster'] = kmeans.predict(tx_recency[['Recency']])\n",
    "\n",
    "tx_user = order_cluster('RecencyCluster', 'Recency',tx_recency,False)"
   ]
  },
  {
   "cell_type": "code",
   "execution_count": 139,
   "metadata": {},
   "outputs": [
    {
     "data": {
      "text/plain": [
       "2    20\n",
       "1     7\n",
       "0     4\n",
       "Name: RecencyCluster, dtype: int64"
      ]
     },
     "execution_count": 139,
     "metadata": {},
     "output_type": "execute_result"
    }
   ],
   "source": [
    "tx_user.RecencyCluster.value_counts()"
   ]
  },
  {
   "cell_type": "code",
   "execution_count": 140,
   "metadata": {},
   "outputs": [
    {
     "name": "stdout",
     "output_type": "stream",
     "text": [
      "So, We have 4 Clusters for Recency: less than 3 Between 3 and 7 Between 7 and 14 and more than 350\n"
     ]
    }
   ],
   "source": [
    "print('So, We have 4 Clusters for Recency: less than '+str(tx_user[tx_user[\"RecencyCluster\"]==2][\"Recency\"].max())+' Between '\n",
    "      +str(tx_user[tx_user[\"RecencyCluster\"]==2][\"Recency\"].max())+' and '+str(tx_user[tx_user[\"RecencyCluster\"]==1][\"Recency\"].max())+\n",
    "     ' Between '\n",
    "      +str(tx_user[tx_user[\"RecencyCluster\"]==1][\"Recency\"].max())+' and '+str(tx_user[tx_user[\"RecencyCluster\"]==0][\"Recency\"].max())+\n",
    "      ' and more than 350')"
   ]
  },
  {
   "cell_type": "markdown",
   "metadata": {},
   "source": [
    "Let's Build R Column in Agent ID Data Frame."
   ]
  },
  {
   "cell_type": "code",
   "execution_count": 141,
   "metadata": {},
   "outputs": [],
   "source": [
    "def Recenecy_cat(Recenecy):\n",
    "    if Recenecy<=3:\n",
    "        return 1\n",
    "    elif Recenecy<=7:\n",
    "        return 2\n",
    "    elif Recenecy<=14:\n",
    "        return 3\n",
    "    return 4"
   ]
  },
  {
   "cell_type": "code",
   "execution_count": 143,
   "metadata": {},
   "outputs": [],
   "source": [
    "Province_df['R']=Province_df[\"Recency\"].apply(Recenecy_cat)"
   ]
  },
  {
   "cell_type": "code",
   "execution_count": 144,
   "metadata": {},
   "outputs": [
    {
     "data": {
      "text/html": [
       "<div>\n",
       "<style scoped>\n",
       "    .dataframe tbody tr th:only-of-type {\n",
       "        vertical-align: middle;\n",
       "    }\n",
       "\n",
       "    .dataframe tbody tr th {\n",
       "        vertical-align: top;\n",
       "    }\n",
       "\n",
       "    .dataframe thead th {\n",
       "        text-align: right;\n",
       "    }\n",
       "</style>\n",
       "<table border=\"1\" class=\"dataframe\">\n",
       "  <thead>\n",
       "    <tr style=\"text-align: right;\">\n",
       "      <th></th>\n",
       "      <th>Province</th>\n",
       "      <th>Recency</th>\n",
       "      <th>R</th>\n",
       "    </tr>\n",
       "  </thead>\n",
       "  <tbody>\n",
       "    <tr>\n",
       "      <th>0</th>\n",
       "      <td>هرمزگان</td>\n",
       "      <td>1</td>\n",
       "      <td>1</td>\n",
       "    </tr>\n",
       "    <tr>\n",
       "      <th>1</th>\n",
       "      <td>ایلام</td>\n",
       "      <td>3</td>\n",
       "      <td>1</td>\n",
       "    </tr>\n",
       "    <tr>\n",
       "      <th>2</th>\n",
       "      <td>خراسان جنوبی</td>\n",
       "      <td>7</td>\n",
       "      <td>2</td>\n",
       "    </tr>\n",
       "    <tr>\n",
       "      <th>3</th>\n",
       "      <td>خراسان رضوی</td>\n",
       "      <td>1</td>\n",
       "      <td>1</td>\n",
       "    </tr>\n",
       "    <tr>\n",
       "      <th>4</th>\n",
       "      <td>زنجان</td>\n",
       "      <td>10</td>\n",
       "      <td>3</td>\n",
       "    </tr>\n",
       "  </tbody>\n",
       "</table>\n",
       "</div>"
      ],
      "text/plain": [
       "       Province  Recency  R\n",
       "0       هرمزگان        1  1\n",
       "1         ایلام        3  1\n",
       "2  خراسان جنوبی        7  2\n",
       "3   خراسان رضوی        1  1\n",
       "4         زنجان       10  3"
      ]
     },
     "execution_count": 144,
     "metadata": {},
     "output_type": "execute_result"
    }
   ],
   "source": [
    "Province_df.head()"
   ]
  },
  {
   "cell_type": "markdown",
   "metadata": {},
   "source": [
    "Second Frequency "
   ]
  },
  {
   "cell_type": "code",
   "execution_count": 145,
   "metadata": {},
   "outputs": [
    {
     "data": {
      "text/html": [
       "<div>\n",
       "<style scoped>\n",
       "    .dataframe tbody tr th:only-of-type {\n",
       "        vertical-align: middle;\n",
       "    }\n",
       "\n",
       "    .dataframe tbody tr th {\n",
       "        vertical-align: top;\n",
       "    }\n",
       "\n",
       "    .dataframe thead th {\n",
       "        text-align: right;\n",
       "    }\n",
       "</style>\n",
       "<table border=\"1\" class=\"dataframe\">\n",
       "  <thead>\n",
       "    <tr style=\"text-align: right;\">\n",
       "      <th></th>\n",
       "      <th>Province</th>\n",
       "      <th>Recency</th>\n",
       "      <th>R</th>\n",
       "      <th>Frequency</th>\n",
       "    </tr>\n",
       "  </thead>\n",
       "  <tbody>\n",
       "    <tr>\n",
       "      <th>0</th>\n",
       "      <td>هرمزگان</td>\n",
       "      <td>1</td>\n",
       "      <td>1</td>\n",
       "      <td>31</td>\n",
       "    </tr>\n",
       "    <tr>\n",
       "      <th>1</th>\n",
       "      <td>ایلام</td>\n",
       "      <td>3</td>\n",
       "      <td>1</td>\n",
       "      <td>8</td>\n",
       "    </tr>\n",
       "    <tr>\n",
       "      <th>2</th>\n",
       "      <td>خراسان جنوبی</td>\n",
       "      <td>7</td>\n",
       "      <td>2</td>\n",
       "      <td>12</td>\n",
       "    </tr>\n",
       "    <tr>\n",
       "      <th>3</th>\n",
       "      <td>خراسان رضوی</td>\n",
       "      <td>1</td>\n",
       "      <td>1</td>\n",
       "      <td>57</td>\n",
       "    </tr>\n",
       "    <tr>\n",
       "      <th>4</th>\n",
       "      <td>زنجان</td>\n",
       "      <td>10</td>\n",
       "      <td>3</td>\n",
       "      <td>14</td>\n",
       "    </tr>\n",
       "  </tbody>\n",
       "</table>\n",
       "</div>"
      ],
      "text/plain": [
       "       Province  Recency  R  Frequency\n",
       "0       هرمزگان        1  1         31\n",
       "1         ایلام        3  1          8\n",
       "2  خراسان جنوبی        7  2         12\n",
       "3   خراسان رضوی        1  1         57\n",
       "4         زنجان       10  3         14"
      ]
     },
     "execution_count": 145,
     "metadata": {},
     "output_type": "execute_result"
    }
   ],
   "source": [
    "Province_Freqency = analyze_df.groupby('Province')['Purchase Date'].count().reset_index()\n",
    "Province_Freqency.columns = ['Province','Frequency']\n",
    "\n",
    "Province_df = pd.merge(Province_df, Province_Freqency[['Province','Frequency']], on='Province')\n",
    "\n",
    "Province_df.head()"
   ]
  },
  {
   "cell_type": "code",
   "execution_count": 147,
   "metadata": {},
   "outputs": [
    {
     "data": {
      "text/plain": [
       "count     32.000000\n",
       "mean      32.937500\n",
       "std       36.961128\n",
       "min        2.000000\n",
       "25%       11.250000\n",
       "50%       20.000000\n",
       "75%       45.750000\n",
       "max      197.000000\n",
       "Name: Frequency, dtype: float64"
      ]
     },
     "execution_count": 147,
     "metadata": {},
     "output_type": "execute_result"
    }
   ],
   "source": [
    "Province_df.Frequency.describe()"
   ]
  },
  {
   "cell_type": "code",
   "execution_count": 148,
   "metadata": {},
   "outputs": [
    {
     "data": {
      "image/png": "[encoded data removed]",
      "text/plain": [
       "<Figure size 432x288 with 1 Axes>"
      ]
     },
     "metadata": {},
     "output_type": "display_data"
    }
   ],
   "source": [
    "Province_df.Frequency.hist(bins=10)\n",
    "plt.show()"
   ]
  },
  {
   "cell_type": "code",
   "execution_count": 155,
   "metadata": {},
   "outputs": [
    {
     "data": {
      "text/html": [
       "<div>\n",
       "<style scoped>\n",
       "    .dataframe tbody tr th:only-of-type {\n",
       "        vertical-align: middle;\n",
       "    }\n",
       "\n",
       "    .dataframe tbody tr th {\n",
       "        vertical-align: top;\n",
       "    }\n",
       "\n",
       "    .dataframe thead th {\n",
       "        text-align: right;\n",
       "    }\n",
       "</style>\n",
       "<table border=\"1\" class=\"dataframe\">\n",
       "  <thead>\n",
       "    <tr style=\"text-align: right;\">\n",
       "      <th></th>\n",
       "      <th>Province</th>\n",
       "      <th>Recency</th>\n",
       "      <th>R</th>\n",
       "      <th>Frequency</th>\n",
       "      <th>Monetary</th>\n",
       "      <th>M</th>\n",
       "      <th>F</th>\n",
       "    </tr>\n",
       "  </thead>\n",
       "  <tbody>\n",
       "    <tr>\n",
       "      <th>0</th>\n",
       "      <td>هرمزگان</td>\n",
       "      <td>1</td>\n",
       "      <td>1</td>\n",
       "      <td>31</td>\n",
       "      <td>12731.2362</td>\n",
       "      <td>3</td>\n",
       "      <td>1</td>\n",
       "    </tr>\n",
       "    <tr>\n",
       "      <th>1</th>\n",
       "      <td>قزوین</td>\n",
       "      <td>1</td>\n",
       "      <td>1</td>\n",
       "      <td>31</td>\n",
       "      <td>13136.5625</td>\n",
       "      <td>3</td>\n",
       "      <td>1</td>\n",
       "    </tr>\n",
       "    <tr>\n",
       "      <th>2</th>\n",
       "      <td>کرمان</td>\n",
       "      <td>6</td>\n",
       "      <td>2</td>\n",
       "      <td>24</td>\n",
       "      <td>10737.6100</td>\n",
       "      <td>3</td>\n",
       "      <td>1</td>\n",
       "    </tr>\n",
       "    <tr>\n",
       "      <th>3</th>\n",
       "      <td>آذربایجان شرقی</td>\n",
       "      <td>2</td>\n",
       "      <td>1</td>\n",
       "      <td>21</td>\n",
       "      <td>17719.2050</td>\n",
       "      <td>3</td>\n",
       "      <td>1</td>\n",
       "    </tr>\n",
       "    <tr>\n",
       "      <th>4</th>\n",
       "      <td>کرمانشاه</td>\n",
       "      <td>2</td>\n",
       "      <td>1</td>\n",
       "      <td>22</td>\n",
       "      <td>12931.0200</td>\n",
       "      <td>3</td>\n",
       "      <td>1</td>\n",
       "    </tr>\n",
       "  </tbody>\n",
       "</table>\n",
       "</div>"
      ],
      "text/plain": [
       "         Province  Recency  R  Frequency    Monetary  M  F\n",
       "0         هرمزگان        1  1         31  12731.2362  3  1\n",
       "1           قزوین        1  1         31  13136.5625  3  1\n",
       "2           کرمان        6  2         24  10737.6100  3  1\n",
       "3  آذربایجان شرقی        2  1         21  17719.2050  3  1\n",
       "4        کرمانشاه        2  1         22  12931.0200  3  1"
      ]
     },
     "execution_count": 155,
     "metadata": {},
     "output_type": "execute_result"
    }
   ],
   "source": [
    "kmeans = KMeans(n_clusters=4)\n",
    "kmeans.fit(Province_df[['Frequency']])\n",
    "Province_df['F'] = kmeans.predict(Province_df[['Frequency']])\n",
    "\n",
    "Province_df.head()"
   ]
  },
  {
   "cell_type": "code",
   "execution_count": 156,
   "metadata": {},
   "outputs": [
    {
     "data": {
      "text/html": [
       "<div>\n",
       "<style scoped>\n",
       "    .dataframe tbody tr th:only-of-type {\n",
       "        vertical-align: middle;\n",
       "    }\n",
       "\n",
       "    .dataframe tbody tr th {\n",
       "        vertical-align: top;\n",
       "    }\n",
       "\n",
       "    .dataframe thead th {\n",
       "        text-align: right;\n",
       "    }\n",
       "</style>\n",
       "<table border=\"1\" class=\"dataframe\">\n",
       "  <thead>\n",
       "    <tr style=\"text-align: right;\">\n",
       "      <th></th>\n",
       "      <th>count</th>\n",
       "      <th>mean</th>\n",
       "      <th>std</th>\n",
       "      <th>min</th>\n",
       "      <th>25%</th>\n",
       "      <th>50%</th>\n",
       "      <th>75%</th>\n",
       "      <th>max</th>\n",
       "    </tr>\n",
       "    <tr>\n",
       "      <th>F</th>\n",
       "      <th></th>\n",
       "      <th></th>\n",
       "      <th></th>\n",
       "      <th></th>\n",
       "      <th></th>\n",
       "      <th></th>\n",
       "      <th></th>\n",
       "      <th></th>\n",
       "    </tr>\n",
       "  </thead>\n",
       "  <tbody>\n",
       "    <tr>\n",
       "      <th>1</th>\n",
       "      <td>1.0</td>\n",
       "      <td>197.000000</td>\n",
       "      <td>NaN</td>\n",
       "      <td>197.0</td>\n",
       "      <td>197.00</td>\n",
       "      <td>197.0</td>\n",
       "      <td>197.00</td>\n",
       "      <td>197.0</td>\n",
       "    </tr>\n",
       "    <tr>\n",
       "      <th>2</th>\n",
       "      <td>7.0</td>\n",
       "      <td>63.714286</td>\n",
       "      <td>3.545621</td>\n",
       "      <td>57.0</td>\n",
       "      <td>63.00</td>\n",
       "      <td>64.0</td>\n",
       "      <td>65.50</td>\n",
       "      <td>68.0</td>\n",
       "    </tr>\n",
       "    <tr>\n",
       "      <th>3</th>\n",
       "      <td>8.0</td>\n",
       "      <td>29.625000</td>\n",
       "      <td>8.501050</td>\n",
       "      <td>21.0</td>\n",
       "      <td>23.50</td>\n",
       "      <td>27.5</td>\n",
       "      <td>33.75</td>\n",
       "      <td>42.0</td>\n",
       "    </tr>\n",
       "    <tr>\n",
       "      <th>4</th>\n",
       "      <td>16.0</td>\n",
       "      <td>10.875000</td>\n",
       "      <td>4.801042</td>\n",
       "      <td>2.0</td>\n",
       "      <td>7.75</td>\n",
       "      <td>10.5</td>\n",
       "      <td>14.00</td>\n",
       "      <td>19.0</td>\n",
       "    </tr>\n",
       "  </tbody>\n",
       "</table>\n",
       "</div>"
      ],
      "text/plain": [
       "   count        mean       std    min     25%    50%     75%    max\n",
       "F                                                                  \n",
       "1    1.0  197.000000       NaN  197.0  197.00  197.0  197.00  197.0\n",
       "2    7.0   63.714286  3.545621   57.0   63.00   64.0   65.50   68.0\n",
       "3    8.0   29.625000  8.501050   21.0   23.50   27.5   33.75   42.0\n",
       "4   16.0   10.875000  4.801042    2.0    7.75   10.5   14.00   19.0"
      ]
     },
     "execution_count": 156,
     "metadata": {},
     "output_type": "execute_result"
    }
   ],
   "source": [
    "Province_df=order_cluster('F','Frequency',Province_df,False)\n",
    "Province_df.F=Province_df.F+1\n",
    "Province_df.groupby(\"F\")['Frequency'].describe()"
   ]
  },
  {
   "cell_type": "markdown",
   "metadata": {},
   "source": [
    "Last one monetary"
   ]
  },
  {
   "cell_type": "code",
   "execution_count": 151,
   "metadata": {},
   "outputs": [
    {
     "data": {
      "text/html": [
       "<div>\n",
       "<style scoped>\n",
       "    .dataframe tbody tr th:only-of-type {\n",
       "        vertical-align: middle;\n",
       "    }\n",
       "\n",
       "    .dataframe tbody tr th {\n",
       "        vertical-align: top;\n",
       "    }\n",
       "\n",
       "    .dataframe thead th {\n",
       "        text-align: right;\n",
       "    }\n",
       "</style>\n",
       "<table border=\"1\" class=\"dataframe\">\n",
       "  <thead>\n",
       "    <tr style=\"text-align: right;\">\n",
       "      <th></th>\n",
       "      <th>Province</th>\n",
       "      <th>Recency</th>\n",
       "      <th>R</th>\n",
       "      <th>Frequency</th>\n",
       "      <th>F</th>\n",
       "      <th>Monetary</th>\n",
       "    </tr>\n",
       "  </thead>\n",
       "  <tbody>\n",
       "    <tr>\n",
       "      <th>0</th>\n",
       "      <td>هرمزگان</td>\n",
       "      <td>1</td>\n",
       "      <td>1</td>\n",
       "      <td>31</td>\n",
       "      <td>3</td>\n",
       "      <td>12731.2362</td>\n",
       "    </tr>\n",
       "    <tr>\n",
       "      <th>1</th>\n",
       "      <td>مازندران</td>\n",
       "      <td>0</td>\n",
       "      <td>1</td>\n",
       "      <td>42</td>\n",
       "      <td>3</td>\n",
       "      <td>13911.8600</td>\n",
       "    </tr>\n",
       "    <tr>\n",
       "      <th>2</th>\n",
       "      <td>مرکزی</td>\n",
       "      <td>0</td>\n",
       "      <td>1</td>\n",
       "      <td>42</td>\n",
       "      <td>3</td>\n",
       "      <td>39508.8973</td>\n",
       "    </tr>\n",
       "    <tr>\n",
       "      <th>3</th>\n",
       "      <td>قزوین</td>\n",
       "      <td>1</td>\n",
       "      <td>1</td>\n",
       "      <td>31</td>\n",
       "      <td>3</td>\n",
       "      <td>13136.5625</td>\n",
       "    </tr>\n",
       "    <tr>\n",
       "      <th>4</th>\n",
       "      <td>کرمان</td>\n",
       "      <td>6</td>\n",
       "      <td>2</td>\n",
       "      <td>24</td>\n",
       "      <td>3</td>\n",
       "      <td>10737.6100</td>\n",
       "    </tr>\n",
       "  </tbody>\n",
       "</table>\n",
       "</div>"
      ],
      "text/plain": [
       "   Province  Recency  R  Frequency  F    Monetary\n",
       "0   هرمزگان        1  1         31  3  12731.2362\n",
       "1  مازندران        0  1         42  3  13911.8600\n",
       "2     مرکزی        0  1         42  3  39508.8973\n",
       "3     قزوین        1  1         31  3  13136.5625\n",
       "4     کرمان        6  2         24  3  10737.6100"
      ]
     },
     "execution_count": 151,
     "metadata": {},
     "output_type": "execute_result"
    }
   ],
   "source": [
    "Province_Monetary = analyze_df.groupby('Province')['Revenue'].sum().reset_index()\n",
    "Province_Monetary.columns = ['Province','Monetary']\n",
    "\n",
    "Province_df = pd.merge(Province_df, Province_Monetary[['Province','Monetary']], on='Province')\n",
    "\n",
    "Province_df['Monetary']=Province_df['Monetary']/10000\n",
    "Province_df.head()"
   ]
  },
  {
   "cell_type": "code",
   "execution_count": 152,
   "metadata": {},
   "outputs": [
    {
     "data": {
      "text/html": [
       "<div>\n",
       "<style scoped>\n",
       "    .dataframe tbody tr th:only-of-type {\n",
       "        vertical-align: middle;\n",
       "    }\n",
       "\n",
       "    .dataframe tbody tr th {\n",
       "        vertical-align: top;\n",
       "    }\n",
       "\n",
       "    .dataframe thead th {\n",
       "        text-align: right;\n",
       "    }\n",
       "</style>\n",
       "<table border=\"1\" class=\"dataframe\">\n",
       "  <thead>\n",
       "    <tr style=\"text-align: right;\">\n",
       "      <th></th>\n",
       "      <th>count</th>\n",
       "      <th>mean</th>\n",
       "      <th>std</th>\n",
       "      <th>min</th>\n",
       "      <th>25%</th>\n",
       "      <th>50%</th>\n",
       "      <th>75%</th>\n",
       "      <th>max</th>\n",
       "    </tr>\n",
       "    <tr>\n",
       "      <th>M</th>\n",
       "      <th></th>\n",
       "      <th></th>\n",
       "      <th></th>\n",
       "      <th></th>\n",
       "      <th></th>\n",
       "      <th></th>\n",
       "      <th></th>\n",
       "      <th></th>\n",
       "    </tr>\n",
       "  </thead>\n",
       "  <tbody>\n",
       "    <tr>\n",
       "      <th>1</th>\n",
       "      <td>1.0</td>\n",
       "      <td>148803.690000</td>\n",
       "      <td>NaN</td>\n",
       "      <td>148803.6900</td>\n",
       "      <td>148803.69000</td>\n",
       "      <td>148803.69000</td>\n",
       "      <td>148803.69000</td>\n",
       "      <td>148803.6900</td>\n",
       "    </tr>\n",
       "    <tr>\n",
       "      <th>2</th>\n",
       "      <td>7.0</td>\n",
       "      <td>46910.392829</td>\n",
       "      <td>5792.618345</td>\n",
       "      <td>39508.8973</td>\n",
       "      <td>42751.99375</td>\n",
       "      <td>45344.93300</td>\n",
       "      <td>51842.06750</td>\n",
       "      <td>54330.7970</td>\n",
       "    </tr>\n",
       "    <tr>\n",
       "      <th>3</th>\n",
       "      <td>14.0</td>\n",
       "      <td>14342.123936</td>\n",
       "      <td>3524.681181</td>\n",
       "      <td>10529.6600</td>\n",
       "      <td>11546.09500</td>\n",
       "      <td>13033.79125</td>\n",
       "      <td>16482.05305</td>\n",
       "      <td>21382.5472</td>\n",
       "    </tr>\n",
       "    <tr>\n",
       "      <th>4</th>\n",
       "      <td>10.0</td>\n",
       "      <td>3820.003000</td>\n",
       "      <td>2070.394362</td>\n",
       "      <td>1367.9400</td>\n",
       "      <td>2339.12500</td>\n",
       "      <td>3496.35500</td>\n",
       "      <td>4717.85250</td>\n",
       "      <td>7882.7300</td>\n",
       "    </tr>\n",
       "  </tbody>\n",
       "</table>\n",
       "</div>"
      ],
      "text/plain": [
       "   count           mean          std          min           25%           50%  \\\n",
       "M                                                                               \n",
       "1    1.0  148803.690000          NaN  148803.6900  148803.69000  148803.69000   \n",
       "2    7.0   46910.392829  5792.618345   39508.8973   42751.99375   45344.93300   \n",
       "3   14.0   14342.123936  3524.681181   10529.6600   11546.09500   13033.79125   \n",
       "4   10.0    3820.003000  2070.394362    1367.9400    2339.12500    3496.35500   \n",
       "\n",
       "            75%          max  \n",
       "M                             \n",
       "1  148803.69000  148803.6900  \n",
       "2   51842.06750   54330.7970  \n",
       "3   16482.05305   21382.5472  \n",
       "4    4717.85250    7882.7300  "
      ]
     },
     "execution_count": 152,
     "metadata": {},
     "output_type": "execute_result"
    }
   ],
   "source": [
    "kmeans = KMeans(n_clusters=4)\n",
    "kmeans.fit(Province_df[['Monetary']])\n",
    "Province_df['M'] = kmeans.predict(Province_df[['Monetary']])\n",
    "Province_df=order_cluster('M','Monetary',Province_df,False)\n",
    "Province_df.M=Province_df.M+1\n",
    "Province_df.groupby(\"M\")['Monetary'].describe()"
   ]
  },
  {
   "cell_type": "code",
   "execution_count": 158,
   "metadata": {},
   "outputs": [],
   "source": [
    "def customer_label(r,f_m):\n",
    "        if r==1 or r==2:\n",
    "                if f_m<3:\n",
    "                    return \"Champion\"\n",
    "                elif f_m<4:\n",
    "                    return \"Potential Loyal\"\n",
    "                elif f_m ==4:\n",
    "                    return \"New Customer\"\n",
    "        if r==3:\n",
    "                if f_m<3:\n",
    "                    return \"Loyal\"\n",
    "                elif f_m<4:\n",
    "                    return \"Need Attenion\"\n",
    "                elif f_m == 4:\n",
    "                    return \"About to sleep\"\n",
    "        if r==4:\n",
    "                if f_m<3:\n",
    "                    return \"Can't lose\"\n",
    "                elif f_m<4:\n",
    "                    return \"At risk\"\n",
    "                elif f_m ==4:\n",
    "                    return \"Hibernating\""
   ]
  },
  {
   "cell_type": "code",
   "execution_count": 157,
   "metadata": {},
   "outputs": [
    {
     "data": {
      "image/png": "[encoded data removed]",
      "text/plain": [
       "<Figure size 432x288 with 1 Axes>"
      ]
     },
     "metadata": {},
     "output_type": "display_data"
    }
   ],
   "source": [
    "Province_df[\"F&M\"]=(Province_df[\"F\"]+Province_df[\"M\"])/2\n",
    "plt.scatter(Province_df[\"R\"],Province_df[\"F&M\"])\n",
    "plt.show()"
   ]
  },
  {
   "cell_type": "code",
   "execution_count": 159,
   "metadata": {},
   "outputs": [],
   "source": [
    "Province_df[\"Customer_label\"]=Province_df.apply(lambda x: customer_label(x[\"R\"], x[\"F&M\"]), axis=1)"
   ]
  },
  {
   "cell_type": "code",
   "execution_count": 160,
   "metadata": {},
   "outputs": [
    {
     "data": {
      "text/html": [
       "<div>\n",
       "<style scoped>\n",
       "    .dataframe tbody tr th:only-of-type {\n",
       "        vertical-align: middle;\n",
       "    }\n",
       "\n",
       "    .dataframe tbody tr th {\n",
       "        vertical-align: top;\n",
       "    }\n",
       "\n",
       "    .dataframe thead th {\n",
       "        text-align: right;\n",
       "    }\n",
       "</style>\n",
       "<table border=\"1\" class=\"dataframe\">\n",
       "  <thead>\n",
       "    <tr style=\"text-align: right;\">\n",
       "      <th></th>\n",
       "      <th>Province</th>\n",
       "      <th>Recency</th>\n",
       "      <th>R</th>\n",
       "      <th>Frequency</th>\n",
       "      <th>Monetary</th>\n",
       "      <th>M</th>\n",
       "      <th>F</th>\n",
       "      <th>F&amp;M</th>\n",
       "      <th>Customer_label</th>\n",
       "    </tr>\n",
       "  </thead>\n",
       "  <tbody>\n",
       "    <tr>\n",
       "      <th>0</th>\n",
       "      <td>هرمزگان</td>\n",
       "      <td>1</td>\n",
       "      <td>1</td>\n",
       "      <td>31</td>\n",
       "      <td>12731.2362</td>\n",
       "      <td>3</td>\n",
       "      <td>3</td>\n",
       "      <td>3.0</td>\n",
       "      <td>Potential Loyal</td>\n",
       "    </tr>\n",
       "    <tr>\n",
       "      <th>1</th>\n",
       "      <td>قزوین</td>\n",
       "      <td>1</td>\n",
       "      <td>1</td>\n",
       "      <td>31</td>\n",
       "      <td>13136.5625</td>\n",
       "      <td>3</td>\n",
       "      <td>3</td>\n",
       "      <td>3.0</td>\n",
       "      <td>Potential Loyal</td>\n",
       "    </tr>\n",
       "    <tr>\n",
       "      <th>2</th>\n",
       "      <td>کرمان</td>\n",
       "      <td>6</td>\n",
       "      <td>2</td>\n",
       "      <td>24</td>\n",
       "      <td>10737.6100</td>\n",
       "      <td>3</td>\n",
       "      <td>3</td>\n",
       "      <td>3.0</td>\n",
       "      <td>Potential Loyal</td>\n",
       "    </tr>\n",
       "    <tr>\n",
       "      <th>3</th>\n",
       "      <td>آذربایجان شرقی</td>\n",
       "      <td>2</td>\n",
       "      <td>1</td>\n",
       "      <td>21</td>\n",
       "      <td>17719.2050</td>\n",
       "      <td>3</td>\n",
       "      <td>3</td>\n",
       "      <td>3.0</td>\n",
       "      <td>Potential Loyal</td>\n",
       "    </tr>\n",
       "    <tr>\n",
       "      <th>4</th>\n",
       "      <td>کرمانشاه</td>\n",
       "      <td>2</td>\n",
       "      <td>1</td>\n",
       "      <td>22</td>\n",
       "      <td>12931.0200</td>\n",
       "      <td>3</td>\n",
       "      <td>3</td>\n",
       "      <td>3.0</td>\n",
       "      <td>Potential Loyal</td>\n",
       "    </tr>\n",
       "  </tbody>\n",
       "</table>\n",
       "</div>"
      ],
      "text/plain": [
       "         Province  Recency  R  Frequency    Monetary  M  F  F&M  \\\n",
       "0         هرمزگان        1  1         31  12731.2362  3  3  3.0   \n",
       "1           قزوین        1  1         31  13136.5625  3  3  3.0   \n",
       "2           کرمان        6  2         24  10737.6100  3  3  3.0   \n",
       "3  آذربایجان شرقی        2  1         21  17719.2050  3  3  3.0   \n",
       "4        کرمانشاه        2  1         22  12931.0200  3  3  3.0   \n",
       "\n",
       "    Customer_label  \n",
       "0  Potential Loyal  \n",
       "1  Potential Loyal  \n",
       "2  Potential Loyal  \n",
       "3  Potential Loyal  \n",
       "4  Potential Loyal  "
      ]
     },
     "execution_count": 160,
     "metadata": {},
     "output_type": "execute_result"
    }
   ],
   "source": [
    "Province_df.head()"
   ]
  },
  {
   "cell_type": "code",
   "execution_count": 161,
   "metadata": {},
   "outputs": [
    {
     "data": {
      "text/plain": [
       "Potential Loyal    11\n",
       "Champion            9\n",
       "New Customer        7\n",
       "Need Attenion       2\n",
       "About to sleep      2\n",
       "Hibernating         1\n",
       "Name: Customer_label, dtype: int64"
      ]
     },
     "execution_count": 161,
     "metadata": {},
     "output_type": "execute_result"
    }
   ],
   "source": [
    "Province_df[\"Customer_label\"].value_counts()"
   ]
  },
  {
   "cell_type": "code",
   "execution_count": 163,
   "metadata": {},
   "outputs": [
    {
     "name": "stdout",
     "output_type": "stream",
     "text": [
      "The List of Potential Loyal Province is/are:\n",
      "هرمزگان\n",
      "قزوین\n",
      "کرمان\n",
      "آذربایجان شرقی\n",
      "کرمانشاه\n",
      "بوشهر\n",
      "مازندران\n",
      "اردبیل\n",
      "کردستان\n",
      "سیستان و بلوچستان\n",
      "یزد\n",
      "----------------------------------------------\n",
      "The List of Champion Province is/are:\n",
      "مرکزی\n",
      "قم\n",
      "خراسان رضوی\n",
      "فارس\n",
      "تهران\n",
      "خوزستان\n",
      "سمنان\n",
      "نامشخص\n",
      "اصفهان\n",
      "----------------------------------------------\n",
      "The List of New Customer Province is/are:\n",
      "ایلام\n",
      "خراسان جنوبی\n",
      "آذربایجان غربی\n",
      "لرستان\n",
      "گیلان\n",
      "همدان\n",
      "گلستان\n",
      "----------------------------------------------\n",
      "The List of Need Attenion Province is/are:\n",
      "زنجان\n",
      "چهارمحال و بختیاری\n",
      "----------------------------------------------\n",
      "The List of About to sleep Province is/are:\n",
      "البرز\n",
      "کهگیلویه و بویراحمد\n",
      "----------------------------------------------\n",
      "The List of Hibernating Province is/are:\n",
      "خراسان شمالی\n",
      "----------------------------------------------\n"
     ]
    }
   ],
   "source": [
    "for Customer_seg in Province_df[\"Customer_label\"].value_counts().index:\n",
    "    print(\"The List of \"+Customer_seg+\" Province is/are:\")\n",
    "    final_list=Province_df[Province_df[\"Customer_label\"]==Customer_seg][\"Province\"]\n",
    "    for name in final_list:\n",
    "        print(name)\n",
    "    print(\"----------------------------------------------\")\n",
    "    "
   ]
  }
 ],
 "metadata": {
  "kernelspec": {
   "display_name": "Python 3",
   "language": "python",
   "name": "python3"
  },
  "language_info": {
   "codemirror_mode": {
    "name": "ipython",
    "version": 3
   },
   "file_extension": ".py",
   "mimetype": "text/x-python",
   "name": "python",
   "nbconvert_exporter": "python",
   "pygments_lexer": "ipython3",
   "version": "3.6.8"
  }
 },
 "nbformat": 4,
 "nbformat_minor": 2
}
